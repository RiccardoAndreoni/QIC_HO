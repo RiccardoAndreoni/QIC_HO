{
 "cells": [
  {
   "cell_type": "markdown",
   "metadata": {
    "id": "7ToS_UJHZdcj"
   },
   "source": [
    "# Introduction to Scientific Python - 1 #\n",
    "\n",
    "This Jupyter notebook is based on that written by Cris Laumann for the ICTP Summer School on Collective Behaviour in Quantum Matter, August 29, 2018. \n",
    "\n",
    "Lecturer: Giuseppe E. Santoro.\n",
    "\n",
    "This short crash course draws heavily on a number of great resources from around the web. \n",
    "To really learn Python, it is best to spend some time working through some of the many tutorials, and then doing something yourself.\n",
    "\n",
    "Some good resources:\n",
    "\n",
    " - [The Python Tutorial](https://docs.python.org/3.7/tutorial/)\n",
    " - [Python Scientific Lecture Notes](http://scipy-lectures.github.io/index.html) \n",
    " - [A Crash Course in Python for Scientists](http://nbviewer.ipython.org/gist/rpmuller/5920182)\n",
    " \n",
    "There's lots of documentation for Python and its many packages if you seach on Google. "
   ]
  },
  {
   "cell_type": "markdown",
   "metadata": {
    "id": "61V41XyDZdcm"
   },
   "source": [
    "# Why Python? #\n",
    "\n",
    "### Simple, well-structured, general-purpose language\n",
    "  - Readability is great: good quality control and collaboration\n",
    "  - You code how you think: many books now use python as pseudocode\n",
    "  \n",
    "### High-level \n",
    "  - Rapid development\n",
    "  - Do complicated things in few lines\n",
    "\n",
    "### Interactive \n",
    "  - Rapid development and exploration\n",
    "  - No need to compile, run, debug, revise, compile\n",
    "  - Data collection, generation, analysis and publication plotting in one place\n",
    "\n",
    "### Speed\n",
    "  - Usually fast enough if you avoid DO LOOPS, use arrays and python libraries -- will discuss more\n",
    "  - Sometimes, the time you invest in coding is more important than CPU time actually needed\n",
    "  - Not as fast as C, C++, Fortran but these can be woven in where necessary\n",
    "  - **[Julia](https://julialang.org)** would combine the advantages of both worlds: think of learning it!\n",
    "\n",
    "### Large and active community of users\n",
    "  - Great online documentation / help available\n",
    "  - Open source\n",
    "  - Rich scientific computing liberaries: if a python library is available, chances are that it is much more efficient than what you would code yourself.\n",
    "  \n"
   ]
  },
  {
   "cell_type": "markdown",
   "metadata": {
    "id": "n1ZYr-stZdcn"
   },
   "source": [
    "# Scientific Python Key Components #\n",
    "\n",
    "The core pieces of the scientific Python platform are:\n",
    "\n",
    "**[Python](http://www.python.org)**, the language interpreter \n",
    "  - Many standard data types, libraries, etc\n",
    "  - Python 3.7 is the current version; **use this**\n",
    "  - Python 2.7 (released 2010) is still maintained but died in 2020\n",
    "\n",
    "**[Jupyter](http://www.jupyter.org)**: notebook based (in browser) interface\n",
    "  - Builds on **[IPython](http://www.ipython.org)**, the interactive Python shell\n",
    "  - Interactive manipulation of plots\n",
    "  - Easy to use basic parallelization\n",
    "  - Lots of useful extra bells and whistles for Python\n",
    "  \n",
    "**[Numpy](http://www.numpy.org)**, powerful numerical array objects, and routines to manipulate them. \n",
    "  - Work horse for scientific computing\n",
    "  - Basic linear algebra (np.linalg)\n",
    "  - Random numbers (np.random)\n",
    "  \n",
    "**[Scipy](http://www.scipy.org)**, high-level data processing routines. \n",
    "  - Signal processing (scipy.signal)\n",
    "  - Optimization (scipy.optimize)\n",
    "  - Special functions (scipy.special)\n",
    "  - Sparse matrices and linear algebra\n",
    "\n",
    "**[Matplotlib](http://www.matplotlib.org)**, plotting and visualization\n",
    "  - 2-D and basic 3-D interactive visualization\n",
    "  - “Publication-ready” plots\n",
    "  - LaTeX labels/annotations automagically"
   ]
  },
  {
   "cell_type": "markdown",
   "metadata": {
    "id": "_HaYlDJ_Zdco"
   },
   "source": [
    "# Installing python 3 and jupyter notebook #\n",
    "\n",
    "A quick useful read: https://www.codecademy.com/articles/install-python3.\n",
    "\n",
    "You should install a Python 3 distribution, for instance directly from https://www.python.org/ which provides also the **pip** package manager. If you are interested in machine learning and data-science, you might want to consider installing the Anaconda distribution or (slimmer) Miniconda https://docs.conda.io/en/latest/miniconda.html, which include the **conda** package manager. \n",
    "\n",
    "Finally, you should install the web-based Jupyter Notebook. See https://www.codecademy.com/articles/install-python3 for detailed instructions.     \n"
   ]
  },
  {
   "cell_type": "markdown",
   "metadata": {
    "id": "o_cCWrs-Zdco"
   },
   "source": [
    "# Jupyter Workflow #\n",
    "\n",
    "### Two primary workflows:\n",
    "\n",
    "1. Work in a Jupyter/IPython notebook. Write code in cells, analyze, plot, etc. Everything stored in **.ipynb** file.\n",
    "2. Write code in **.py** files using a text editor and run those within the IPython notebook or from the shell.\n",
    "\n",
    "We still stick to the first. \n",
    "\n",
    "While you are using a notebook, there is a **kernel** running which actually executes your commands and stores your variables, etc. If you quit/restart the kernel, all variables will be forgotten and you will need to re-execute the commands that set them up. This can be useful if you want to reset things. The input and output that is visible in the notebook is saved in the notebook file.\n",
    "\n",
    "*Note:* .py files are called **scripts** if they consist primarily of a sequence of commands to be run and **modules** if they consist primarily of function definitions for import into other scripts/notebooks. \n",
    "\n",
    "### Notebook Usage\n",
    "\n",
    "Two modes: editing and command mode.\n",
    "\n",
    "Press escape to go to command mode.\n",
    "Press return to go into editing mode on selected cell.\n",
    "\n",
    "In command mode:\n",
    "1. Press h for a list of keyboard commands.\n",
    "2. Press a or b to create a new cell above or below the current.\n",
    "3. Press m or y to convert the current cell to markdown or code.\n",
    "4. Press shift-enter to execute.\n",
    "5. Press d to delete the current cell. (Careful!)\n",
    "\n",
    "In editing mode:\n",
    "1. Press tab for autocomplete\n",
    "2. Press shift-tab for help on current object\n",
    "3. Shift-enter to execute current cell\n",
    "\n",
    "Two types of cells (you can select this with the menu to the left of the small keyboard sign):\n",
    "1. Markdown: for notes (like this)\n",
    "2. Code: for things to execute\n"
   ]
  },
  {
   "cell_type": "markdown",
   "metadata": {
    "id": "fW0qIs7aZdcq"
   },
   "source": [
    "## Markdown exercise ##\n",
    "\n",
    "Try editing this markdown block to make it more interesting. For instance, try to include some LaTeX formula like:\n",
    "$$ i \\hbar \\partial_t |\\psi(t)\\rangle = \\widehat{H}(t) |\\psi(t)\\rangle \\;. $$"
   ]
  },
  {
   "cell_type": "markdown",
   "metadata": {
    "id": "kUgVAGD7Zdcq"
   },
   "source": [
    "## Important initial import ##\n",
    "\n",
    "Almost every notebook will start importing *numpy* and *matplotlib* for later usage. To take advantage of interactive matplotlib figures (allowing zoom, etc.) we start with a *magic command* \n",
    "\n",
    "%matplotlib notebook\n",
    "\n",
    "Substituting this line with \n",
    "\n",
    "%matplotlib inline\n",
    "\n",
    "would give you static plots.\n",
    "Here is the full command one would typically include:"
   ]
  },
  {
   "cell_type": "code",
   "execution_count": 1,
   "metadata": {
    "id": "jgex0WuEZdcr"
   },
   "outputs": [],
   "source": [
    "%matplotlib notebook\n",
    "import numpy as np\n",
    "import matplotlib.pyplot as plt"
   ]
  },
  {
   "cell_type": "markdown",
   "metadata": {
    "id": "jYqLu-xVZdcr"
   },
   "source": [
    "### Using numpy and matplotlib.pyplot\n",
    "\n",
    "From now on, functions like np.array or np.sin will refer to the numpy functions array() and sin(), and similarly the plotting functions plot() or xlabel() will be available as plt.plot() and plt.xlabel().\n",
    "\n"
   ]
  },
  {
   "cell_type": "markdown",
   "metadata": {
    "id": "eKgCrBKEZdcs"
   },
   "source": [
    "### Exercise (to create a new cell, expore Tab, Shift-Tab, Shift-Return)\n",
    "\n",
    "Execute next block, then create new block (with b or +), type x and press tab, then shift-tab and then shift-return."
   ]
  },
  {
   "cell_type": "code",
   "execution_count": 2,
   "metadata": {
    "id": "EvnAECSjZdcs"
   },
   "outputs": [],
   "source": [
    "x = 10"
   ]
  },
  {
   "cell_type": "code",
   "execution_count": 3,
   "metadata": {},
   "outputs": [
    {
     "data": {
      "text/plain": [
       "10"
      ]
     },
     "execution_count": 3,
     "metadata": {},
     "output_type": "execute_result"
    }
   ],
   "source": [
    "x"
   ]
  },
  {
   "cell_type": "markdown",
   "metadata": {
    "id": "sfCWh-zQZdct"
   },
   "source": [
    "### Exercise (to practice with cells and strings)\n",
    "\n",
    "Run these cells"
   ]
  },
  {
   "cell_type": "code",
   "execution_count": 4,
   "metadata": {
    "id": "KoFmg9bqZdct",
    "outputId": "aa2d5664-2d76-4db8-91f7-d8341d3e6829"
   },
   "outputs": [
    {
     "name": "stdout",
     "output_type": "stream",
     "text": [
      "Hello, world!\n"
     ]
    }
   ],
   "source": [
    "print('Hello, world!')"
   ]
  },
  {
   "cell_type": "code",
   "execution_count": 5,
   "metadata": {
    "id": "97v_SoyQZdct",
    "outputId": "9d563225-ae8b-48ed-d9d7-abc52fdb281c"
   },
   "outputs": [
    {
     "data": {
      "text/plain": [
       "'Hello, world!'"
      ]
     },
     "execution_count": 5,
     "metadata": {},
     "output_type": "execute_result"
    }
   ],
   "source": [
    "\"Hello, world!\""
   ]
  },
  {
   "cell_type": "code",
   "execution_count": 6,
   "metadata": {
    "id": "B68fmOnuZdcu",
    "outputId": "3899d136-8844-4a7b-f014-fa1f86e078c3"
   },
   "outputs": [
    {
     "name": "stdout",
     "output_type": "stream",
     "text": [
      "Hello\n"
     ]
    }
   ],
   "source": [
    "print(\"Hello\")"
   ]
  },
  {
   "cell_type": "code",
   "execution_count": 7,
   "metadata": {
    "id": "U2-aZqx5Zdcu",
    "outputId": "651965bd-958c-4dc4-e2aa-5060e9bbc095"
   },
   "outputs": [
    {
     "data": {
      "text/plain": [
       "7.5"
      ]
     },
     "execution_count": 7,
     "metadata": {},
     "output_type": "execute_result"
    }
   ],
   "source": [
    "2.5 * 3"
   ]
  },
  {
   "cell_type": "code",
   "execution_count": 8,
   "metadata": {
    "id": "Q3F7dC4RZdcu",
    "outputId": "74deae49-161a-4680-fb50-0daab6121f87"
   },
   "outputs": [
    {
     "data": {
      "text/plain": [
       "27"
      ]
     },
     "execution_count": 8,
     "metadata": {},
     "output_type": "execute_result"
    }
   ],
   "source": [
    "3**3"
   ]
  },
  {
   "cell_type": "code",
   "execution_count": 9,
   "metadata": {
    "id": "to60DxE-Zdcv",
    "outputId": "e7f2190f-51a6-4528-c379-49fdd3c03956"
   },
   "outputs": [
    {
     "data": {
      "text/plain": [
       "6"
      ]
     },
     "execution_count": 9,
     "metadata": {},
     "output_type": "execute_result"
    }
   ],
   "source": [
    "3 + 3"
   ]
  },
  {
   "cell_type": "code",
   "execution_count": 10,
   "metadata": {
    "id": "7hvsvAt4Zdcv",
    "outputId": "942860e7-43b1-4e34-8627-7cfb97108b76"
   },
   "outputs": [
    {
     "data": {
      "text/plain": [
       "'abcd'"
      ]
     },
     "execution_count": 10,
     "metadata": {},
     "output_type": "execute_result"
    }
   ],
   "source": [
    "# Concatenating strings\n",
    "\"ab\" + \"cd\""
   ]
  },
  {
   "cell_type": "code",
   "execution_count": 11,
   "metadata": {
    "id": "PFi6-_TQZdcv",
    "outputId": "aab3d125-1fa5-4009-fa32-95166167eb29"
   },
   "outputs": [
    {
     "data": {
      "text/plain": [
       "True"
      ]
     },
     "execution_count": 11,
     "metadata": {},
     "output_type": "execute_result"
    }
   ],
   "source": [
    "# Are they the same? We test this with == : Yes, single or double quotes it does not matter ...\n",
    "\"Hello\" == 'Hello'"
   ]
  },
  {
   "cell_type": "markdown",
   "metadata": {
    "id": "XURCh3a8Zdcw"
   },
   "source": [
    "# Variables and Objects #\n",
    "\n",
    "Everything in memory in Python is an object. Every object has a type such as int (for integer), str (for strings) or ndarray (for numpy arrays). Variables can reference objects of any type and that type can change.\n",
    "\n",
    "The equals sign in programming does not mean 'is equal to' as in math. It means **'assign the object on the right to the variable on the left'**.\n"
   ]
  },
  {
   "cell_type": "code",
   "execution_count": 12,
   "metadata": {
    "id": "EmpF4ofiZdcw"
   },
   "outputs": [],
   "source": [
    "# We start with an integer object named a, to which we assign the value 3\n",
    "a = 3"
   ]
  },
  {
   "cell_type": "code",
   "execution_count": 13,
   "metadata": {
    "id": "mUpjeBAxZdcw",
    "outputId": "30635337-286e-4586-de33-9d180c33020c"
   },
   "outputs": [
    {
     "data": {
      "text/plain": [
       "3"
      ]
     },
     "execution_count": 13,
     "metadata": {},
     "output_type": "execute_result"
    }
   ],
   "source": [
    "# Typing the object name and Shift-Return gives the value\n",
    "a"
   ]
  },
  {
   "cell_type": "code",
   "execution_count": 14,
   "metadata": {
    "id": "8sCYtwRKZdcw",
    "outputId": "6338dcf1-39d1-4e1a-fc0d-929b85e95a2a"
   },
   "outputs": [
    {
     "data": {
      "text/plain": [
       "int"
      ]
     },
     "execution_count": 14,
     "metadata": {},
     "output_type": "execute_result"
    }
   ],
   "source": [
    "# Tells us what type the object a has\n",
    "type(a)"
   ]
  },
  {
   "cell_type": "code",
   "execution_count": 15,
   "metadata": {
    "id": "qZRo0j6jZdcx",
    "outputId": "e03dc843-e543-4a7f-b0e4-5beec5befec4"
   },
   "outputs": [
    {
     "data": {
      "text/plain": [
       "6"
      ]
     },
     "execution_count": 15,
     "metadata": {},
     "output_type": "execute_result"
    }
   ],
   "source": [
    "# Pretty obvious\n",
    "a+a"
   ]
  },
  {
   "cell_type": "code",
   "execution_count": 16,
   "metadata": {
    "id": "aF1K-44HZdcx",
    "outputId": "4f12403f-1d08-4308-c1c8-036ceeea0d5c"
   },
   "outputs": [
    {
     "data": {
      "text/plain": [
       "5"
      ]
     },
     "execution_count": 16,
     "metadata": {},
     "output_type": "execute_result"
    }
   ],
   "source": [
    "# Equally obvious\n",
    "2+a"
   ]
  },
  {
   "cell_type": "code",
   "execution_count": 17,
   "metadata": {
    "id": "HmMwpw9nZdcx"
   },
   "outputs": [],
   "source": [
    "# An array (here a vector) with three elements, given inside square parenthesis, comma separated\n",
    "a = np.array([3,5,8])"
   ]
  },
  {
   "cell_type": "code",
   "execution_count": 18,
   "metadata": {
    "id": "JWeq2nSZZdcy",
    "outputId": "ff63e7de-00cb-47f7-e1d9-a653101dfd26"
   },
   "outputs": [
    {
     "data": {
      "text/plain": [
       "array([3, 5, 8])"
      ]
     },
     "execution_count": 18,
     "metadata": {},
     "output_type": "execute_result"
    }
   ],
   "source": [
    "a"
   ]
  },
  {
   "cell_type": "code",
   "execution_count": 19,
   "metadata": {
    "id": "JEshUdXBZdcy",
    "outputId": "362bf622-4889-43c2-9c8d-f3b4d46ab227"
   },
   "outputs": [
    {
     "data": {
      "text/plain": [
       "numpy.ndarray"
      ]
     },
     "execution_count": 19,
     "metadata": {},
     "output_type": "execute_result"
    }
   ],
   "source": [
    "type(a)"
   ]
  },
  {
   "cell_type": "markdown",
   "metadata": {
    "id": "9-n6BnPoZdcy"
   },
   "source": [
    "**Tab completion trick**: Everything in Python (even the number 2) is an object. An object a can have methods which can be accessed by the notation a.method(). Typing a. and pressing Tab allows you to see what methods an object a supports. Try it now with our array a, selecting for instance a.shape from the huge list of methods:"
   ]
  },
  {
   "cell_type": "code",
   "execution_count": 21,
   "metadata": {
    "id": "H13OC82xZdcy",
    "outputId": "57cf38e2-7b72-44f2-9206-327104663029"
   },
   "outputs": [
    {
     "data": {
      "text/plain": [
       "3"
      ]
     },
     "execution_count": 21,
     "metadata": {},
     "output_type": "execute_result"
    }
   ],
   "source": [
    "a.size"
   ]
  },
  {
   "cell_type": "code",
   "execution_count": 22,
   "metadata": {
    "id": "pchNDl8GZdcz",
    "outputId": "834a4795-9a04-4668-c468-4352fe8af04a"
   },
   "outputs": [
    {
     "data": {
      "text/plain": [
       "array([ 6, 10, 16])"
      ]
     },
     "execution_count": 22,
     "metadata": {},
     "output_type": "execute_result"
    }
   ],
   "source": [
    "# You can sum to arrays: notice simple overloading of the + operator\n",
    "a+a"
   ]
  },
  {
   "cell_type": "code",
   "execution_count": 23,
   "metadata": {
    "id": "SMF9yQTwZdcz",
    "outputId": "bbbbcc07-1179-4ee9-f252-52d8bfd51f5b"
   },
   "outputs": [
    {
     "data": {
      "text/plain": [
       "array([ 5,  7, 10])"
      ]
     },
     "execution_count": 23,
     "metadata": {},
     "output_type": "execute_result"
    }
   ],
   "source": [
    "# Observe what happens if you sum 2:\n",
    "2+a"
   ]
  },
  {
   "cell_type": "markdown",
   "metadata": {
    "id": "ZX2i4jjgZdcz"
   },
   "source": [
    "As you see the object 2 summed to the array a promotes the 2 to being an array with every element equal to 2"
   ]
  },
  {
   "cell_type": "code",
   "execution_count": 24,
   "metadata": {
    "id": "WZAx7RgEZdcz"
   },
   "outputs": [],
   "source": [
    "# Now we redefine a to being a string\n",
    "a = \"Hello, world!\""
   ]
  },
  {
   "cell_type": "code",
   "execution_count": 25,
   "metadata": {
    "id": "O2YxxfymZdc0",
    "outputId": "7de61bf1-eb6e-4681-c9fa-55e4d4c02a1e"
   },
   "outputs": [
    {
     "data": {
      "text/plain": [
       "'Hello, world!'"
      ]
     },
     "execution_count": 25,
     "metadata": {},
     "output_type": "execute_result"
    }
   ],
   "source": [
    "a"
   ]
  },
  {
   "cell_type": "code",
   "execution_count": 26,
   "metadata": {
    "id": "Y2gER7q1Zdc0",
    "outputId": "13086bff-11c5-4576-c44e-53b90f9dd7cb"
   },
   "outputs": [
    {
     "data": {
      "text/plain": [
       "str"
      ]
     },
     "execution_count": 26,
     "metadata": {},
     "output_type": "execute_result"
    }
   ],
   "source": [
    "type(a)"
   ]
  },
  {
   "cell_type": "code",
   "execution_count": 27,
   "metadata": {
    "id": "smFaTaFmZdc0",
    "outputId": "59f355cd-6bb2-4227-de87-0e1404061d3b"
   },
   "outputs": [
    {
     "data": {
      "text/plain": [
       "'Hello, world!Hello, world!'"
      ]
     },
     "execution_count": 27,
     "metadata": {},
     "output_type": "execute_result"
    }
   ],
   "source": [
    "# Observe the overloading of the + operator: simply a concatenation of strings\n",
    "a+a"
   ]
  },
  {
   "cell_type": "code",
   "execution_count": 28,
   "metadata": {
    "id": "ic1NplEyZdc0",
    "outputId": "a1dbfa91-ea74-4d0c-9d78-b5e1800cfcd3"
   },
   "outputs": [
    {
     "ename": "TypeError",
     "evalue": "unsupported operand type(s) for +: 'int' and 'str'",
     "output_type": "error",
     "traceback": [
      "\u001b[0;31m---------------------------------------------------------------------------\u001b[0m",
      "\u001b[0;31mTypeError\u001b[0m                                 Traceback (most recent call last)",
      "\u001b[0;32m<ipython-input-28-d01b59094cdd>\u001b[0m in \u001b[0;36m<module>\u001b[0;34m\u001b[0m\n\u001b[1;32m      1\u001b[0m \u001b[0;31m# We are going for troubles ....\u001b[0m\u001b[0;34m\u001b[0m\u001b[0;34m\u001b[0m\u001b[0;34m\u001b[0m\u001b[0m\n\u001b[0;32m----> 2\u001b[0;31m \u001b[0;36m2\u001b[0m\u001b[0;34m+\u001b[0m\u001b[0ma\u001b[0m\u001b[0;34m\u001b[0m\u001b[0;34m\u001b[0m\u001b[0m\n\u001b[0m",
      "\u001b[0;31mTypeError\u001b[0m: unsupported operand type(s) for +: 'int' and 'str'"
     ]
    }
   ],
   "source": [
    "# We are going for troubles ....\n",
    "2+a"
   ]
  },
  {
   "cell_type": "code",
   "execution_count": 29,
   "metadata": {
    "id": "MSAz0mv7Zdc1",
    "outputId": "dab85cd9-4687-4d30-b89b-0384500044d9"
   },
   "outputs": [
    {
     "data": {
      "text/plain": [
       "'2Hello, world!'"
      ]
     },
     "execution_count": 29,
     "metadata": {},
     "output_type": "execute_result"
    }
   ],
   "source": [
    "# But this would be ok\n",
    "'2'+a"
   ]
  },
  {
   "cell_type": "markdown",
   "metadata": {
    "id": "b3b1qYQbZdc1"
   },
   "source": [
    "### Overloading \n",
    "\n",
    "Operators and functions will try to execute no matter what type of objects are passed to them, but they may do different things depending on the type. As we just saw, + adds numbers and concatenates strings."
   ]
  },
  {
   "cell_type": "markdown",
   "metadata": {
    "id": "Cxy97vESZdc1"
   },
   "source": [
    "### Variables as references ###\n",
    "\n",
    "All variables are **references** to the objects they contain. Assignment does not make copies of objects."
   ]
  },
  {
   "cell_type": "code",
   "execution_count": 36,
   "metadata": {
    "id": "tQtj4AIcZdc1",
    "outputId": "b2701355-d985-4c70-fb40-7629761dcefd"
   },
   "outputs": [
    {
     "data": {
      "text/plain": [
       "array([1, 2])"
      ]
     },
     "execution_count": 36,
     "metadata": {},
     "output_type": "execute_result"
    }
   ],
   "source": [
    "a = np.array([1,2])\n",
    "a"
   ]
  },
  {
   "cell_type": "code",
   "execution_count": 37,
   "metadata": {
    "id": "w-hz9NT3Zdc2",
    "outputId": "7751576b-b8e7-4c61-c905-f9a45880a47e"
   },
   "outputs": [
    {
     "data": {
      "text/plain": [
       "array([1, 2])"
      ]
     },
     "execution_count": 37,
     "metadata": {},
     "output_type": "execute_result"
    }
   ],
   "source": [
    "# We assing a to b. Both refer to the same array object\n",
    "b = a\n",
    "b"
   ]
  },
  {
   "cell_type": "code",
   "execution_count": 38,
   "metadata": {
    "id": "UA0Mc0HYZdc2",
    "outputId": "ea9c53fa-6583-448e-aa7a-d0e5b00aa07a"
   },
   "outputs": [
    {
     "data": {
      "text/plain": [
       "array([ 1, 77])"
      ]
     },
     "execution_count": 38,
     "metadata": {},
     "output_type": "execute_result"
    }
   ],
   "source": [
    "# We now modify element 0 of b\n",
    "a[1] = 77\n",
    "b"
   ]
  },
  {
   "cell_type": "code",
   "execution_count": 35,
   "metadata": {
    "id": "eWhzZOG5Zdc2",
    "outputId": "3e28dec5-66b0-4a26-b052-30f7df4a349e"
   },
   "outputs": [
    {
     "data": {
      "text/plain": [
       "array([0, 2])"
      ]
     },
     "execution_count": 35,
     "metadata": {},
     "output_type": "execute_result"
    }
   ],
   "source": [
    "# Notice how a is also modified\n",
    "a"
   ]
  },
  {
   "cell_type": "code",
   "execution_count": 39,
   "metadata": {},
   "outputs": [],
   "source": [
    "from copy import deepcopy\n",
    "a = deepcopy(b)"
   ]
  },
  {
   "cell_type": "code",
   "execution_count": 41,
   "metadata": {},
   "outputs": [
    {
     "data": {
      "text/plain": [
       "array([33, 77])"
      ]
     },
     "execution_count": 41,
     "metadata": {},
     "output_type": "execute_result"
    }
   ],
   "source": [
    "a[0]=33\n",
    "a"
   ]
  },
  {
   "cell_type": "code",
   "execution_count": 42,
   "metadata": {},
   "outputs": [
    {
     "data": {
      "text/plain": [
       "array([ 1, 77])"
      ]
     },
     "execution_count": 42,
     "metadata": {},
     "output_type": "execute_result"
    }
   ],
   "source": [
    "b"
   ]
  },
  {
   "cell_type": "markdown",
   "metadata": {
    "id": "Da-Ho1YfZdc2"
   },
   "source": [
    "# Types of Objects #\n",
    "\n",
    "## Basic Types ##\n",
    "\n",
    "1. Numeric, Immutable\n",
    "  1. Integer: -1, 0, 1, 2, ...\n",
    "  2. Float: 1.2, 1e8\n",
    "  3. Complex: 1j, 1. + 2.j\n",
    "  4. Boolean: True, False\n",
    "2. Strings, \"hi\"\n",
    "3. Tuples, (2,7, \"hi\")\n",
    "  - Ordered collection of other objects, represented by parentheses\n",
    "  - can't change after creation (*immutable*)\n",
    "3. Lists, [0,1,2,\"hi\", 4]\n",
    "  - Ordered collection of other objects, represented by square brackets\n",
    "  - can add/remove/change elements after creation (*mutable*)\n",
    "4. Dictionaries, {'hi': 3, 4: 7, 'key': 'value'}\n",
    "5. Functions, def func()\n",
    "\n",
    "## Common Scientific Types ##\n",
    "\n",
    "6. NumPy arrays, array([1,2,3]): more about them in the next notebook\n",
    "  - Like lists but all entries have same type\n",
    "7. Sparse arrays, scipy.sparse: more about them in the next notebook\n",
    "8. **[Pandas](https://pandas.pydata.org)** DataFrames, high level 'table' similar to an excel spreadsheet (not treated)"
   ]
  },
  {
   "cell_type": "markdown",
   "metadata": {
    "id": "WhwdD4geZdc3"
   },
   "source": [
    "# Basic Types: Numeric #\n",
    "\n",
    "There are 4 numeric types: \n",
    "- int: positive or negative integer\n",
    "- float: a 'floating point' number is a real number like 3.1415 with a finite precision\n",
    "- complex: has real and imaginary part, each of which is a float\n",
    "- bool: two 'Boolean' values, True or False\n"
   ]
  },
  {
   "cell_type": "code",
   "execution_count": 43,
   "metadata": {
    "id": "MSrJIx3oZdc3",
    "outputId": "4490dacc-dfca-4865-f6b8-7c4d4ee3c297"
   },
   "outputs": [
    {
     "data": {
      "text/plain": [
       "int"
      ]
     },
     "execution_count": 43,
     "metadata": {},
     "output_type": "execute_result"
    }
   ],
   "source": [
    "a = 4\n",
    "type(a)"
   ]
  },
  {
   "cell_type": "code",
   "execution_count": 44,
   "metadata": {
    "id": "ah5WS0KhZdc3",
    "outputId": "804ea8f3-8ab0-4d16-af35-12d664e2b8e8"
   },
   "outputs": [
    {
     "data": {
      "text/plain": [
       "float"
      ]
     },
     "execution_count": 44,
     "metadata": {},
     "output_type": "execute_result"
    }
   ],
   "source": [
    "c = 4.\n",
    "type(c)"
   ]
  },
  {
   "cell_type": "code",
   "execution_count": 45,
   "metadata": {
    "id": "agkKYZ1mZdc3",
    "outputId": "8753a567-2839-49cd-8f54-66040bbbf8db"
   },
   "outputs": [
    {
     "data": {
      "text/plain": [
       "complex"
      ]
     },
     "execution_count": 45,
     "metadata": {},
     "output_type": "execute_result"
    }
   ],
   "source": [
    "a = 1.5 + 1.j\n",
    "type(a)"
   ]
  },
  {
   "cell_type": "code",
   "execution_count": 47,
   "metadata": {
    "id": "DtoW2Rw4Zdc4",
    "outputId": "ef4124d9-2d84-4b7c-965a-b2bf6fd26162"
   },
   "outputs": [
    {
     "data": {
      "text/plain": [
       "1.0"
      ]
     },
     "execution_count": 47,
     "metadata": {},
     "output_type": "execute_result"
    }
   ],
   "source": [
    "a.imag"
   ]
  },
  {
   "cell_type": "code",
   "execution_count": 51,
   "metadata": {
    "id": "p8Aa_VErZdc4",
    "outputId": "f1148c44-7e5d-4fe7-887a-8c0ba92161e9"
   },
   "outputs": [
    {
     "data": {
      "text/plain": [
       "(1.5-1j)"
      ]
     },
     "execution_count": 51,
     "metadata": {},
     "output_type": "execute_result"
    }
   ],
   "source": [
    "np.conjugate(a)"
   ]
  },
  {
   "cell_type": "code",
   "execution_count": 52,
   "metadata": {
    "id": "JbtjQbCHZdc4",
    "outputId": "4149502a-1acb-4098-cb10-71252e57102e"
   },
   "outputs": [
    {
     "data": {
      "text/plain": [
       "True"
      ]
     },
     "execution_count": 52,
     "metadata": {},
     "output_type": "execute_result"
    }
   ],
   "source": [
    "flag = (5>4)\n",
    "flag"
   ]
  },
  {
   "cell_type": "code",
   "execution_count": 53,
   "metadata": {
    "id": "javtWHSBZdc5",
    "outputId": "5d26f3b6-819a-4bd1-f7ce-13855cc5f0b4"
   },
   "outputs": [
    {
     "data": {
      "text/plain": [
       "bool"
      ]
     },
     "execution_count": 53,
     "metadata": {},
     "output_type": "execute_result"
    }
   ],
   "source": [
    "type(flag)"
   ]
  },
  {
   "cell_type": "code",
   "execution_count": 54,
   "metadata": {
    "id": "14YONqTkZdc5",
    "outputId": "642e4174-99fc-4659-efb7-2030381d0f75"
   },
   "outputs": [
    {
     "data": {
      "text/plain": [
       "bool"
      ]
     },
     "execution_count": 54,
     "metadata": {},
     "output_type": "execute_result"
    }
   ],
   "source": [
    "type(True)"
   ]
  },
  {
   "cell_type": "code",
   "execution_count": 55,
   "metadata": {
    "id": "zYankMPPZdc5",
    "outputId": "5302633f-7c55-4cdd-cdad-748a02c332e4"
   },
   "outputs": [
    {
     "data": {
      "text/plain": [
       "1.0"
      ]
     },
     "execution_count": 55,
     "metadata": {},
     "output_type": "execute_result"
    }
   ],
   "source": [
    "# Type conversion\n",
    "float(1)"
   ]
  },
  {
   "cell_type": "markdown",
   "metadata": {
    "id": "_vJERIUsZdc5"
   },
   "source": [
    "### Careful with integer division!\n",
    "\n",
    "In Python 3, dividing integers promotes to a float. Use // for integer division."
   ]
  },
  {
   "cell_type": "code",
   "execution_count": 56,
   "metadata": {
    "id": "kwKW2adAZdc5",
    "outputId": "3b6ad228-f3f8-4e2f-896a-30567db6e64d"
   },
   "outputs": [
    {
     "data": {
      "text/plain": [
       "1.5"
      ]
     },
     "execution_count": 56,
     "metadata": {},
     "output_type": "execute_result"
    }
   ],
   "source": [
    "3/2"
   ]
  },
  {
   "cell_type": "code",
   "execution_count": 57,
   "metadata": {
    "id": "-RfwMDRhZdc6",
    "outputId": "3d5772a9-f875-4d0b-8450-6c324f0879da"
   },
   "outputs": [
    {
     "data": {
      "text/plain": [
       "1.5"
      ]
     },
     "execution_count": 57,
     "metadata": {},
     "output_type": "execute_result"
    }
   ],
   "source": [
    "3/2."
   ]
  },
  {
   "cell_type": "markdown",
   "metadata": {
    "id": "PRToAp5YZdc6"
   },
   "source": [
    "***Force integer division:***"
   ]
  },
  {
   "cell_type": "code",
   "execution_count": 58,
   "metadata": {
    "id": "YoBzZty3Zdc6",
    "outputId": "45b13981-e68f-451b-96f3-b82310e1c1c4"
   },
   "outputs": [
    {
     "data": {
      "text/plain": [
       "1"
      ]
     },
     "execution_count": 58,
     "metadata": {},
     "output_type": "execute_result"
    }
   ],
   "source": [
    "3//2"
   ]
  },
  {
   "cell_type": "markdown",
   "metadata": {
    "id": "HxUYo5TaZdc6"
   },
   "source": [
    "# Basic Types: Strings #\n",
    "\n",
    "Strings are **immutable** sequences of characters. This means you can't change a character in the middle of a string, you have to create a new string. \n",
    "\n",
    "Literal strings can be written with **single or double-quotes**. Multi-line strings with **triple quotes**. 'Raw' (r) strings are useful for embedding LaTeX because they treat backslashes differently."
   ]
  },
  {
   "cell_type": "code",
   "execution_count": 59,
   "metadata": {
    "id": "5tieWOAeZdc7",
    "outputId": "baf1fd65-82b7-4c69-b604-040f05a11fc6"
   },
   "outputs": [
    {
     "data": {
      "text/plain": [
       "True"
      ]
     },
     "execution_count": 59,
     "metadata": {},
     "output_type": "execute_result"
    }
   ],
   "source": [
    "'Hello' == \"Hello\""
   ]
  },
  {
   "cell_type": "code",
   "execution_count": 60,
   "metadata": {
    "id": "LjKdlLQ0Zdc7"
   },
   "outputs": [],
   "source": [
    "a = \"\"\"This is a multiline string.\n",
    "Observe how the newline symbol appears!\"\"\""
   ]
  },
  {
   "cell_type": "code",
   "execution_count": 61,
   "metadata": {
    "id": "Yqn2EZDSZdc7",
    "outputId": "bcf115d7-29b9-482b-c1c8-6cefdf092fec"
   },
   "outputs": [
    {
     "data": {
      "text/plain": [
       "'This is a multiline string.\\nObserve how the newline symbol appears!'"
      ]
     },
     "execution_count": 61,
     "metadata": {},
     "output_type": "execute_result"
    }
   ],
   "source": [
    "a"
   ]
  },
  {
   "cell_type": "code",
   "execution_count": 62,
   "metadata": {
    "id": "ISYJ1UJ2Zdc7",
    "outputId": "48fce403-fb87-44e0-b1b0-46466189e2e8"
   },
   "outputs": [
    {
     "name": "stdout",
     "output_type": "stream",
     "text": [
      "\n",
      "u\n"
     ]
    }
   ],
   "source": [
    "# Observe here: \\n is a newline\n",
    "print(\"\\nu\")"
   ]
  },
  {
   "cell_type": "code",
   "execution_count": 63,
   "metadata": {
    "id": "GjhcPwImZdc8",
    "outputId": "4df20720-af9f-4aca-a230-bc2ff6830df5"
   },
   "outputs": [
    {
     "name": "stdout",
     "output_type": "stream",
     "text": [
      "\\nu\n"
     ]
    }
   ],
   "source": [
    "# Observe here: with r, things change ....\n",
    "print(r\"\\nu\")"
   ]
  },
  {
   "cell_type": "code",
   "execution_count": 64,
   "metadata": {
    "id": "uTONlGw0Zdc8"
   },
   "outputs": [],
   "source": [
    "a = 3.1415"
   ]
  },
  {
   "cell_type": "code",
   "execution_count": 65,
   "metadata": {
    "id": "2KdihUJKZdc8",
    "outputId": "415d486f-f1d9-4230-d348-9e331a06330c"
   },
   "outputs": [
    {
     "data": {
      "text/plain": [
       "'This is pi 3.1415'"
      ]
     },
     "execution_count": 65,
     "metadata": {},
     "output_type": "execute_result"
    }
   ],
   "source": [
    "# Simple formatting (type convert to string)\n",
    "\"This is pi \" + str(a)"
   ]
  },
  {
   "cell_type": "code",
   "execution_count": 67,
   "metadata": {
    "id": "S6aiRJ0IZdc8",
    "outputId": "06e269b5-b906-4774-be4a-d81ccbd1b94c"
   },
   "outputs": [
    {
     "data": {
      "text/plain": [
       "'Some label 3.142, hello'"
      ]
     },
     "execution_count": 67,
     "metadata": {},
     "output_type": "execute_result"
    }
   ],
   "source": [
    "# Old style string formatting (as sprintf in C)\n",
    "\"Some label %1.3f, %s\" % (a, \"hello\")"
   ]
  },
  {
   "cell_type": "code",
   "execution_count": 68,
   "metadata": {
    "id": "RvCbS7lkZdc9",
    "outputId": "ea9c243b-465a-439c-9b93-9bf2039115c7"
   },
   "outputs": [
    {
     "data": {
      "text/plain": [
       "'Some label 3.14, hello'"
      ]
     },
     "execution_count": 68,
     "metadata": {},
     "output_type": "execute_result"
    }
   ],
   "source": [
    "# New style string formatting (better read some documentation if you want nice things ....) \n",
    "\"Some label {:1.2f}, {}\".format(a, \"hello\")"
   ]
  },
  {
   "cell_type": "markdown",
   "metadata": {
    "id": "rAIWgh43Zdc9"
   },
   "source": [
    "# Basic Types: Lists #\n",
    "\n",
    "Python lists store **ordered** collections of arbitrary objects. They are efficient maps **from index to values**. Lists are represented by square brackets [ ]. \n",
    "\n",
    "Lists are **mutable**: their contents can be changed after they are created.\n",
    "\n",
    "It takes time O(1) to:\n",
    "1. Lookup an entry at given index.\n",
    "2. Change an item at a given index.\n",
    "3. Append or remove (pop) from the end of the list. \n",
    "\n",
    "It takes time O(N) to:\n",
    "1. Find items by value if you don't know where they are.\n",
    "2. Remove items from near the beginning of the list.\n",
    "\n",
    "You can also grab arbitrary **slices** from a list efficiently.\n",
    "\n",
    "Lists are 0-indexed. This means that the first item in the list is at position 0 and the\n",
    "last item is at position N-1 where N is the length of the list."
   ]
  },
  {
   "cell_type": "code",
   "execution_count": 69,
   "metadata": {
    "id": "T9eYsCosZdc9"
   },
   "outputs": [],
   "source": [
    "days_of_the_week = [\"Sunday\",\"Monday\",\"Tuesday\",\"Wednesday\",\"Thursday\",\"Friday\"]"
   ]
  },
  {
   "cell_type": "code",
   "execution_count": 70,
   "metadata": {
    "id": "98CDX4LUZdc9",
    "outputId": "50ec5935-d14c-487b-c339-4c3de213d4cc"
   },
   "outputs": [
    {
     "data": {
      "text/plain": [
       "'Sunday'"
      ]
     },
     "execution_count": 70,
     "metadata": {},
     "output_type": "execute_result"
    }
   ],
   "source": [
    "days_of_the_week[0]"
   ]
  },
  {
   "cell_type": "code",
   "execution_count": 71,
   "metadata": {
    "id": "MJeOI6bJZdc-",
    "outputId": "d595359c-56bd-4f83-a5d9-ecc2ce835edd"
   },
   "outputs": [
    {
     "data": {
      "text/plain": [
       "['Tuesday', 'Wednesday', 'Thursday']"
      ]
     },
     "execution_count": 71,
     "metadata": {},
     "output_type": "execute_result"
    }
   ],
   "source": [
    "# The slice from 2 (excluded) to 5 (include) if counting from 1... (inclusive bottom, exclusive top, counting from 0)\n",
    "days_of_the_week[2:5]"
   ]
  },
  {
   "cell_type": "code",
   "execution_count": 72,
   "metadata": {
    "id": "IRGFCAslZdc-",
    "outputId": "23b969cf-3791-494a-944a-697312f9b900"
   },
   "outputs": [
    {
     "data": {
      "text/plain": [
       "'Friday'"
      ]
     },
     "execution_count": 72,
     "metadata": {},
     "output_type": "execute_result"
    }
   ],
   "source": [
    "# element -1 is always the last\n",
    "days_of_the_week[-1]"
   ]
  },
  {
   "cell_type": "code",
   "execution_count": 73,
   "metadata": {
    "id": "LcBwsLnjZdc-",
    "outputId": "e3637b95-d3de-488e-cf55-f97ea9fb9eda"
   },
   "outputs": [
    {
     "data": {
      "text/plain": [
       "['Sunday', 'Tuesday', 'Thursday']"
      ]
     },
     "execution_count": 73,
     "metadata": {},
     "output_type": "execute_result"
    }
   ],
   "source": [
    "# every other day\n",
    "days_of_the_week[0:-1:2]"
   ]
  },
  {
   "cell_type": "code",
   "execution_count": 74,
   "metadata": {
    "id": "ey6VLn0mZdc-",
    "outputId": "70864025-2854-42a9-85bf-af12df890705"
   },
   "outputs": [
    {
     "data": {
      "text/plain": [
       "['Sunday', 'Tuesday', 'Thursday']"
      ]
     },
     "execution_count": 74,
     "metadata": {},
     "output_type": "execute_result"
    }
   ],
   "source": [
    "# every other day (shorter)\n",
    "days_of_the_week[::2]"
   ]
  },
  {
   "cell_type": "code",
   "execution_count": 75,
   "metadata": {
    "id": "giPyaHf1Zdc_"
   },
   "outputs": [],
   "source": [
    "# We append an element to the list\n",
    "days_of_the_week.append(\"Saturday\")"
   ]
  },
  {
   "cell_type": "code",
   "execution_count": 76,
   "metadata": {
    "id": "kZ2-5goVZdc_",
    "outputId": "68d1aaaa-9124-4259-eda3-425ce4fe583c"
   },
   "outputs": [
    {
     "data": {
      "text/plain": [
       "'Saturday'"
      ]
     },
     "execution_count": 76,
     "metadata": {},
     "output_type": "execute_result"
    }
   ],
   "source": [
    "# Observe that the last element changed \n",
    "days_of_the_week[-1]"
   ]
  },
  {
   "cell_type": "code",
   "execution_count": null,
   "metadata": {
    "id": "tmBF90MgZdc_"
   },
   "outputs": [],
   "source": [
    "# We modify an elelemnt\n",
    "days_of_the_week[5] = \"A nice Friday\""
   ]
  },
  {
   "cell_type": "code",
   "execution_count": 77,
   "metadata": {
    "id": "68ItafylZdc_",
    "outputId": "9dc734ee-0289-44d6-8925-017f8a4dad98"
   },
   "outputs": [
    {
     "data": {
      "text/plain": [
       "['Sunday', 'Monday', 'Tuesday', 'Wednesday', 'Thursday', 'Friday', 'Saturday']"
      ]
     },
     "execution_count": 77,
     "metadata": {},
     "output_type": "execute_result"
    }
   ],
   "source": [
    "days_of_the_week"
   ]
  },
  {
   "cell_type": "code",
   "execution_count": 78,
   "metadata": {
    "id": "Dxt1dahHZdc_",
    "outputId": "8f071145-ecb2-4ad1-f756-29ff99805ae1"
   },
   "outputs": [
    {
     "data": {
      "text/plain": [
       "7"
      ]
     },
     "execution_count": 78,
     "metadata": {},
     "output_type": "execute_result"
    }
   ],
   "source": [
    "# Get the length of the list\n",
    "len(days_of_the_week)"
   ]
  },
  {
   "cell_type": "code",
   "execution_count": 79,
   "metadata": {
    "id": "BSJtDhUPZddA"
   },
   "outputs": [],
   "source": [
    "# Sort the list in place\n",
    "days_of_the_week.sort()"
   ]
  },
  {
   "cell_type": "code",
   "execution_count": 80,
   "metadata": {
    "id": "rPL_GS3jZddA",
    "outputId": "8472a679-426d-44c5-89ac-a1d6128b08dd"
   },
   "outputs": [
    {
     "data": {
      "text/plain": [
       "['Friday', 'Monday', 'Saturday', 'Sunday', 'Thursday', 'Tuesday', 'Wednesday']"
      ]
     },
     "execution_count": 80,
     "metadata": {},
     "output_type": "execute_result"
    }
   ],
   "source": [
    "days_of_the_week"
   ]
  },
  {
   "cell_type": "markdown",
   "metadata": {
    "id": "J8epwRgZZddA"
   },
   "source": [
    "**Remember tab completion**: Every thing in Python (even the number 10) is an object. An object a can have methods which can be accessed by the notation a.method(). Typing a. and pressing Tab allows you to see what methods an object a supports. Try it now with days_of_the_week:\n"
   ]
  },
  {
   "cell_type": "code",
   "execution_count": 89,
   "metadata": {
    "id": "suE0ciSiZddA"
   },
   "outputs": [
    {
     "name": "stdout",
     "output_type": "stream",
     "text": [
      "None\n"
     ]
    }
   ],
   "source": [
    "newdays = days_of_the_week.reverse()\n",
    "print(newdays)"
   ]
  },
  {
   "cell_type": "markdown",
   "metadata": {
    "id": "WEADApQIZddB"
   },
   "source": [
    "**Each item is arbitrary**: You can have lists of lists, or lists of different types of objects."
   ]
  },
  {
   "cell_type": "code",
   "execution_count": 90,
   "metadata": {
    "id": "gY3gHTaYZddB",
    "outputId": "9d8b9012-8ce0-4fe6-c64f-0aecbff435d0"
   },
   "outputs": [
    {
     "data": {
      "text/plain": [
       "['zero', 1, 'two', 3.0, (4+0j)]"
      ]
     },
     "execution_count": 90,
     "metadata": {},
     "output_type": "execute_result"
    }
   ],
   "source": [
    "# A list of strings and numbers\n",
    "aList = [\"zero\", 1, \"two\", 3., 4.+0j]\n",
    "aList"
   ]
  },
  {
   "cell_type": "code",
   "execution_count": 91,
   "metadata": {
    "id": "XJUfl9qrZddB"
   },
   "outputs": [],
   "source": [
    "# A list of lists \n",
    "listOfLists = [[1,2], [3,4], [5,6,7], 'Hi']"
   ]
  },
  {
   "cell_type": "code",
   "execution_count": 92,
   "metadata": {
    "id": "ZBjX5w8CZddB",
    "outputId": "25b650fc-176b-434a-a503-28801d546c29"
   },
   "outputs": [
    {
     "data": {
      "text/plain": [
       "[5, 6, 7]"
      ]
     },
     "execution_count": 92,
     "metadata": {},
     "output_type": "execute_result"
    }
   ],
   "source": [
    "# Element 2 (notice: it is a list)\n",
    "listOfLists[2]"
   ]
  },
  {
   "cell_type": "code",
   "execution_count": 93,
   "metadata": {
    "id": "KNz_BTHSZddB",
    "outputId": "f263d073-17cb-42fe-bb00-d26189a74593"
   },
   "outputs": [
    {
     "data": {
      "text/plain": [
       "5"
      ]
     },
     "execution_count": 93,
     "metadata": {},
     "output_type": "execute_result"
    }
   ],
   "source": [
    "# Element 1 of element 2 of listOfLists (it is now a number)\n",
    "listOfLists[2][0]"
   ]
  },
  {
   "cell_type": "markdown",
   "metadata": {
    "id": "j4fTJaoWZddC"
   },
   "source": [
    "# Basic Types: Dictionaries #\n",
    "\n",
    "A dictionary is an efficient map **from keys to values**. They are represented by curly brackets {}. \n",
    "\n",
    "Dictionaries are **mutable** but all **keys must be immutable**. IE. keys can be strings, numbers, or tuples thereof but not lists or other dictionaries. Values can be anything.\n",
    "\n",
    "It is **unordered** but takes time O(1) to:\n",
    "1. Lookup a value from a key\n",
    "2. Add a key, value pair\n",
    "3. Remove a key, value pair\n",
    "\n",
    "It takes time O(N) to find an entry with a particular value.\n",
    "\n",
    "You can iterate through all the entries efficiently O(N)."
   ]
  },
  {
   "cell_type": "code",
   "execution_count": 94,
   "metadata": {
    "id": "Zw-6nstbZddC"
   },
   "outputs": [],
   "source": [
    "tel = {'emanuele': 5752, 'sebastiano': 5578}\n",
    "tel['francesco'] = 5915"
   ]
  },
  {
   "cell_type": "code",
   "execution_count": 95,
   "metadata": {
    "id": "hcziHagBZddC",
    "outputId": "7d744fc0-e015-4ee3-83ce-07825bc169f7"
   },
   "outputs": [
    {
     "data": {
      "text/plain": [
       "{'emanuele': 5752, 'sebastiano': 5578, 'francesco': 5915}"
      ]
     },
     "execution_count": 95,
     "metadata": {},
     "output_type": "execute_result"
    }
   ],
   "source": [
    "tel"
   ]
  },
  {
   "cell_type": "code",
   "execution_count": 96,
   "metadata": {
    "id": "y0M56HofZddD",
    "outputId": "65d440a2-acde-42e6-c2f4-0b444889bdff"
   },
   "outputs": [
    {
     "data": {
      "text/plain": [
       "5578"
      ]
     },
     "execution_count": 96,
     "metadata": {},
     "output_type": "execute_result"
    }
   ],
   "source": [
    "tel['sebastiano']"
   ]
  },
  {
   "cell_type": "code",
   "execution_count": 97,
   "metadata": {
    "id": "ktWV6euLZddD",
    "outputId": "5e66320b-58de-45d0-d97e-d8b5f97724cb"
   },
   "outputs": [
    {
     "data": {
      "text/plain": [
       "dict_keys(['emanuele', 'sebastiano', 'francesco'])"
      ]
     },
     "execution_count": 97,
     "metadata": {},
     "output_type": "execute_result"
    }
   ],
   "source": [
    "tel.keys()"
   ]
  },
  {
   "cell_type": "code",
   "execution_count": 98,
   "metadata": {
    "id": "QomrIW1yZddD",
    "outputId": "dad1c8aa-0db1-4d8c-d646-4a5208ce1c92"
   },
   "outputs": [
    {
     "data": {
      "text/plain": [
       "dict_values([5752, 5578, 5915])"
      ]
     },
     "execution_count": 98,
     "metadata": {},
     "output_type": "execute_result"
    }
   ],
   "source": [
    "tel.values()"
   ]
  },
  {
   "cell_type": "code",
   "execution_count": 99,
   "metadata": {
    "id": "h7EVxH_1ZddD",
    "outputId": "9e8e3b6f-f4d6-44e5-9d72-ad95a21c98eb"
   },
   "outputs": [
    {
     "data": {
      "text/plain": [
       "3"
      ]
     },
     "execution_count": 99,
     "metadata": {},
     "output_type": "execute_result"
    }
   ],
   "source": [
    "len(tel)"
   ]
  },
  {
   "cell_type": "code",
   "execution_count": 100,
   "metadata": {
    "id": "H4VXDrVYZddE",
    "outputId": "ac410be7-03aa-455c-96d9-4e14d7f67e9d"
   },
   "outputs": [
    {
     "data": {
      "text/plain": [
       "True"
      ]
     },
     "execution_count": 100,
     "metadata": {},
     "output_type": "execute_result"
    }
   ],
   "source": [
    "'francesco' in tel"
   ]
  },
  {
   "cell_type": "code",
   "execution_count": 101,
   "metadata": {
    "id": "s0In-tbhZddE"
   },
   "outputs": [],
   "source": [
    "del tel['francesco']"
   ]
  },
  {
   "cell_type": "code",
   "execution_count": 102,
   "metadata": {
    "id": "kHX1HISDZddE",
    "outputId": "770e9481-3ce8-45d8-8304-884bcac25071"
   },
   "outputs": [
    {
     "data": {
      "text/plain": [
       "{'emanuele': 5752, 'sebastiano': 5578}"
      ]
     },
     "execution_count": 102,
     "metadata": {},
     "output_type": "execute_result"
    }
   ],
   "source": [
    "tel"
   ]
  },
  {
   "cell_type": "markdown",
   "metadata": {
    "id": "KQF_geG1ZddE"
   },
   "source": [
    "# Basic Types: Tuples #\n",
    "\n",
    "A tuple is an **ordered** collection of objects. They are represented by round parantheses ().\n",
    "\n",
    "Tuples are *almost like lists* but they are **immutable**. This means that they cannot be changed once they are created. "
   ]
  },
  {
   "cell_type": "code",
   "execution_count": 103,
   "metadata": {
    "id": "89Qdo_gHZddF",
    "outputId": "9bf9ebb8-db1f-4287-ee5f-44659cf5e72a"
   },
   "outputs": [
    {
     "data": {
      "text/plain": [
       "(1, 2, 3, 'Hi')"
      ]
     },
     "execution_count": 103,
     "metadata": {},
     "output_type": "execute_result"
    }
   ],
   "source": [
    "t = (1,2,3,'Hi')\n",
    "t"
   ]
  },
  {
   "cell_type": "code",
   "execution_count": 104,
   "metadata": {
    "id": "oFLeVvQyZddF",
    "outputId": "b465ceee-663f-4802-ff8e-108ff3fcd5ca"
   },
   "outputs": [
    {
     "ename": "TypeError",
     "evalue": "'tuple' object does not support item assignment",
     "output_type": "error",
     "traceback": [
      "\u001b[0;31m---------------------------------------------------------------------------\u001b[0m",
      "\u001b[0;31mTypeError\u001b[0m                                 Traceback (most recent call last)",
      "\u001b[0;32m<ipython-input-104-e89466f5bd6a>\u001b[0m in \u001b[0;36m<module>\u001b[0;34m\u001b[0m\n\u001b[1;32m      1\u001b[0m \u001b[0;31m# IMMUTABLE !\u001b[0m\u001b[0;34m\u001b[0m\u001b[0;34m\u001b[0m\u001b[0;34m\u001b[0m\u001b[0m\n\u001b[0;32m----> 2\u001b[0;31m \u001b[0mt\u001b[0m\u001b[0;34m[\u001b[0m\u001b[0;36m0\u001b[0m\u001b[0;34m]\u001b[0m \u001b[0;34m=\u001b[0m \u001b[0;36m2\u001b[0m\u001b[0;34m\u001b[0m\u001b[0;34m\u001b[0m\u001b[0m\n\u001b[0m",
      "\u001b[0;31mTypeError\u001b[0m: 'tuple' object does not support item assignment"
     ]
    }
   ],
   "source": [
    "# IMMUTABLE !\n",
    "t[0] = 2"
   ]
  },
  {
   "cell_type": "markdown",
   "metadata": {
    "id": "SgOkC3gXZddF"
   },
   "source": [
    "The empty tuple and length 1 tuples have special notation since parentheses can also represent grouping."
   ]
  },
  {
   "cell_type": "code",
   "execution_count": 105,
   "metadata": {
    "id": "WpbdTa_9ZddF",
    "outputId": "0293bd03-76f5-41da-9eae-162852cc981a"
   },
   "outputs": [
    {
     "data": {
      "text/plain": [
       "()"
      ]
     },
     "execution_count": 105,
     "metadata": {},
     "output_type": "execute_result"
    }
   ],
   "source": [
    "emptyTuple = ()\n",
    "emptyTuple"
   ]
  },
  {
   "cell_type": "code",
   "execution_count": 112,
   "metadata": {
    "id": "zHg-MD1sZddG",
    "outputId": "136c9768-b8d4-49ca-8396-ae288f9f20dc"
   },
   "outputs": [
    {
     "data": {
      "text/plain": [
       "('hi',)"
      ]
     },
     "execution_count": 112,
     "metadata": {},
     "output_type": "execute_result"
    }
   ],
   "source": [
    "# Notice comma after element\n",
    "lengthOne = ('hi',)\n",
    "lengthOne"
   ]
  },
  {
   "cell_type": "code",
   "execution_count": 113,
   "metadata": {
    "id": "nFaXaBhaZddG",
    "outputId": "93fe74a1-39d1-4789-9003-5a36768c8e6c"
   },
   "outputs": [
    {
     "data": {
      "text/plain": [
       "tuple"
      ]
     },
     "execution_count": 113,
     "metadata": {},
     "output_type": "execute_result"
    }
   ],
   "source": [
    "type(lengthOne)"
   ]
  },
  {
   "cell_type": "code",
   "execution_count": 108,
   "metadata": {
    "id": "ppGrSjkbZddG",
    "outputId": "2087ce6d-7199-4ebb-99bf-0221b2537309"
   },
   "outputs": [
    {
     "data": {
      "text/plain": [
       "'hi'"
      ]
     },
     "execution_count": 108,
     "metadata": {},
     "output_type": "execute_result"
    }
   ],
   "source": [
    "# Element 0\n",
    "lengthOne[0]"
   ]
  },
  {
   "cell_type": "code",
   "execution_count": 109,
   "metadata": {
    "id": "uhau4d7xZddG",
    "outputId": "e9f3f741-97f3-497d-b995-94a05bf9757b"
   },
   "outputs": [
    {
     "ename": "IndexError",
     "evalue": "tuple index out of range",
     "output_type": "error",
     "traceback": [
      "\u001b[0;31m---------------------------------------------------------------------------\u001b[0m",
      "\u001b[0;31mIndexError\u001b[0m                                Traceback (most recent call last)",
      "\u001b[0;32m<ipython-input-109-3711f8d8ed3f>\u001b[0m in \u001b[0;36m<module>\u001b[0;34m\u001b[0m\n\u001b[1;32m      1\u001b[0m \u001b[0;31m# Element 1 (non existing)\u001b[0m\u001b[0;34m\u001b[0m\u001b[0;34m\u001b[0m\u001b[0;34m\u001b[0m\u001b[0m\n\u001b[0;32m----> 2\u001b[0;31m \u001b[0mlengthOne\u001b[0m\u001b[0;34m[\u001b[0m\u001b[0;36m1\u001b[0m\u001b[0;34m]\u001b[0m\u001b[0;34m\u001b[0m\u001b[0;34m\u001b[0m\u001b[0m\n\u001b[0m",
      "\u001b[0;31mIndexError\u001b[0m: tuple index out of range"
     ]
    }
   ],
   "source": [
    "# Element 1 (non existing)\n",
    "lengthOne[1]"
   ]
  },
  {
   "cell_type": "code",
   "execution_count": 114,
   "metadata": {
    "id": "vveOyjQmZddG",
    "outputId": "7ec49bd6-97aa-464e-b70c-fbb5fe198166"
   },
   "outputs": [
    {
     "data": {
      "text/plain": [
       "'hi'"
      ]
     },
     "execution_count": 114,
     "metadata": {},
     "output_type": "execute_result"
    }
   ],
   "source": [
    "# Observe the wrong way of defining a tuple with supposedly 1 element, if you omit the comma\n",
    "notLengthOne = ('hi')\n",
    "notLengthOne"
   ]
  },
  {
   "cell_type": "code",
   "execution_count": 115,
   "metadata": {
    "id": "VJlaQgXdZddH",
    "outputId": "a4eb4017-5eb7-4f6c-fde0-880f209d1188"
   },
   "outputs": [
    {
     "data": {
      "text/plain": [
       "str"
      ]
     },
     "execution_count": 115,
     "metadata": {},
     "output_type": "execute_result"
    }
   ],
   "source": [
    "# It is not a tuple, but a string: () is used for grouping\n",
    "type(notLengthOne)"
   ]
  },
  {
   "cell_type": "code",
   "execution_count": 116,
   "metadata": {
    "id": "2HUe2qMeZddH",
    "outputId": "8c6950cc-c73f-466f-de2d-d87c6c7e2976"
   },
   "outputs": [
    {
     "data": {
      "text/plain": [
       "'h'"
      ]
     },
     "execution_count": 116,
     "metadata": {},
     "output_type": "execute_result"
    }
   ],
   "source": [
    "# Address element 0 of the string\n",
    "notLengthOne[0]"
   ]
  },
  {
   "cell_type": "code",
   "execution_count": 117,
   "metadata": {
    "id": "nyFm1sapZddH",
    "outputId": "72784082-00c8-4073-c439-2328cbda1d28"
   },
   "outputs": [
    {
     "data": {
      "text/plain": [
       "'i'"
      ]
     },
     "execution_count": 117,
     "metadata": {},
     "output_type": "execute_result"
    }
   ],
   "source": [
    "notLengthOne[1]"
   ]
  },
  {
   "cell_type": "markdown",
   "metadata": {
    "id": "IU-tC7TXZddH"
   },
   "source": [
    "# Control Flow #\n",
    "\n",
    "The flow of a program is the order in which the computer executes the statements in the code. Typically, this is in order from top to bottom. However, there are many cases where we want to change the flow in some way. For example, we might want to divide two numbers but only if the divisor is not zero. Or we might want to iterate: repeat a block of code many times for each value in some list. The commands which allow these are called **control flow commands**.\n",
    "\n",
    "**WARNING**: Python cares about **white space**! You must **INDENT CORRECTLY** because that's how Python knows when a block of code ends. \n",
    "\n",
    "Typically, people indent with 4 spaces per block but 2 spaces or tabs are okay. They must be consistent in any block."
   ]
  },
  {
   "cell_type": "markdown",
   "metadata": {
    "id": "BwYDs_2vZddI"
   },
   "source": [
    "### If/elif/else"
   ]
  },
  {
   "cell_type": "code",
   "execution_count": 121,
   "metadata": {
    "id": "i3_NOgpsZddI",
    "outputId": "a7e55dce-7709-408a-ee78-f433bcfaf499"
   },
   "outputs": [
    {
     "name": "stdout",
     "output_type": "stream",
     "text": [
      "Not this one either.\n"
     ]
    }
   ],
   "source": [
    "if 2>3:\n",
    "    print(\"Yes\")\n",
    "    print(\"It is\")\n",
    "\n",
    "elif 6>4:\n",
    "    print(\"Not this one either.\")\n",
    "    \n",
    "else:\n",
    "    print(\"Not\")\n",
    "    print(\"At all\")"
   ]
  },
  {
   "cell_type": "markdown",
   "metadata": {
    "id": "OQcho_9KZddI"
   },
   "source": [
    "### For Loops ###\n",
    "\n",
    "For loops *iterate* through elements in a collection. This can be a list, tuple, dictionary, array or any other such collection. \n",
    "\n",
    "These are the most *Pythonic* way to think about iterations."
   ]
  },
  {
   "cell_type": "code",
   "execution_count": 123,
   "metadata": {
    "id": "Ms-uVlQJZddI",
    "outputId": "caf31cbe-0c1c-4d2a-92be-c6d1d4b5d755"
   },
   "outputs": [
    {
     "name": "stdout",
     "output_type": "stream",
     "text": [
      "The cube of 0 is 0\n",
      "The cube of 1 is 1\n",
      "The cube of 2 is 8\n",
      "The cube of 3 is 27\n",
      "The cube of 4 is 64\n",
      "The cube of 5 is 125\n",
      "The cube of 6 is 216\n"
     ]
    }
   ],
   "source": [
    "# Observe that range(5) is a list with numbers from 0 to 4\n",
    "for i in range(7):\n",
    "    j = i**3\n",
    "    print(\"The cube of \" + str(i) + \" is \" + str(j))"
   ]
  },
  {
   "cell_type": "code",
   "execution_count": 124,
   "metadata": {
    "id": "szVK-Hb6ZddJ",
    "outputId": "51bd2980-9a8b-446f-f5a3-d6a31b33318b"
   },
   "outputs": [
    {
     "name": "stdout",
     "output_type": "stream",
     "text": [
      "Today is Friday\n",
      "Today is Monday\n",
      "Today is Saturday\n",
      "Today is Sunday\n",
      "Today is Thursday\n",
      "Today is Tuesday\n",
      "Today is Wednesday\n"
     ]
    }
   ],
   "source": [
    "for day in days_of_the_week:\n",
    "    print(\"Today is \" + day)"
   ]
  },
  {
   "cell_type": "code",
   "execution_count": 128,
   "metadata": {
    "id": "q2E5kxmUZddJ",
    "outputId": "d6087043-5b44-490f-ad54-c4ff6651c9a0"
   },
   "outputs": [
    {
     "name": "stdout",
     "output_type": "stream",
     "text": [
      "emanuele's telephone number is 5752\n",
      "sebastiano's telephone number is 5578\n"
     ]
    }
   ],
   "source": [
    "for key in tel:\n",
    "    print(key + \"'s telephone number is \" + str(tel[key]))"
   ]
  },
  {
   "cell_type": "markdown",
   "metadata": {
    "id": "fHqM3GCRZddJ"
   },
   "source": [
    "**Enumerate** to get **index and value** of iteration element in a tuple"
   ]
  },
  {
   "cell_type": "code",
   "execution_count": 129,
   "metadata": {
    "id": "VIc0sbHSZddJ",
    "outputId": "47ab1611-f816-45d1-ec89-addc785abdce"
   },
   "outputs": [
    {
     "name": "stdout",
     "output_type": "stream",
     "text": [
      "0 this\n",
      "1 notebook\n",
      "2 is\n",
      "3 useful\n"
     ]
    }
   ],
   "source": [
    "# I define a tuple\n",
    "words = ('this', 'notebook', 'is', 'useful')\n",
    "\n",
    "for (i, word) in enumerate(words):\n",
    "    print(i, word)"
   ]
  },
  {
   "cell_type": "markdown",
   "metadata": {
    "id": "LwjuFuahZddK"
   },
   "source": [
    "### While Loops\n",
    "\n",
    "Repeats a block of code while a condition holds true."
   ]
  },
  {
   "cell_type": "code",
   "execution_count": 132,
   "metadata": {
    "id": "uq632u7YZddK",
    "outputId": "a8ce97a1-ac60-45f5-9460-15377414f0c4"
   },
   "outputs": [
    {
     "name": "stdout",
     "output_type": "stream",
     "text": [
      "Count 5\n",
      "Count 4\n",
      "Count 3\n",
      "Count 2\n",
      "Count 1\n"
     ]
    }
   ],
   "source": [
    "# Notice the -= assignment to subtract 1 to x, equivalent to x=x-1\n",
    "x = 5\n",
    "\n",
    "while x > 0:\n",
    "    print(\"Count \" + str(x))\n",
    "    x -= 1"
   ]
  },
  {
   "cell_type": "markdown",
   "metadata": {
    "id": "4IpouBMmZddK"
   },
   "source": [
    "# Functions #\n",
    "\n",
    "Any code that you call multiple times with different values should be wrapped up in a function. For example:"
   ]
  },
  {
   "cell_type": "code",
   "execution_count": 133,
   "metadata": {
    "id": "CZ3d0IQsZddK"
   },
   "outputs": [],
   "source": [
    "def square(x):\n",
    "    \"\"\"Return the square of x.\"\"\"\n",
    "    return x*x"
   ]
  },
  {
   "cell_type": "code",
   "execution_count": 168,
   "metadata": {
    "id": "IEd5fctuZddK"
   },
   "outputs": [],
   "source": [
    "# Use question mark (?) to get info about the function\n",
    "square?"
   ]
  },
  {
   "cell_type": "code",
   "execution_count": 148,
   "metadata": {
    "id": "BnmdR71bZddL",
    "outputId": "d5734992-1612-46d4-8fc0-00a560bc9cf8"
   },
   "outputs": [
    {
     "data": {
      "text/plain": [
       "81"
      ]
     },
     "execution_count": 148,
     "metadata": {},
     "output_type": "execute_result"
    }
   ],
   "source": [
    "square(9)"
   ]
  },
  {
   "cell_type": "code",
   "execution_count": 151,
   "metadata": {
    "id": "_PN5o5bxZddL"
   },
   "outputs": [],
   "source": [
    "# Another function\n",
    "def printAndSquare(x):\n",
    "    '''Print the square of x and return it.'''\n",
    "    y = x**2\n",
    "    print(y)\n",
    "    return y"
   ]
  },
  {
   "cell_type": "code",
   "execution_count": 152,
   "metadata": {
    "id": "dXIvBxYzZddL"
   },
   "outputs": [],
   "source": [
    "printAndSquare?"
   ]
  },
  {
   "cell_type": "code",
   "execution_count": 153,
   "metadata": {
    "id": "Scfclp4bZddL",
    "outputId": "28fa5faa-f36c-4b42-96fa-ee534f7bcac7"
   },
   "outputs": [
    {
     "name": "stdout",
     "output_type": "stream",
     "text": [
      "64\n"
     ]
    },
    {
     "data": {
      "text/plain": [
       "64"
      ]
     },
     "execution_count": 153,
     "metadata": {},
     "output_type": "execute_result"
    }
   ],
   "source": [
    "printAndSquare(8)"
   ]
  },
  {
   "cell_type": "markdown",
   "metadata": {
    "id": "fwSsABvtZddM"
   },
   "source": [
    "This comes **very handy** when you want to calculate some function, without writing a piece of code, or using Excel...\n",
    "\n",
    "For instance, the strong coupling value for the Kondo temperature for the symmetric AM as a function of the coupling $u=U/\\pi\\Gamma$ is given by the following expression:\n",
    "$$ \\frac{k_BT_K}{\\Gamma} \\approx \\sqrt{\\frac{2u}{\\pi}} \\exp{\\left(-\\frac{\\pi^2}{8}u + \\frac{1}{2u}\\right)} \\;.$$\n",
    "In the same regime, the spectral density would look (for small $\\omega$ and $T$) as:\n",
    "$$ A(\\omega) = \\frac{1}{1+\\frac{3}{8}\\left(\\frac{\\hbar\\omega}{k_BT_K}\\right)^2 + \\frac{\\pi^2}{8} \\left(\\frac{T}{T_K}\\right)^2} \\;. $$"
   ]
  },
  {
   "cell_type": "code",
   "execution_count": 154,
   "metadata": {
    "id": "lQgi_0XNZddM"
   },
   "outputs": [],
   "source": [
    "def TKondo(u):\n",
    "    \"\"\"Returns the strong coupling value of TKondo for given u=U/pi*Gamma\"\"\"\n",
    "    t=np.sqrt(2*u/np.pi)*np.exp(-np.pi*np.pi*u/8+0.5/u)\n",
    "    \"\"\" If you want to print here, include a line: print(t)\"\"\"\n",
    "    return t"
   ]
  },
  {
   "cell_type": "code",
   "execution_count": 155,
   "metadata": {
    "id": "hp98nzwHZddM",
    "outputId": "7221fde8-4867-4974-e994-338b1baf994f"
   },
   "outputs": [
    {
     "data": {
      "text/plain": [
       "0.07051728922130013"
      ]
     },
     "execution_count": 155,
     "metadata": {},
     "output_type": "execute_result"
    }
   ],
   "source": [
    "TKondo(2.5)"
   ]
  },
  {
   "cell_type": "code",
   "execution_count": 156,
   "metadata": {
    "id": "8ZerdArjZddM"
   },
   "outputs": [],
   "source": [
    "def Aomega(T,u):\n",
    "    \"\"\"Returns spectral density A(0) for given T and u, by calling the function TKondo\"\"\"\n",
    "    tk=TKondo(u)\n",
    "    a=1/(1+(np.pi*T/tk)**2/8)\n",
    "    return a"
   ]
  },
  {
   "cell_type": "code",
   "execution_count": 157,
   "metadata": {
    "id": "pruXZ_WsZddM",
    "outputId": "bec45bff-e531-4002-fd38-109e64690d93"
   },
   "outputs": [
    {
     "data": {
      "text/plain": [
       "0.15192617414594528"
      ]
     },
     "execution_count": 157,
     "metadata": {},
     "output_type": "execute_result"
    }
   ],
   "source": [
    "Aomega(0.15,2.5)"
   ]
  },
  {
   "cell_type": "markdown",
   "metadata": {
    "id": "-M9NasqJZddN"
   },
   "source": [
    "### Functions are Objects ###\n",
    "\n",
    "Functions are just like any object in Python:"
   ]
  },
  {
   "cell_type": "code",
   "execution_count": 158,
   "metadata": {
    "id": "qBsgqzrgZddN",
    "outputId": "737e234e-ef77-4eae-b675-04d8fe8f0fe7"
   },
   "outputs": [
    {
     "data": {
      "text/plain": [
       "function"
      ]
     },
     "execution_count": 158,
     "metadata": {},
     "output_type": "execute_result"
    }
   ],
   "source": [
    "type(square)"
   ]
  },
  {
   "cell_type": "markdown",
   "metadata": {
    "id": "sF0bAJXzZddN"
   },
   "source": [
    "Make another variable refer to the same function:"
   ]
  },
  {
   "cell_type": "code",
   "execution_count": 159,
   "metadata": {
    "id": "IdZ7KrinZddN"
   },
   "outputs": [],
   "source": [
    "a = square"
   ]
  },
  {
   "cell_type": "code",
   "execution_count": 160,
   "metadata": {
    "id": "ZD5HcQXKZddN",
    "outputId": "8afc2e2d-d2fd-4000-db1b-e43414038fe2"
   },
   "outputs": [
    {
     "data": {
      "text/plain": [
       "25"
      ]
     },
     "execution_count": 160,
     "metadata": {},
     "output_type": "execute_result"
    }
   ],
   "source": [
    "a(5)"
   ]
  },
  {
   "cell_type": "markdown",
   "metadata": {
    "id": "GR4ml5tvZddO"
   },
   "source": [
    "A function being passed to another function."
   ]
  },
  {
   "cell_type": "code",
   "execution_count": 166,
   "metadata": {
    "id": "Gq5hw_uFZddO"
   },
   "outputs": [],
   "source": [
    "def test():\n",
    "    print(\"Inside test\")\n",
    "    return\n",
    "\n",
    "def callIt(fun):\n",
    "    print(\"Inside callIt\")\n",
    "    fun()\n",
    "    return"
   ]
  },
  {
   "cell_type": "code",
   "execution_count": 167,
   "metadata": {
    "id": "-vdeu7OqZddP",
    "outputId": "6969ce68-d289-44d0-e0e6-1aa1384175be"
   },
   "outputs": [
    {
     "name": "stdout",
     "output_type": "stream",
     "text": [
      "Inside callIt\n",
      "Inside test\n"
     ]
    }
   ],
   "source": [
    "callIt(test)"
   ]
  },
  {
   "cell_type": "markdown",
   "metadata": {
    "id": "CmSFrP5ZZddP"
   },
   "source": [
    "# Numpy Arrays #\n",
    "\n",
    "Numpy arrays store **multidimensional arrays** of objects of a fixed type. The type of an array is a **dtype**, which is a more refined typing system than Python provides. They are efficient maps **from indices (i,j) to values**. They have **minimal memory overhead**.\n",
    "\n",
    "Arrays are **mutable**: their contents can be changed after they are created. However, their size and dtype, once created cannot be efficiently changed (requires a copy).\n",
    "\n",
    "Arrays are good for:\n",
    "1. Representing matrices and vectors (**linear algebra**)\n",
    "2. Storing grids of numbers (**plotting, numerical analysis**)\n",
    "3. Storing data series (**data analysis**)\n",
    "4. Getting/changing slices (regular subarrays)\n",
    "\n",
    "Arrays are not good for:\n",
    "1. Applications that require growing/shrinking the size.\n",
    "2. Heterogenous objects.\n",
    "3. Non-rectangular data.\n",
    "\n",
    "Arrays are 0-indexed."
   ]
  },
  {
   "cell_type": "code",
   "execution_count": 169,
   "metadata": {
    "id": "50WMUMaxZddP",
    "outputId": "aaf03b89-f5c8-40b3-f4ee-79f75046f065"
   },
   "outputs": [
    {
     "data": {
      "text/plain": [
       "array([0.70710678, 0.        , 0.70710678])"
      ]
     },
     "execution_count": 169,
     "metadata": {},
     "output_type": "execute_result"
    }
   ],
   "source": [
    "# A vector is an array with 1 index\n",
    "a = np.array([1/np.sqrt(2), 0, 1/np.sqrt(2)])\n",
    "a"
   ]
  },
  {
   "cell_type": "code",
   "execution_count": 170,
   "metadata": {
    "id": "uwHN_Q6qZddP",
    "outputId": "bf7ac4e6-4b93-431e-888a-dd46cf368867"
   },
   "outputs": [
    {
     "data": {
      "text/plain": [
       "(3,)"
      ]
     },
     "execution_count": 170,
     "metadata": {},
     "output_type": "execute_result"
    }
   ],
   "source": [
    "a.shape"
   ]
  },
  {
   "cell_type": "code",
   "execution_count": 171,
   "metadata": {
    "id": "vLgRBe_oZddQ",
    "outputId": "c255e717-2775-4842-fabc-8f761c3e8095"
   },
   "outputs": [
    {
     "data": {
      "text/plain": [
       "dtype('float64')"
      ]
     },
     "execution_count": 171,
     "metadata": {},
     "output_type": "execute_result"
    }
   ],
   "source": [
    "a.dtype"
   ]
  },
  {
   "cell_type": "code",
   "execution_count": 172,
   "metadata": {
    "id": "K_3u3yQTZddV",
    "outputId": "3329f682-b381-4c00-f595-342436447024"
   },
   "outputs": [
    {
     "data": {
      "text/plain": [
       "3"
      ]
     },
     "execution_count": 172,
     "metadata": {},
     "output_type": "execute_result"
    }
   ],
   "source": [
    "a.size"
   ]
  },
  {
   "cell_type": "code",
   "execution_count": 173,
   "metadata": {
    "id": "3v-5z-aNZddV",
    "outputId": "d49bcda5-80cd-4637-cc28-9987f6b71d8b"
   },
   "outputs": [
    {
     "data": {
      "text/plain": [
       "0.7071067811865475"
      ]
     },
     "execution_count": 173,
     "metadata": {},
     "output_type": "execute_result"
    }
   ],
   "source": [
    "# We access element i using [i]\n",
    "a[0]"
   ]
  },
  {
   "cell_type": "code",
   "execution_count": 174,
   "metadata": {
    "id": "NZ09mhUAZddW"
   },
   "outputs": [],
   "source": [
    "# This would redefine element 0\n",
    "a[0] = a[0]**2"
   ]
  },
  {
   "cell_type": "code",
   "execution_count": 175,
   "metadata": {
    "id": "nF2Xh-rhZddW",
    "outputId": "ffd6de91-6ce6-40fa-f22f-c5846a85477b"
   },
   "outputs": [
    {
     "data": {
      "text/plain": [
       "array([0.5       , 0.        , 0.70710678])"
      ]
     },
     "execution_count": 175,
     "metadata": {},
     "output_type": "execute_result"
    }
   ],
   "source": [
    "a"
   ]
  },
  {
   "cell_type": "markdown",
   "metadata": {
    "id": "UKV-HhsVZddW"
   },
   "source": [
    "We create a 2D array (that is a matrix) by passing the array() function a list of lists of numbers in the right shape."
   ]
  },
  {
   "cell_type": "code",
   "execution_count": 176,
   "metadata": {
    "id": "IzdkGGR4ZddW",
    "outputId": "95e609b1-db0e-4593-880a-dc3333ccc13c"
   },
   "outputs": [
    {
     "data": {
      "text/plain": [
       "array([[1, 0, 0],\n",
       "       [0, 0, 1],\n",
       "       [0, 1, 0]])"
      ]
     },
     "execution_count": 176,
     "metadata": {},
     "output_type": "execute_result"
    }
   ],
   "source": [
    "# Matrix B is here an array with 2 indices\n",
    "B = np.array( [[ 1, 0, 0],\n",
    "              [ 0, 0, 1],\n",
    "              [ 0, 1, 0]] )\n",
    "B"
   ]
  },
  {
   "cell_type": "code",
   "execution_count": 177,
   "metadata": {
    "id": "nPC5hCxJZddX",
    "outputId": "b84e96c9-b6eb-4068-e532-54573831a067"
   },
   "outputs": [
    {
     "data": {
      "text/plain": [
       "(3, 3)"
      ]
     },
     "execution_count": 177,
     "metadata": {},
     "output_type": "execute_result"
    }
   ],
   "source": [
    "B.shape"
   ]
  },
  {
   "cell_type": "code",
   "execution_count": 178,
   "metadata": {
    "id": "vk2uArtlZddX",
    "outputId": "8404232d-be36-44c6-cb20-6fc8d53dcf97"
   },
   "outputs": [
    {
     "data": {
      "text/plain": [
       "dtype('int64')"
      ]
     },
     "execution_count": 178,
     "metadata": {},
     "output_type": "execute_result"
    }
   ],
   "source": [
    "B.dtype"
   ]
  },
  {
   "cell_type": "code",
   "execution_count": 179,
   "metadata": {
    "id": "i00KfeWIZddX",
    "outputId": "0bdddcd4-014b-4314-980b-18424aa911ce"
   },
   "outputs": [
    {
     "data": {
      "text/plain": [
       "9"
      ]
     },
     "execution_count": 179,
     "metadata": {},
     "output_type": "execute_result"
    }
   ],
   "source": [
    "B.size"
   ]
  },
  {
   "cell_type": "code",
   "execution_count": 182,
   "metadata": {
    "id": "9VSAgLItZddY",
    "outputId": "ed9bda87-aed6-473f-fe0b-394833df11f4"
   },
   "outputs": [
    {
     "data": {
      "text/plain": [
       "77"
      ]
     },
     "execution_count": 182,
     "metadata": {},
     "output_type": "execute_result"
    }
   ],
   "source": [
    "# Element [0,0]\n",
    "B[1,2]=77\n",
    "B[1,2]"
   ]
  },
  {
   "cell_type": "markdown",
   "metadata": {
    "id": "UCuRTVMRZddY"
   },
   "source": [
    "### Exercise ###\n",
    "Change the last row of B to have a 2 instead of 1 in the middle position."
   ]
  },
  {
   "cell_type": "code",
   "execution_count": 183,
   "metadata": {
    "id": "WXg9cuJ7ZddY",
    "outputId": "810a3fec-be1a-485a-af6e-50aa8bc9ec3a"
   },
   "outputs": [
    {
     "data": {
      "text/plain": [
       "array([[ 1,  0,  0],\n",
       "       [ 0,  0, 77],\n",
       "       [ 0,  2,  0]])"
      ]
     },
     "execution_count": 183,
     "metadata": {},
     "output_type": "execute_result"
    }
   ],
   "source": [
    "B[2,1]=2\n",
    "B"
   ]
  },
  {
   "cell_type": "markdown",
   "metadata": {
    "id": "jvi1_AD9ZddY"
   },
   "source": [
    "**Warning!** There is also a type called 'matrix' instead of 'array' in numpy. This is specially for 2-index arrays but is being removed from Numpy over the next two years because it leads to bugs. **Never use matrix()**, only np.array()"
   ]
  },
  {
   "cell_type": "markdown",
   "metadata": {
    "id": "McVRe6hlZddY"
   },
   "source": [
    "## Basic Linear Algebra ##\n",
    "\n",
    "There are two basic kinds of multiplication of arrays in Python:\n",
    "\n",
    "1. **Element-wise multiplication:** a*b multiplies arrays of the same shape element by element.\n",
    "2. **Dot product:** a@b forms a dot product of two vectors or a matrix product of two rectangular matrices. \n",
    "\n",
    "Mathematically, for vectors,\n",
    "\n",
    "$$ a@b = \\sum_i a[i] b[i] $$\n",
    "\n",
    "while for 2D arrays (matrices),\n",
    "\n",
    "$$ A@B[i,j] = \\sum_k A[i,k] B[k,j] $$"
   ]
  },
  {
   "cell_type": "code",
   "execution_count": 184,
   "metadata": {
    "id": "_JV2r2BOZdda"
   },
   "outputs": [],
   "source": [
    "a = np.array([1,  1]) / np.sqrt(2)"
   ]
  },
  {
   "cell_type": "code",
   "execution_count": 185,
   "metadata": {
    "id": "nfONpO1HZdda",
    "outputId": "2f527397-941e-4d65-d18f-20e87def7c8c"
   },
   "outputs": [
    {
     "data": {
      "text/plain": [
       "array([0.70710678, 0.70710678])"
      ]
     },
     "execution_count": 185,
     "metadata": {},
     "output_type": "execute_result"
    }
   ],
   "source": [
    "a"
   ]
  },
  {
   "cell_type": "code",
   "execution_count": 186,
   "metadata": {
    "id": "ddNdn_rzZdda",
    "outputId": "5706a506-ce85-4813-8f62-549c8caf5cfb"
   },
   "outputs": [
    {
     "data": {
      "text/plain": [
       "array([0.5, 0.5])"
      ]
     },
     "execution_count": 186,
     "metadata": {},
     "output_type": "execute_result"
    }
   ],
   "source": [
    "# Product element by element\n",
    "a*a"
   ]
  },
  {
   "cell_type": "code",
   "execution_count": 187,
   "metadata": {
    "id": "vV5I25TjZdda",
    "outputId": "abf6d7c2-1c14-42d1-da64-b730511cfb91"
   },
   "outputs": [
    {
     "data": {
      "text/plain": [
       "0.9999999999999998"
      ]
     },
     "execution_count": 187,
     "metadata": {},
     "output_type": "execute_result"
    }
   ],
   "source": [
    "# Dot product\n",
    "a@a"
   ]
  },
  {
   "cell_type": "code",
   "execution_count": 188,
   "metadata": {
    "id": "247IfeFyZdda",
    "outputId": "ea868022-ab9b-42ee-de85-a1105ed98b70"
   },
   "outputs": [
    {
     "data": {
      "text/plain": [
       "0.9999999999999999"
      ]
     },
     "execution_count": 188,
     "metadata": {},
     "output_type": "execute_result"
    }
   ],
   "source": [
    "# Compute the norm of a (notice np.linalg)\n",
    "np.linalg.norm(a)"
   ]
  },
  {
   "cell_type": "code",
   "execution_count": 189,
   "metadata": {
    "id": "v8fon-cnZddb",
    "outputId": "b0bd198d-07e9-49a9-e9a7-879ff57cf99e"
   },
   "outputs": [
    {
     "data": {
      "text/plain": [
       "0.9999999999999999"
      ]
     },
     "execution_count": 189,
     "metadata": {},
     "output_type": "execute_result"
    }
   ],
   "source": [
    "# Equivalent to:\n",
    "np.sqrt(a@a)"
   ]
  },
  {
   "cell_type": "code",
   "execution_count": 190,
   "metadata": {
    "id": "PBLWclbEZddb"
   },
   "outputs": [],
   "source": [
    "# A second vector:\n",
    "b = np.array([1, -1]) / np.sqrt(2)"
   ]
  },
  {
   "cell_type": "code",
   "execution_count": 191,
   "metadata": {
    "id": "UJYJdk6pZddb",
    "outputId": "1295ea85-e193-4722-db18-6a45cf48841b"
   },
   "outputs": [
    {
     "data": {
      "text/plain": [
       "array([ 0.5, -0.5])"
      ]
     },
     "execution_count": 191,
     "metadata": {},
     "output_type": "execute_result"
    }
   ],
   "source": [
    "# Element by element product\n",
    "a*b"
   ]
  },
  {
   "cell_type": "code",
   "execution_count": 192,
   "metadata": {
    "id": "yX_S_ItIZddb",
    "outputId": "93728a21-0227-4dcb-ab20-648ab7cf65ad"
   },
   "outputs": [
    {
     "data": {
      "text/plain": [
       "0.0"
      ]
     },
     "execution_count": 192,
     "metadata": {},
     "output_type": "execute_result"
    }
   ],
   "source": [
    "# Dot product\n",
    "a@b"
   ]
  },
  {
   "cell_type": "markdown",
   "metadata": {
    "id": "mcLD9352Zddc"
   },
   "source": [
    "There are many more functions for doing linear algebra operations numerically provided by numpy and scipy. We will use some of them later on."
   ]
  },
  {
   "cell_type": "markdown",
   "metadata": {
    "id": "QqJlockfZddc"
   },
   "source": [
    "# Basic Plotting #\n",
    "\n",
    "The second primary use of numpy array's is to hold grids of numbers for analyzing and plotting. In this case, we consider a long 1D array with length N as representing the values of the x and y axis of a plot, for example. \n",
    "\n",
    "Let's plot a sine wave and an exponential in the same plot:"
   ]
  },
  {
   "cell_type": "code",
   "execution_count": 193,
   "metadata": {
    "id": "_v9xuHiNZddc",
    "outputId": "77bd9c7f-2cc8-4afc-9c2b-34ec8b5a7cad"
   },
   "outputs": [
    {
     "data": {
      "application/javascript": [
       "/* Put everything inside the global mpl namespace */\n",
       "window.mpl = {};\n",
       "\n",
       "\n",
       "mpl.get_websocket_type = function() {\n",
       "    if (typeof(WebSocket) !== 'undefined') {\n",
       "        return WebSocket;\n",
       "    } else if (typeof(MozWebSocket) !== 'undefined') {\n",
       "        return MozWebSocket;\n",
       "    } else {\n",
       "        alert('Your browser does not have WebSocket support. ' +\n",
       "              'Please try Chrome, Safari or Firefox ≥ 6. ' +\n",
       "              'Firefox 4 and 5 are also supported but you ' +\n",
       "              'have to enable WebSockets in about:config.');\n",
       "    };\n",
       "}\n",
       "\n",
       "mpl.figure = function(figure_id, websocket, ondownload, parent_element) {\n",
       "    this.id = figure_id;\n",
       "\n",
       "    this.ws = websocket;\n",
       "\n",
       "    this.supports_binary = (this.ws.binaryType != undefined);\n",
       "\n",
       "    if (!this.supports_binary) {\n",
       "        var warnings = document.getElementById(\"mpl-warnings\");\n",
       "        if (warnings) {\n",
       "            warnings.style.display = 'block';\n",
       "            warnings.textContent = (\n",
       "                \"This browser does not support binary websocket messages. \" +\n",
       "                    \"Performance may be slow.\");\n",
       "        }\n",
       "    }\n",
       "\n",
       "    this.imageObj = new Image();\n",
       "\n",
       "    this.context = undefined;\n",
       "    this.message = undefined;\n",
       "    this.canvas = undefined;\n",
       "    this.rubberband_canvas = undefined;\n",
       "    this.rubberband_context = undefined;\n",
       "    this.format_dropdown = undefined;\n",
       "\n",
       "    this.image_mode = 'full';\n",
       "\n",
       "    this.root = $('<div/>');\n",
       "    this._root_extra_style(this.root)\n",
       "    this.root.attr('style', 'display: inline-block');\n",
       "\n",
       "    $(parent_element).append(this.root);\n",
       "\n",
       "    this._init_header(this);\n",
       "    this._init_canvas(this);\n",
       "    this._init_toolbar(this);\n",
       "\n",
       "    var fig = this;\n",
       "\n",
       "    this.waiting = false;\n",
       "\n",
       "    this.ws.onopen =  function () {\n",
       "            fig.send_message(\"supports_binary\", {value: fig.supports_binary});\n",
       "            fig.send_message(\"send_image_mode\", {});\n",
       "            if (mpl.ratio != 1) {\n",
       "                fig.send_message(\"set_dpi_ratio\", {'dpi_ratio': mpl.ratio});\n",
       "            }\n",
       "            fig.send_message(\"refresh\", {});\n",
       "        }\n",
       "\n",
       "    this.imageObj.onload = function() {\n",
       "            if (fig.image_mode == 'full') {\n",
       "                // Full images could contain transparency (where diff images\n",
       "                // almost always do), so we need to clear the canvas so that\n",
       "                // there is no ghosting.\n",
       "                fig.context.clearRect(0, 0, fig.canvas.width, fig.canvas.height);\n",
       "            }\n",
       "            fig.context.drawImage(fig.imageObj, 0, 0);\n",
       "        };\n",
       "\n",
       "    this.imageObj.onunload = function() {\n",
       "        fig.ws.close();\n",
       "    }\n",
       "\n",
       "    this.ws.onmessage = this._make_on_message_function(this);\n",
       "\n",
       "    this.ondownload = ondownload;\n",
       "}\n",
       "\n",
       "mpl.figure.prototype._init_header = function() {\n",
       "    var titlebar = $(\n",
       "        '<div class=\"ui-dialog-titlebar ui-widget-header ui-corner-all ' +\n",
       "        'ui-helper-clearfix\"/>');\n",
       "    var titletext = $(\n",
       "        '<div class=\"ui-dialog-title\" style=\"width: 100%; ' +\n",
       "        'text-align: center; padding: 3px;\"/>');\n",
       "    titlebar.append(titletext)\n",
       "    this.root.append(titlebar);\n",
       "    this.header = titletext[0];\n",
       "}\n",
       "\n",
       "\n",
       "\n",
       "mpl.figure.prototype._canvas_extra_style = function(canvas_div) {\n",
       "\n",
       "}\n",
       "\n",
       "\n",
       "mpl.figure.prototype._root_extra_style = function(canvas_div) {\n",
       "\n",
       "}\n",
       "\n",
       "mpl.figure.prototype._init_canvas = function() {\n",
       "    var fig = this;\n",
       "\n",
       "    var canvas_div = $('<div/>');\n",
       "\n",
       "    canvas_div.attr('style', 'position: relative; clear: both; outline: 0');\n",
       "\n",
       "    function canvas_keyboard_event(event) {\n",
       "        return fig.key_event(event, event['data']);\n",
       "    }\n",
       "\n",
       "    canvas_div.keydown('key_press', canvas_keyboard_event);\n",
       "    canvas_div.keyup('key_release', canvas_keyboard_event);\n",
       "    this.canvas_div = canvas_div\n",
       "    this._canvas_extra_style(canvas_div)\n",
       "    this.root.append(canvas_div);\n",
       "\n",
       "    var canvas = $('<canvas/>');\n",
       "    canvas.addClass('mpl-canvas');\n",
       "    canvas.attr('style', \"left: 0; top: 0; z-index: 0; outline: 0\")\n",
       "\n",
       "    this.canvas = canvas[0];\n",
       "    this.context = canvas[0].getContext(\"2d\");\n",
       "\n",
       "    var backingStore = this.context.backingStorePixelRatio ||\n",
       "\tthis.context.webkitBackingStorePixelRatio ||\n",
       "\tthis.context.mozBackingStorePixelRatio ||\n",
       "\tthis.context.msBackingStorePixelRatio ||\n",
       "\tthis.context.oBackingStorePixelRatio ||\n",
       "\tthis.context.backingStorePixelRatio || 1;\n",
       "\n",
       "    mpl.ratio = (window.devicePixelRatio || 1) / backingStore;\n",
       "\n",
       "    var rubberband = $('<canvas/>');\n",
       "    rubberband.attr('style', \"position: absolute; left: 0; top: 0; z-index: 1;\")\n",
       "\n",
       "    var pass_mouse_events = true;\n",
       "\n",
       "    canvas_div.resizable({\n",
       "        start: function(event, ui) {\n",
       "            pass_mouse_events = false;\n",
       "        },\n",
       "        resize: function(event, ui) {\n",
       "            fig.request_resize(ui.size.width, ui.size.height);\n",
       "        },\n",
       "        stop: function(event, ui) {\n",
       "            pass_mouse_events = true;\n",
       "            fig.request_resize(ui.size.width, ui.size.height);\n",
       "        },\n",
       "    });\n",
       "\n",
       "    function mouse_event_fn(event) {\n",
       "        if (pass_mouse_events)\n",
       "            return fig.mouse_event(event, event['data']);\n",
       "    }\n",
       "\n",
       "    rubberband.mousedown('button_press', mouse_event_fn);\n",
       "    rubberband.mouseup('button_release', mouse_event_fn);\n",
       "    // Throttle sequential mouse events to 1 every 20ms.\n",
       "    rubberband.mousemove('motion_notify', mouse_event_fn);\n",
       "\n",
       "    rubberband.mouseenter('figure_enter', mouse_event_fn);\n",
       "    rubberband.mouseleave('figure_leave', mouse_event_fn);\n",
       "\n",
       "    canvas_div.on(\"wheel\", function (event) {\n",
       "        event = event.originalEvent;\n",
       "        event['data'] = 'scroll'\n",
       "        if (event.deltaY < 0) {\n",
       "            event.step = 1;\n",
       "        } else {\n",
       "            event.step = -1;\n",
       "        }\n",
       "        mouse_event_fn(event);\n",
       "    });\n",
       "\n",
       "    canvas_div.append(canvas);\n",
       "    canvas_div.append(rubberband);\n",
       "\n",
       "    this.rubberband = rubberband;\n",
       "    this.rubberband_canvas = rubberband[0];\n",
       "    this.rubberband_context = rubberband[0].getContext(\"2d\");\n",
       "    this.rubberband_context.strokeStyle = \"#000000\";\n",
       "\n",
       "    this._resize_canvas = function(width, height) {\n",
       "        // Keep the size of the canvas, canvas container, and rubber band\n",
       "        // canvas in synch.\n",
       "        canvas_div.css('width', width)\n",
       "        canvas_div.css('height', height)\n",
       "\n",
       "        canvas.attr('width', width * mpl.ratio);\n",
       "        canvas.attr('height', height * mpl.ratio);\n",
       "        canvas.attr('style', 'width: ' + width + 'px; height: ' + height + 'px;');\n",
       "\n",
       "        rubberband.attr('width', width);\n",
       "        rubberband.attr('height', height);\n",
       "    }\n",
       "\n",
       "    // Set the figure to an initial 600x600px, this will subsequently be updated\n",
       "    // upon first draw.\n",
       "    this._resize_canvas(600, 600);\n",
       "\n",
       "    // Disable right mouse context menu.\n",
       "    $(this.rubberband_canvas).bind(\"contextmenu\",function(e){\n",
       "        return false;\n",
       "    });\n",
       "\n",
       "    function set_focus () {\n",
       "        canvas.focus();\n",
       "        canvas_div.focus();\n",
       "    }\n",
       "\n",
       "    window.setTimeout(set_focus, 100);\n",
       "}\n",
       "\n",
       "mpl.figure.prototype._init_toolbar = function() {\n",
       "    var fig = this;\n",
       "\n",
       "    var nav_element = $('<div/>');\n",
       "    nav_element.attr('style', 'width: 100%');\n",
       "    this.root.append(nav_element);\n",
       "\n",
       "    // Define a callback function for later on.\n",
       "    function toolbar_event(event) {\n",
       "        return fig.toolbar_button_onclick(event['data']);\n",
       "    }\n",
       "    function toolbar_mouse_event(event) {\n",
       "        return fig.toolbar_button_onmouseover(event['data']);\n",
       "    }\n",
       "\n",
       "    for(var toolbar_ind in mpl.toolbar_items) {\n",
       "        var name = mpl.toolbar_items[toolbar_ind][0];\n",
       "        var tooltip = mpl.toolbar_items[toolbar_ind][1];\n",
       "        var image = mpl.toolbar_items[toolbar_ind][2];\n",
       "        var method_name = mpl.toolbar_items[toolbar_ind][3];\n",
       "\n",
       "        if (!name) {\n",
       "            // put a spacer in here.\n",
       "            continue;\n",
       "        }\n",
       "        var button = $('<button/>');\n",
       "        button.addClass('ui-button ui-widget ui-state-default ui-corner-all ' +\n",
       "                        'ui-button-icon-only');\n",
       "        button.attr('role', 'button');\n",
       "        button.attr('aria-disabled', 'false');\n",
       "        button.click(method_name, toolbar_event);\n",
       "        button.mouseover(tooltip, toolbar_mouse_event);\n",
       "\n",
       "        var icon_img = $('<span/>');\n",
       "        icon_img.addClass('ui-button-icon-primary ui-icon');\n",
       "        icon_img.addClass(image);\n",
       "        icon_img.addClass('ui-corner-all');\n",
       "\n",
       "        var tooltip_span = $('<span/>');\n",
       "        tooltip_span.addClass('ui-button-text');\n",
       "        tooltip_span.html(tooltip);\n",
       "\n",
       "        button.append(icon_img);\n",
       "        button.append(tooltip_span);\n",
       "\n",
       "        nav_element.append(button);\n",
       "    }\n",
       "\n",
       "    var fmt_picker_span = $('<span/>');\n",
       "\n",
       "    var fmt_picker = $('<select/>');\n",
       "    fmt_picker.addClass('mpl-toolbar-option ui-widget ui-widget-content');\n",
       "    fmt_picker_span.append(fmt_picker);\n",
       "    nav_element.append(fmt_picker_span);\n",
       "    this.format_dropdown = fmt_picker[0];\n",
       "\n",
       "    for (var ind in mpl.extensions) {\n",
       "        var fmt = mpl.extensions[ind];\n",
       "        var option = $(\n",
       "            '<option/>', {selected: fmt === mpl.default_extension}).html(fmt);\n",
       "        fmt_picker.append(option);\n",
       "    }\n",
       "\n",
       "    // Add hover states to the ui-buttons\n",
       "    $( \".ui-button\" ).hover(\n",
       "        function() { $(this).addClass(\"ui-state-hover\");},\n",
       "        function() { $(this).removeClass(\"ui-state-hover\");}\n",
       "    );\n",
       "\n",
       "    var status_bar = $('<span class=\"mpl-message\"/>');\n",
       "    nav_element.append(status_bar);\n",
       "    this.message = status_bar[0];\n",
       "}\n",
       "\n",
       "mpl.figure.prototype.request_resize = function(x_pixels, y_pixels) {\n",
       "    // Request matplotlib to resize the figure. Matplotlib will then trigger a resize in the client,\n",
       "    // which will in turn request a refresh of the image.\n",
       "    this.send_message('resize', {'width': x_pixels, 'height': y_pixels});\n",
       "}\n",
       "\n",
       "mpl.figure.prototype.send_message = function(type, properties) {\n",
       "    properties['type'] = type;\n",
       "    properties['figure_id'] = this.id;\n",
       "    this.ws.send(JSON.stringify(properties));\n",
       "}\n",
       "\n",
       "mpl.figure.prototype.send_draw_message = function() {\n",
       "    if (!this.waiting) {\n",
       "        this.waiting = true;\n",
       "        this.ws.send(JSON.stringify({type: \"draw\", figure_id: this.id}));\n",
       "    }\n",
       "}\n",
       "\n",
       "\n",
       "mpl.figure.prototype.handle_save = function(fig, msg) {\n",
       "    var format_dropdown = fig.format_dropdown;\n",
       "    var format = format_dropdown.options[format_dropdown.selectedIndex].value;\n",
       "    fig.ondownload(fig, format);\n",
       "}\n",
       "\n",
       "\n",
       "mpl.figure.prototype.handle_resize = function(fig, msg) {\n",
       "    var size = msg['size'];\n",
       "    if (size[0] != fig.canvas.width || size[1] != fig.canvas.height) {\n",
       "        fig._resize_canvas(size[0], size[1]);\n",
       "        fig.send_message(\"refresh\", {});\n",
       "    };\n",
       "}\n",
       "\n",
       "mpl.figure.prototype.handle_rubberband = function(fig, msg) {\n",
       "    var x0 = msg['x0'] / mpl.ratio;\n",
       "    var y0 = (fig.canvas.height - msg['y0']) / mpl.ratio;\n",
       "    var x1 = msg['x1'] / mpl.ratio;\n",
       "    var y1 = (fig.canvas.height - msg['y1']) / mpl.ratio;\n",
       "    x0 = Math.floor(x0) + 0.5;\n",
       "    y0 = Math.floor(y0) + 0.5;\n",
       "    x1 = Math.floor(x1) + 0.5;\n",
       "    y1 = Math.floor(y1) + 0.5;\n",
       "    var min_x = Math.min(x0, x1);\n",
       "    var min_y = Math.min(y0, y1);\n",
       "    var width = Math.abs(x1 - x0);\n",
       "    var height = Math.abs(y1 - y0);\n",
       "\n",
       "    fig.rubberband_context.clearRect(\n",
       "        0, 0, fig.canvas.width / mpl.ratio, fig.canvas.height / mpl.ratio);\n",
       "\n",
       "    fig.rubberband_context.strokeRect(min_x, min_y, width, height);\n",
       "}\n",
       "\n",
       "mpl.figure.prototype.handle_figure_label = function(fig, msg) {\n",
       "    // Updates the figure title.\n",
       "    fig.header.textContent = msg['label'];\n",
       "}\n",
       "\n",
       "mpl.figure.prototype.handle_cursor = function(fig, msg) {\n",
       "    var cursor = msg['cursor'];\n",
       "    switch(cursor)\n",
       "    {\n",
       "    case 0:\n",
       "        cursor = 'pointer';\n",
       "        break;\n",
       "    case 1:\n",
       "        cursor = 'default';\n",
       "        break;\n",
       "    case 2:\n",
       "        cursor = 'crosshair';\n",
       "        break;\n",
       "    case 3:\n",
       "        cursor = 'move';\n",
       "        break;\n",
       "    }\n",
       "    fig.rubberband_canvas.style.cursor = cursor;\n",
       "}\n",
       "\n",
       "mpl.figure.prototype.handle_message = function(fig, msg) {\n",
       "    fig.message.textContent = msg['message'];\n",
       "}\n",
       "\n",
       "mpl.figure.prototype.handle_draw = function(fig, msg) {\n",
       "    // Request the server to send over a new figure.\n",
       "    fig.send_draw_message();\n",
       "}\n",
       "\n",
       "mpl.figure.prototype.handle_image_mode = function(fig, msg) {\n",
       "    fig.image_mode = msg['mode'];\n",
       "}\n",
       "\n",
       "mpl.figure.prototype.updated_canvas_event = function() {\n",
       "    // Called whenever the canvas gets updated.\n",
       "    this.send_message(\"ack\", {});\n",
       "}\n",
       "\n",
       "// A function to construct a web socket function for onmessage handling.\n",
       "// Called in the figure constructor.\n",
       "mpl.figure.prototype._make_on_message_function = function(fig) {\n",
       "    return function socket_on_message(evt) {\n",
       "        if (evt.data instanceof Blob) {\n",
       "            /* FIXME: We get \"Resource interpreted as Image but\n",
       "             * transferred with MIME type text/plain:\" errors on\n",
       "             * Chrome.  But how to set the MIME type?  It doesn't seem\n",
       "             * to be part of the websocket stream */\n",
       "            evt.data.type = \"image/png\";\n",
       "\n",
       "            /* Free the memory for the previous frames */\n",
       "            if (fig.imageObj.src) {\n",
       "                (window.URL || window.webkitURL).revokeObjectURL(\n",
       "                    fig.imageObj.src);\n",
       "            }\n",
       "\n",
       "            fig.imageObj.src = (window.URL || window.webkitURL).createObjectURL(\n",
       "                evt.data);\n",
       "            fig.updated_canvas_event();\n",
       "            fig.waiting = false;\n",
       "            return;\n",
       "        }\n",
       "        else if (typeof evt.data === 'string' && evt.data.slice(0, 21) == \"data:image/png;base64\") {\n",
       "            fig.imageObj.src = evt.data;\n",
       "            fig.updated_canvas_event();\n",
       "            fig.waiting = false;\n",
       "            return;\n",
       "        }\n",
       "\n",
       "        var msg = JSON.parse(evt.data);\n",
       "        var msg_type = msg['type'];\n",
       "\n",
       "        // Call the  \"handle_{type}\" callback, which takes\n",
       "        // the figure and JSON message as its only arguments.\n",
       "        try {\n",
       "            var callback = fig[\"handle_\" + msg_type];\n",
       "        } catch (e) {\n",
       "            console.log(\"No handler for the '\" + msg_type + \"' message type: \", msg);\n",
       "            return;\n",
       "        }\n",
       "\n",
       "        if (callback) {\n",
       "            try {\n",
       "                // console.log(\"Handling '\" + msg_type + \"' message: \", msg);\n",
       "                callback(fig, msg);\n",
       "            } catch (e) {\n",
       "                console.log(\"Exception inside the 'handler_\" + msg_type + \"' callback:\", e, e.stack, msg);\n",
       "            }\n",
       "        }\n",
       "    };\n",
       "}\n",
       "\n",
       "// from http://stackoverflow.com/questions/1114465/getting-mouse-location-in-canvas\n",
       "mpl.findpos = function(e) {\n",
       "    //this section is from http://www.quirksmode.org/js/events_properties.html\n",
       "    var targ;\n",
       "    if (!e)\n",
       "        e = window.event;\n",
       "    if (e.target)\n",
       "        targ = e.target;\n",
       "    else if (e.srcElement)\n",
       "        targ = e.srcElement;\n",
       "    if (targ.nodeType == 3) // defeat Safari bug\n",
       "        targ = targ.parentNode;\n",
       "\n",
       "    // jQuery normalizes the pageX and pageY\n",
       "    // pageX,Y are the mouse positions relative to the document\n",
       "    // offset() returns the position of the element relative to the document\n",
       "    var x = e.pageX - $(targ).offset().left;\n",
       "    var y = e.pageY - $(targ).offset().top;\n",
       "\n",
       "    return {\"x\": x, \"y\": y};\n",
       "};\n",
       "\n",
       "/*\n",
       " * return a copy of an object with only non-object keys\n",
       " * we need this to avoid circular references\n",
       " * http://stackoverflow.com/a/24161582/3208463\n",
       " */\n",
       "function simpleKeys (original) {\n",
       "  return Object.keys(original).reduce(function (obj, key) {\n",
       "    if (typeof original[key] !== 'object')\n",
       "        obj[key] = original[key]\n",
       "    return obj;\n",
       "  }, {});\n",
       "}\n",
       "\n",
       "mpl.figure.prototype.mouse_event = function(event, name) {\n",
       "    var canvas_pos = mpl.findpos(event)\n",
       "\n",
       "    if (name === 'button_press')\n",
       "    {\n",
       "        this.canvas.focus();\n",
       "        this.canvas_div.focus();\n",
       "    }\n",
       "\n",
       "    var x = canvas_pos.x * mpl.ratio;\n",
       "    var y = canvas_pos.y * mpl.ratio;\n",
       "\n",
       "    this.send_message(name, {x: x, y: y, button: event.button,\n",
       "                             step: event.step,\n",
       "                             guiEvent: simpleKeys(event)});\n",
       "\n",
       "    /* This prevents the web browser from automatically changing to\n",
       "     * the text insertion cursor when the button is pressed.  We want\n",
       "     * to control all of the cursor setting manually through the\n",
       "     * 'cursor' event from matplotlib */\n",
       "    event.preventDefault();\n",
       "    return false;\n",
       "}\n",
       "\n",
       "mpl.figure.prototype._key_event_extra = function(event, name) {\n",
       "    // Handle any extra behaviour associated with a key event\n",
       "}\n",
       "\n",
       "mpl.figure.prototype.key_event = function(event, name) {\n",
       "\n",
       "    // Prevent repeat events\n",
       "    if (name == 'key_press')\n",
       "    {\n",
       "        if (event.which === this._key)\n",
       "            return;\n",
       "        else\n",
       "            this._key = event.which;\n",
       "    }\n",
       "    if (name == 'key_release')\n",
       "        this._key = null;\n",
       "\n",
       "    var value = '';\n",
       "    if (event.ctrlKey && event.which != 17)\n",
       "        value += \"ctrl+\";\n",
       "    if (event.altKey && event.which != 18)\n",
       "        value += \"alt+\";\n",
       "    if (event.shiftKey && event.which != 16)\n",
       "        value += \"shift+\";\n",
       "\n",
       "    value += 'k';\n",
       "    value += event.which.toString();\n",
       "\n",
       "    this._key_event_extra(event, name);\n",
       "\n",
       "    this.send_message(name, {key: value,\n",
       "                             guiEvent: simpleKeys(event)});\n",
       "    return false;\n",
       "}\n",
       "\n",
       "mpl.figure.prototype.toolbar_button_onclick = function(name) {\n",
       "    if (name == 'download') {\n",
       "        this.handle_save(this, null);\n",
       "    } else {\n",
       "        this.send_message(\"toolbar_button\", {name: name});\n",
       "    }\n",
       "};\n",
       "\n",
       "mpl.figure.prototype.toolbar_button_onmouseover = function(tooltip) {\n",
       "    this.message.textContent = tooltip;\n",
       "};\n",
       "mpl.toolbar_items = [[\"Home\", \"Reset original view\", \"fa fa-home icon-home\", \"home\"], [\"Back\", \"Back to previous view\", \"fa fa-arrow-left icon-arrow-left\", \"back\"], [\"Forward\", \"Forward to next view\", \"fa fa-arrow-right icon-arrow-right\", \"forward\"], [\"\", \"\", \"\", \"\"], [\"Pan\", \"Pan axes with left mouse, zoom with right\", \"fa fa-arrows icon-move\", \"pan\"], [\"Zoom\", \"Zoom to rectangle\", \"fa fa-square-o icon-check-empty\", \"zoom\"], [\"\", \"\", \"\", \"\"], [\"Download\", \"Download plot\", \"fa fa-floppy-o icon-save\", \"download\"]];\n",
       "\n",
       "mpl.extensions = [\"eps\", \"jpeg\", \"pdf\", \"png\", \"ps\", \"raw\", \"svg\", \"tif\"];\n",
       "\n",
       "mpl.default_extension = \"png\";var comm_websocket_adapter = function(comm) {\n",
       "    // Create a \"websocket\"-like object which calls the given IPython comm\n",
       "    // object with the appropriate methods. Currently this is a non binary\n",
       "    // socket, so there is still some room for performance tuning.\n",
       "    var ws = {};\n",
       "\n",
       "    ws.close = function() {\n",
       "        comm.close()\n",
       "    };\n",
       "    ws.send = function(m) {\n",
       "        //console.log('sending', m);\n",
       "        comm.send(m);\n",
       "    };\n",
       "    // Register the callback with on_msg.\n",
       "    comm.on_msg(function(msg) {\n",
       "        //console.log('receiving', msg['content']['data'], msg);\n",
       "        // Pass the mpl event to the overridden (by mpl) onmessage function.\n",
       "        ws.onmessage(msg['content']['data'])\n",
       "    });\n",
       "    return ws;\n",
       "}\n",
       "\n",
       "mpl.mpl_figure_comm = function(comm, msg) {\n",
       "    // This is the function which gets called when the mpl process\n",
       "    // starts-up an IPython Comm through the \"matplotlib\" channel.\n",
       "\n",
       "    var id = msg.content.data.id;\n",
       "    // Get hold of the div created by the display call when the Comm\n",
       "    // socket was opened in Python.\n",
       "    var element = $(\"#\" + id);\n",
       "    var ws_proxy = comm_websocket_adapter(comm)\n",
       "\n",
       "    function ondownload(figure, format) {\n",
       "        window.open(figure.imageObj.src);\n",
       "    }\n",
       "\n",
       "    var fig = new mpl.figure(id, ws_proxy,\n",
       "                           ondownload,\n",
       "                           element.get(0));\n",
       "\n",
       "    // Call onopen now - mpl needs it, as it is assuming we've passed it a real\n",
       "    // web socket which is closed, not our websocket->open comm proxy.\n",
       "    ws_proxy.onopen();\n",
       "\n",
       "    fig.parent_element = element.get(0);\n",
       "    fig.cell_info = mpl.find_output_cell(\"<div id='\" + id + \"'></div>\");\n",
       "    if (!fig.cell_info) {\n",
       "        console.error(\"Failed to find cell for figure\", id, fig);\n",
       "        return;\n",
       "    }\n",
       "\n",
       "    var output_index = fig.cell_info[2]\n",
       "    var cell = fig.cell_info[0];\n",
       "\n",
       "};\n",
       "\n",
       "mpl.figure.prototype.handle_close = function(fig, msg) {\n",
       "    var width = fig.canvas.width/mpl.ratio\n",
       "    fig.root.unbind('remove')\n",
       "\n",
       "    // Update the output cell to use the data from the current canvas.\n",
       "    fig.push_to_output();\n",
       "    var dataURL = fig.canvas.toDataURL();\n",
       "    // Re-enable the keyboard manager in IPython - without this line, in FF,\n",
       "    // the notebook keyboard shortcuts fail.\n",
       "    IPython.keyboard_manager.enable()\n",
       "    $(fig.parent_element).html('<img src=\"' + dataURL + '\" width=\"' + width + '\">');\n",
       "    fig.close_ws(fig, msg);\n",
       "}\n",
       "\n",
       "mpl.figure.prototype.close_ws = function(fig, msg){\n",
       "    fig.send_message('closing', msg);\n",
       "    // fig.ws.close()\n",
       "}\n",
       "\n",
       "mpl.figure.prototype.push_to_output = function(remove_interactive) {\n",
       "    // Turn the data on the canvas into data in the output cell.\n",
       "    var width = this.canvas.width/mpl.ratio\n",
       "    var dataURL = this.canvas.toDataURL();\n",
       "    this.cell_info[1]['text/html'] = '<img src=\"' + dataURL + '\" width=\"' + width + '\">';\n",
       "}\n",
       "\n",
       "mpl.figure.prototype.updated_canvas_event = function() {\n",
       "    // Tell IPython that the notebook contents must change.\n",
       "    IPython.notebook.set_dirty(true);\n",
       "    this.send_message(\"ack\", {});\n",
       "    var fig = this;\n",
       "    // Wait a second, then push the new image to the DOM so\n",
       "    // that it is saved nicely (might be nice to debounce this).\n",
       "    setTimeout(function () { fig.push_to_output() }, 1000);\n",
       "}\n",
       "\n",
       "mpl.figure.prototype._init_toolbar = function() {\n",
       "    var fig = this;\n",
       "\n",
       "    var nav_element = $('<div/>');\n",
       "    nav_element.attr('style', 'width: 100%');\n",
       "    this.root.append(nav_element);\n",
       "\n",
       "    // Define a callback function for later on.\n",
       "    function toolbar_event(event) {\n",
       "        return fig.toolbar_button_onclick(event['data']);\n",
       "    }\n",
       "    function toolbar_mouse_event(event) {\n",
       "        return fig.toolbar_button_onmouseover(event['data']);\n",
       "    }\n",
       "\n",
       "    for(var toolbar_ind in mpl.toolbar_items){\n",
       "        var name = mpl.toolbar_items[toolbar_ind][0];\n",
       "        var tooltip = mpl.toolbar_items[toolbar_ind][1];\n",
       "        var image = mpl.toolbar_items[toolbar_ind][2];\n",
       "        var method_name = mpl.toolbar_items[toolbar_ind][3];\n",
       "\n",
       "        if (!name) { continue; };\n",
       "\n",
       "        var button = $('<button class=\"btn btn-default\" href=\"#\" title=\"' + name + '\"><i class=\"fa ' + image + ' fa-lg\"></i></button>');\n",
       "        button.click(method_name, toolbar_event);\n",
       "        button.mouseover(tooltip, toolbar_mouse_event);\n",
       "        nav_element.append(button);\n",
       "    }\n",
       "\n",
       "    // Add the status bar.\n",
       "    var status_bar = $('<span class=\"mpl-message\" style=\"text-align:right; float: right;\"/>');\n",
       "    nav_element.append(status_bar);\n",
       "    this.message = status_bar[0];\n",
       "\n",
       "    // Add the close button to the window.\n",
       "    var buttongrp = $('<div class=\"btn-group inline pull-right\"></div>');\n",
       "    var button = $('<button class=\"btn btn-mini btn-primary\" href=\"#\" title=\"Stop Interaction\"><i class=\"fa fa-power-off icon-remove icon-large\"></i></button>');\n",
       "    button.click(function (evt) { fig.handle_close(fig, {}); } );\n",
       "    button.mouseover('Stop Interaction', toolbar_mouse_event);\n",
       "    buttongrp.append(button);\n",
       "    var titlebar = this.root.find($('.ui-dialog-titlebar'));\n",
       "    titlebar.prepend(buttongrp);\n",
       "}\n",
       "\n",
       "mpl.figure.prototype._root_extra_style = function(el){\n",
       "    var fig = this\n",
       "    el.on(\"remove\", function(){\n",
       "\tfig.close_ws(fig, {});\n",
       "    });\n",
       "}\n",
       "\n",
       "mpl.figure.prototype._canvas_extra_style = function(el){\n",
       "    // this is important to make the div 'focusable\n",
       "    el.attr('tabindex', 0)\n",
       "    // reach out to IPython and tell the keyboard manager to turn it's self\n",
       "    // off when our div gets focus\n",
       "\n",
       "    // location in version 3\n",
       "    if (IPython.notebook.keyboard_manager) {\n",
       "        IPython.notebook.keyboard_manager.register_events(el);\n",
       "    }\n",
       "    else {\n",
       "        // location in version 2\n",
       "        IPython.keyboard_manager.register_events(el);\n",
       "    }\n",
       "\n",
       "}\n",
       "\n",
       "mpl.figure.prototype._key_event_extra = function(event, name) {\n",
       "    var manager = IPython.notebook.keyboard_manager;\n",
       "    if (!manager)\n",
       "        manager = IPython.keyboard_manager;\n",
       "\n",
       "    // Check for shift+enter\n",
       "    if (event.shiftKey && event.which == 13) {\n",
       "        this.canvas_div.blur();\n",
       "        // select the cell after this one\n",
       "        var index = IPython.notebook.find_cell_index(this.cell_info[0]);\n",
       "        IPython.notebook.select(index + 1);\n",
       "    }\n",
       "}\n",
       "\n",
       "mpl.figure.prototype.handle_save = function(fig, msg) {\n",
       "    fig.ondownload(fig, null);\n",
       "}\n",
       "\n",
       "\n",
       "mpl.find_output_cell = function(html_output) {\n",
       "    // Return the cell and output element which can be found *uniquely* in the notebook.\n",
       "    // Note - this is a bit hacky, but it is done because the \"notebook_saving.Notebook\"\n",
       "    // IPython event is triggered only after the cells have been serialised, which for\n",
       "    // our purposes (turning an active figure into a static one), is too late.\n",
       "    var cells = IPython.notebook.get_cells();\n",
       "    var ncells = cells.length;\n",
       "    for (var i=0; i<ncells; i++) {\n",
       "        var cell = cells[i];\n",
       "        if (cell.cell_type === 'code'){\n",
       "            for (var j=0; j<cell.output_area.outputs.length; j++) {\n",
       "                var data = cell.output_area.outputs[j];\n",
       "                if (data.data) {\n",
       "                    // IPython >= 3 moved mimebundle to data attribute of output\n",
       "                    data = data.data;\n",
       "                }\n",
       "                if (data['text/html'] == html_output) {\n",
       "                    return [cell, data, j];\n",
       "                }\n",
       "            }\n",
       "        }\n",
       "    }\n",
       "}\n",
       "\n",
       "// Register the function which deals with the matplotlib target/channel.\n",
       "// The kernel may be null if the page has been refreshed.\n",
       "if (IPython.notebook.kernel != null) {\n",
       "    IPython.notebook.kernel.comm_manager.register_target('matplotlib', mpl.mpl_figure_comm);\n",
       "}\n"
      ],
      "text/plain": [
       "<IPython.core.display.Javascript object>"
      ]
     },
     "metadata": {},
     "output_type": "display_data"
    },
    {
     "data": {
      "text/html": [
       "<img src=\"data:image/png;base64,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\" width=\"640\">"
      ],
      "text/plain": [
       "<IPython.core.display.HTML object>"
      ]
     },
     "metadata": {},
     "output_type": "display_data"
    },
    {
     "data": {
      "text/plain": [
       "<matplotlib.legend.Legend at 0x7ff7e752a640>"
      ]
     },
     "execution_count": 193,
     "metadata": {},
     "output_type": "execute_result"
    }
   ],
   "source": [
    "# create an equally spaced array of 100 numbers from -2pi to 2pi \n",
    "x = np.linspace(-2*np.pi, 2*np.pi, 100)\n",
    "\n",
    "# evaluate a function at each point in x and create a corresponding array\n",
    "y1 = np.sin(x)\n",
    "y2 = np.exp(x/np.pi)\n",
    "\n",
    "plt.figure()\n",
    "plt.plot(x,y1, label=r'$\\sin(x)$')\n",
    "plt.plot(x,y2, label=r'$e^{x/\\pi}$')\n",
    "plt.grid()\n",
    "plt.xlabel(r'$x$')\n",
    "plt.ylabel(r'$f(x)$')\n",
    "plt.legend(loc='upper right')"
   ]
  },
  {
   "cell_type": "markdown",
   "metadata": {
    "id": "-JQD4REHZddc"
   },
   "source": [
    "A few comments:\n",
    "1. The call to sin(x) is a 'ufunc', which automatically acts element-by-element on whatever shape array it is passed.\n",
    "2. Matplotlib supports $\\LaTeX$ style mathematical expressions in any text that it renders -- just enclose in \n",
    "\\\\$-signs. We use a raw (r\"..\") string so that the backslashes are passed onto the $\\LaTeX$ interpreter intact rather than being interpreted as special characters.\n",
    "3. The 'notebook' *backend* (which we turned on at the beginning of the notebook with the ``\\%'' magic command) provides basic interactive plotting inside the notebook. There are other backends which provide somewhat better interaction if you setup jupyter on your local computer."
   ]
  },
  {
   "cell_type": "markdown",
   "metadata": {
    "id": "Y0Wr596VZddc"
   },
   "source": [
    "# Speed #\n",
    "Notice that Python is slow with for loops. You should **avoid for loops** and use vectors instead!"
   ]
  },
  {
   "cell_type": "code",
   "execution_count": 194,
   "metadata": {
    "id": "UGC-yyUrZdde",
    "outputId": "9e66d523-80e4-4219-ae2e-447e4ecfd5a6"
   },
   "outputs": [
    {
     "name": "stdout",
     "output_type": "stream",
     "text": [
      "305 µs ± 6.64 µs per loop (mean ± std. dev. of 7 runs, 1000 loops each)\n"
     ]
    }
   ],
   "source": [
    "L = range(1000)\n",
    "%timeit [i**2 for i in L]"
   ]
  },
  {
   "cell_type": "code",
   "execution_count": 195,
   "metadata": {
    "id": "PQyzPK_hZdde",
    "outputId": "a7e73089-ccdf-437a-b6f7-9be108e0e63e"
   },
   "outputs": [
    {
     "name": "stdout",
     "output_type": "stream",
     "text": [
      "1.02 µs ± 32.6 ns per loop (mean ± std. dev. of 7 runs, 1000000 loops each)\n"
     ]
    }
   ],
   "source": [
    "a = np.arange(1000)\n",
    "%timeit a**2"
   ]
  },
  {
   "cell_type": "markdown",
   "metadata": {
    "id": "rqDvUzIPZddf"
   },
   "source": [
    "# Modular arithmetics #"
   ]
  },
  {
   "cell_type": "code",
   "execution_count": 196,
   "metadata": {
    "id": "2Po-nlPEZddf"
   },
   "outputs": [],
   "source": [
    "def two2xMod21(x):\n",
    "    \"\"\"Return 2^x\"\"\"\n",
    "    y = 2**x % 21\n",
    "    return y"
   ]
  },
  {
   "cell_type": "code",
   "execution_count": 197,
   "metadata": {
    "id": "T9wtDVN3Zddf"
   },
   "outputs": [],
   "source": [
    "x = np.arange(32)"
   ]
  },
  {
   "cell_type": "code",
   "execution_count": 198,
   "metadata": {
    "id": "EZfD0blUZddf",
    "outputId": "7f573ab2-10ab-4ebb-e187-489674b83893"
   },
   "outputs": [
    {
     "data": {
      "text/plain": [
       "array([ 1,  2,  4,  8, 16, 11,  1,  2,  4,  8, 16, 11,  1,  2,  4,  8, 16,\n",
       "       11,  1,  2,  4,  8, 16, 11,  1,  2,  4,  8, 16, 11,  1,  2])"
      ]
     },
     "execution_count": 198,
     "metadata": {},
     "output_type": "execute_result"
    }
   ],
   "source": [
    "two2xMod21(x)"
   ]
  },
  {
   "cell_type": "code",
   "execution_count": 199,
   "metadata": {
    "id": "ZvjsKGunZddf",
    "outputId": "923798df-abfa-4860-c4a1-96303a7fc29a"
   },
   "outputs": [
    {
     "data": {
      "text/plain": [
       "(0.11417182031964711+0j)"
      ]
     },
     "execution_count": 199,
     "metadata": {},
     "output_type": "execute_result"
    }
   ],
   "source": [
    "p = np.arange(86)\n",
    "k=171\n",
    "argument = (1j)*np.pi*3*k/128\n",
    "z = np.exp(argument)\n",
    "z\n",
    "y = z**p\n",
    "w=np.sum(y)\n",
    "w\n",
    "Prob = w * np.conj(w)/(512*86)\n",
    "Prob"
   ]
  },
  {
   "cell_type": "code",
   "execution_count": 200,
   "metadata": {
    "id": "OD6p9YWVZddg"
   },
   "outputs": [],
   "source": [
    "def Probability(k):\n",
    "    \"\"\"Return P(k) for period-finding\"\"\"\n",
    "    p = np.arange(86)\n",
    "    argument = (1j)*np.pi*3*k/128\n",
    "    z = np.exp(argument)\n",
    "    y = z**p\n",
    "    w=np.sum(y)\n",
    "    result = w * np.conj(w)/(512*86)\n",
    "    Prob = result.real\n",
    "    return Prob"
   ]
  },
  {
   "cell_type": "code",
   "execution_count": 201,
   "metadata": {
    "id": "9ltlG7g_Zddg",
    "outputId": "118428ce-4bd1-4dbb-98a6-0e8cc64dd437"
   },
   "outputs": [
    {
     "data": {
      "application/javascript": [
       "/* Put everything inside the global mpl namespace */\n",
       "window.mpl = {};\n",
       "\n",
       "\n",
       "mpl.get_websocket_type = function() {\n",
       "    if (typeof(WebSocket) !== 'undefined') {\n",
       "        return WebSocket;\n",
       "    } else if (typeof(MozWebSocket) !== 'undefined') {\n",
       "        return MozWebSocket;\n",
       "    } else {\n",
       "        alert('Your browser does not have WebSocket support. ' +\n",
       "              'Please try Chrome, Safari or Firefox ≥ 6. ' +\n",
       "              'Firefox 4 and 5 are also supported but you ' +\n",
       "              'have to enable WebSockets in about:config.');\n",
       "    };\n",
       "}\n",
       "\n",
       "mpl.figure = function(figure_id, websocket, ondownload, parent_element) {\n",
       "    this.id = figure_id;\n",
       "\n",
       "    this.ws = websocket;\n",
       "\n",
       "    this.supports_binary = (this.ws.binaryType != undefined);\n",
       "\n",
       "    if (!this.supports_binary) {\n",
       "        var warnings = document.getElementById(\"mpl-warnings\");\n",
       "        if (warnings) {\n",
       "            warnings.style.display = 'block';\n",
       "            warnings.textContent = (\n",
       "                \"This browser does not support binary websocket messages. \" +\n",
       "                    \"Performance may be slow.\");\n",
       "        }\n",
       "    }\n",
       "\n",
       "    this.imageObj = new Image();\n",
       "\n",
       "    this.context = undefined;\n",
       "    this.message = undefined;\n",
       "    this.canvas = undefined;\n",
       "    this.rubberband_canvas = undefined;\n",
       "    this.rubberband_context = undefined;\n",
       "    this.format_dropdown = undefined;\n",
       "\n",
       "    this.image_mode = 'full';\n",
       "\n",
       "    this.root = $('<div/>');\n",
       "    this._root_extra_style(this.root)\n",
       "    this.root.attr('style', 'display: inline-block');\n",
       "\n",
       "    $(parent_element).append(this.root);\n",
       "\n",
       "    this._init_header(this);\n",
       "    this._init_canvas(this);\n",
       "    this._init_toolbar(this);\n",
       "\n",
       "    var fig = this;\n",
       "\n",
       "    this.waiting = false;\n",
       "\n",
       "    this.ws.onopen =  function () {\n",
       "            fig.send_message(\"supports_binary\", {value: fig.supports_binary});\n",
       "            fig.send_message(\"send_image_mode\", {});\n",
       "            if (mpl.ratio != 1) {\n",
       "                fig.send_message(\"set_dpi_ratio\", {'dpi_ratio': mpl.ratio});\n",
       "            }\n",
       "            fig.send_message(\"refresh\", {});\n",
       "        }\n",
       "\n",
       "    this.imageObj.onload = function() {\n",
       "            if (fig.image_mode == 'full') {\n",
       "                // Full images could contain transparency (where diff images\n",
       "                // almost always do), so we need to clear the canvas so that\n",
       "                // there is no ghosting.\n",
       "                fig.context.clearRect(0, 0, fig.canvas.width, fig.canvas.height);\n",
       "            }\n",
       "            fig.context.drawImage(fig.imageObj, 0, 0);\n",
       "        };\n",
       "\n",
       "    this.imageObj.onunload = function() {\n",
       "        fig.ws.close();\n",
       "    }\n",
       "\n",
       "    this.ws.onmessage = this._make_on_message_function(this);\n",
       "\n",
       "    this.ondownload = ondownload;\n",
       "}\n",
       "\n",
       "mpl.figure.prototype._init_header = function() {\n",
       "    var titlebar = $(\n",
       "        '<div class=\"ui-dialog-titlebar ui-widget-header ui-corner-all ' +\n",
       "        'ui-helper-clearfix\"/>');\n",
       "    var titletext = $(\n",
       "        '<div class=\"ui-dialog-title\" style=\"width: 100%; ' +\n",
       "        'text-align: center; padding: 3px;\"/>');\n",
       "    titlebar.append(titletext)\n",
       "    this.root.append(titlebar);\n",
       "    this.header = titletext[0];\n",
       "}\n",
       "\n",
       "\n",
       "\n",
       "mpl.figure.prototype._canvas_extra_style = function(canvas_div) {\n",
       "\n",
       "}\n",
       "\n",
       "\n",
       "mpl.figure.prototype._root_extra_style = function(canvas_div) {\n",
       "\n",
       "}\n",
       "\n",
       "mpl.figure.prototype._init_canvas = function() {\n",
       "    var fig = this;\n",
       "\n",
       "    var canvas_div = $('<div/>');\n",
       "\n",
       "    canvas_div.attr('style', 'position: relative; clear: both; outline: 0');\n",
       "\n",
       "    function canvas_keyboard_event(event) {\n",
       "        return fig.key_event(event, event['data']);\n",
       "    }\n",
       "\n",
       "    canvas_div.keydown('key_press', canvas_keyboard_event);\n",
       "    canvas_div.keyup('key_release', canvas_keyboard_event);\n",
       "    this.canvas_div = canvas_div\n",
       "    this._canvas_extra_style(canvas_div)\n",
       "    this.root.append(canvas_div);\n",
       "\n",
       "    var canvas = $('<canvas/>');\n",
       "    canvas.addClass('mpl-canvas');\n",
       "    canvas.attr('style', \"left: 0; top: 0; z-index: 0; outline: 0\")\n",
       "\n",
       "    this.canvas = canvas[0];\n",
       "    this.context = canvas[0].getContext(\"2d\");\n",
       "\n",
       "    var backingStore = this.context.backingStorePixelRatio ||\n",
       "\tthis.context.webkitBackingStorePixelRatio ||\n",
       "\tthis.context.mozBackingStorePixelRatio ||\n",
       "\tthis.context.msBackingStorePixelRatio ||\n",
       "\tthis.context.oBackingStorePixelRatio ||\n",
       "\tthis.context.backingStorePixelRatio || 1;\n",
       "\n",
       "    mpl.ratio = (window.devicePixelRatio || 1) / backingStore;\n",
       "\n",
       "    var rubberband = $('<canvas/>');\n",
       "    rubberband.attr('style', \"position: absolute; left: 0; top: 0; z-index: 1;\")\n",
       "\n",
       "    var pass_mouse_events = true;\n",
       "\n",
       "    canvas_div.resizable({\n",
       "        start: function(event, ui) {\n",
       "            pass_mouse_events = false;\n",
       "        },\n",
       "        resize: function(event, ui) {\n",
       "            fig.request_resize(ui.size.width, ui.size.height);\n",
       "        },\n",
       "        stop: function(event, ui) {\n",
       "            pass_mouse_events = true;\n",
       "            fig.request_resize(ui.size.width, ui.size.height);\n",
       "        },\n",
       "    });\n",
       "\n",
       "    function mouse_event_fn(event) {\n",
       "        if (pass_mouse_events)\n",
       "            return fig.mouse_event(event, event['data']);\n",
       "    }\n",
       "\n",
       "    rubberband.mousedown('button_press', mouse_event_fn);\n",
       "    rubberband.mouseup('button_release', mouse_event_fn);\n",
       "    // Throttle sequential mouse events to 1 every 20ms.\n",
       "    rubberband.mousemove('motion_notify', mouse_event_fn);\n",
       "\n",
       "    rubberband.mouseenter('figure_enter', mouse_event_fn);\n",
       "    rubberband.mouseleave('figure_leave', mouse_event_fn);\n",
       "\n",
       "    canvas_div.on(\"wheel\", function (event) {\n",
       "        event = event.originalEvent;\n",
       "        event['data'] = 'scroll'\n",
       "        if (event.deltaY < 0) {\n",
       "            event.step = 1;\n",
       "        } else {\n",
       "            event.step = -1;\n",
       "        }\n",
       "        mouse_event_fn(event);\n",
       "    });\n",
       "\n",
       "    canvas_div.append(canvas);\n",
       "    canvas_div.append(rubberband);\n",
       "\n",
       "    this.rubberband = rubberband;\n",
       "    this.rubberband_canvas = rubberband[0];\n",
       "    this.rubberband_context = rubberband[0].getContext(\"2d\");\n",
       "    this.rubberband_context.strokeStyle = \"#000000\";\n",
       "\n",
       "    this._resize_canvas = function(width, height) {\n",
       "        // Keep the size of the canvas, canvas container, and rubber band\n",
       "        // canvas in synch.\n",
       "        canvas_div.css('width', width)\n",
       "        canvas_div.css('height', height)\n",
       "\n",
       "        canvas.attr('width', width * mpl.ratio);\n",
       "        canvas.attr('height', height * mpl.ratio);\n",
       "        canvas.attr('style', 'width: ' + width + 'px; height: ' + height + 'px;');\n",
       "\n",
       "        rubberband.attr('width', width);\n",
       "        rubberband.attr('height', height);\n",
       "    }\n",
       "\n",
       "    // Set the figure to an initial 600x600px, this will subsequently be updated\n",
       "    // upon first draw.\n",
       "    this._resize_canvas(600, 600);\n",
       "\n",
       "    // Disable right mouse context menu.\n",
       "    $(this.rubberband_canvas).bind(\"contextmenu\",function(e){\n",
       "        return false;\n",
       "    });\n",
       "\n",
       "    function set_focus () {\n",
       "        canvas.focus();\n",
       "        canvas_div.focus();\n",
       "    }\n",
       "\n",
       "    window.setTimeout(set_focus, 100);\n",
       "}\n",
       "\n",
       "mpl.figure.prototype._init_toolbar = function() {\n",
       "    var fig = this;\n",
       "\n",
       "    var nav_element = $('<div/>');\n",
       "    nav_element.attr('style', 'width: 100%');\n",
       "    this.root.append(nav_element);\n",
       "\n",
       "    // Define a callback function for later on.\n",
       "    function toolbar_event(event) {\n",
       "        return fig.toolbar_button_onclick(event['data']);\n",
       "    }\n",
       "    function toolbar_mouse_event(event) {\n",
       "        return fig.toolbar_button_onmouseover(event['data']);\n",
       "    }\n",
       "\n",
       "    for(var toolbar_ind in mpl.toolbar_items) {\n",
       "        var name = mpl.toolbar_items[toolbar_ind][0];\n",
       "        var tooltip = mpl.toolbar_items[toolbar_ind][1];\n",
       "        var image = mpl.toolbar_items[toolbar_ind][2];\n",
       "        var method_name = mpl.toolbar_items[toolbar_ind][3];\n",
       "\n",
       "        if (!name) {\n",
       "            // put a spacer in here.\n",
       "            continue;\n",
       "        }\n",
       "        var button = $('<button/>');\n",
       "        button.addClass('ui-button ui-widget ui-state-default ui-corner-all ' +\n",
       "                        'ui-button-icon-only');\n",
       "        button.attr('role', 'button');\n",
       "        button.attr('aria-disabled', 'false');\n",
       "        button.click(method_name, toolbar_event);\n",
       "        button.mouseover(tooltip, toolbar_mouse_event);\n",
       "\n",
       "        var icon_img = $('<span/>');\n",
       "        icon_img.addClass('ui-button-icon-primary ui-icon');\n",
       "        icon_img.addClass(image);\n",
       "        icon_img.addClass('ui-corner-all');\n",
       "\n",
       "        var tooltip_span = $('<span/>');\n",
       "        tooltip_span.addClass('ui-button-text');\n",
       "        tooltip_span.html(tooltip);\n",
       "\n",
       "        button.append(icon_img);\n",
       "        button.append(tooltip_span);\n",
       "\n",
       "        nav_element.append(button);\n",
       "    }\n",
       "\n",
       "    var fmt_picker_span = $('<span/>');\n",
       "\n",
       "    var fmt_picker = $('<select/>');\n",
       "    fmt_picker.addClass('mpl-toolbar-option ui-widget ui-widget-content');\n",
       "    fmt_picker_span.append(fmt_picker);\n",
       "    nav_element.append(fmt_picker_span);\n",
       "    this.format_dropdown = fmt_picker[0];\n",
       "\n",
       "    for (var ind in mpl.extensions) {\n",
       "        var fmt = mpl.extensions[ind];\n",
       "        var option = $(\n",
       "            '<option/>', {selected: fmt === mpl.default_extension}).html(fmt);\n",
       "        fmt_picker.append(option);\n",
       "    }\n",
       "\n",
       "    // Add hover states to the ui-buttons\n",
       "    $( \".ui-button\" ).hover(\n",
       "        function() { $(this).addClass(\"ui-state-hover\");},\n",
       "        function() { $(this).removeClass(\"ui-state-hover\");}\n",
       "    );\n",
       "\n",
       "    var status_bar = $('<span class=\"mpl-message\"/>');\n",
       "    nav_element.append(status_bar);\n",
       "    this.message = status_bar[0];\n",
       "}\n",
       "\n",
       "mpl.figure.prototype.request_resize = function(x_pixels, y_pixels) {\n",
       "    // Request matplotlib to resize the figure. Matplotlib will then trigger a resize in the client,\n",
       "    // which will in turn request a refresh of the image.\n",
       "    this.send_message('resize', {'width': x_pixels, 'height': y_pixels});\n",
       "}\n",
       "\n",
       "mpl.figure.prototype.send_message = function(type, properties) {\n",
       "    properties['type'] = type;\n",
       "    properties['figure_id'] = this.id;\n",
       "    this.ws.send(JSON.stringify(properties));\n",
       "}\n",
       "\n",
       "mpl.figure.prototype.send_draw_message = function() {\n",
       "    if (!this.waiting) {\n",
       "        this.waiting = true;\n",
       "        this.ws.send(JSON.stringify({type: \"draw\", figure_id: this.id}));\n",
       "    }\n",
       "}\n",
       "\n",
       "\n",
       "mpl.figure.prototype.handle_save = function(fig, msg) {\n",
       "    var format_dropdown = fig.format_dropdown;\n",
       "    var format = format_dropdown.options[format_dropdown.selectedIndex].value;\n",
       "    fig.ondownload(fig, format);\n",
       "}\n",
       "\n",
       "\n",
       "mpl.figure.prototype.handle_resize = function(fig, msg) {\n",
       "    var size = msg['size'];\n",
       "    if (size[0] != fig.canvas.width || size[1] != fig.canvas.height) {\n",
       "        fig._resize_canvas(size[0], size[1]);\n",
       "        fig.send_message(\"refresh\", {});\n",
       "    };\n",
       "}\n",
       "\n",
       "mpl.figure.prototype.handle_rubberband = function(fig, msg) {\n",
       "    var x0 = msg['x0'] / mpl.ratio;\n",
       "    var y0 = (fig.canvas.height - msg['y0']) / mpl.ratio;\n",
       "    var x1 = msg['x1'] / mpl.ratio;\n",
       "    var y1 = (fig.canvas.height - msg['y1']) / mpl.ratio;\n",
       "    x0 = Math.floor(x0) + 0.5;\n",
       "    y0 = Math.floor(y0) + 0.5;\n",
       "    x1 = Math.floor(x1) + 0.5;\n",
       "    y1 = Math.floor(y1) + 0.5;\n",
       "    var min_x = Math.min(x0, x1);\n",
       "    var min_y = Math.min(y0, y1);\n",
       "    var width = Math.abs(x1 - x0);\n",
       "    var height = Math.abs(y1 - y0);\n",
       "\n",
       "    fig.rubberband_context.clearRect(\n",
       "        0, 0, fig.canvas.width / mpl.ratio, fig.canvas.height / mpl.ratio);\n",
       "\n",
       "    fig.rubberband_context.strokeRect(min_x, min_y, width, height);\n",
       "}\n",
       "\n",
       "mpl.figure.prototype.handle_figure_label = function(fig, msg) {\n",
       "    // Updates the figure title.\n",
       "    fig.header.textContent = msg['label'];\n",
       "}\n",
       "\n",
       "mpl.figure.prototype.handle_cursor = function(fig, msg) {\n",
       "    var cursor = msg['cursor'];\n",
       "    switch(cursor)\n",
       "    {\n",
       "    case 0:\n",
       "        cursor = 'pointer';\n",
       "        break;\n",
       "    case 1:\n",
       "        cursor = 'default';\n",
       "        break;\n",
       "    case 2:\n",
       "        cursor = 'crosshair';\n",
       "        break;\n",
       "    case 3:\n",
       "        cursor = 'move';\n",
       "        break;\n",
       "    }\n",
       "    fig.rubberband_canvas.style.cursor = cursor;\n",
       "}\n",
       "\n",
       "mpl.figure.prototype.handle_message = function(fig, msg) {\n",
       "    fig.message.textContent = msg['message'];\n",
       "}\n",
       "\n",
       "mpl.figure.prototype.handle_draw = function(fig, msg) {\n",
       "    // Request the server to send over a new figure.\n",
       "    fig.send_draw_message();\n",
       "}\n",
       "\n",
       "mpl.figure.prototype.handle_image_mode = function(fig, msg) {\n",
       "    fig.image_mode = msg['mode'];\n",
       "}\n",
       "\n",
       "mpl.figure.prototype.updated_canvas_event = function() {\n",
       "    // Called whenever the canvas gets updated.\n",
       "    this.send_message(\"ack\", {});\n",
       "}\n",
       "\n",
       "// A function to construct a web socket function for onmessage handling.\n",
       "// Called in the figure constructor.\n",
       "mpl.figure.prototype._make_on_message_function = function(fig) {\n",
       "    return function socket_on_message(evt) {\n",
       "        if (evt.data instanceof Blob) {\n",
       "            /* FIXME: We get \"Resource interpreted as Image but\n",
       "             * transferred with MIME type text/plain:\" errors on\n",
       "             * Chrome.  But how to set the MIME type?  It doesn't seem\n",
       "             * to be part of the websocket stream */\n",
       "            evt.data.type = \"image/png\";\n",
       "\n",
       "            /* Free the memory for the previous frames */\n",
       "            if (fig.imageObj.src) {\n",
       "                (window.URL || window.webkitURL).revokeObjectURL(\n",
       "                    fig.imageObj.src);\n",
       "            }\n",
       "\n",
       "            fig.imageObj.src = (window.URL || window.webkitURL).createObjectURL(\n",
       "                evt.data);\n",
       "            fig.updated_canvas_event();\n",
       "            fig.waiting = false;\n",
       "            return;\n",
       "        }\n",
       "        else if (typeof evt.data === 'string' && evt.data.slice(0, 21) == \"data:image/png;base64\") {\n",
       "            fig.imageObj.src = evt.data;\n",
       "            fig.updated_canvas_event();\n",
       "            fig.waiting = false;\n",
       "            return;\n",
       "        }\n",
       "\n",
       "        var msg = JSON.parse(evt.data);\n",
       "        var msg_type = msg['type'];\n",
       "\n",
       "        // Call the  \"handle_{type}\" callback, which takes\n",
       "        // the figure and JSON message as its only arguments.\n",
       "        try {\n",
       "            var callback = fig[\"handle_\" + msg_type];\n",
       "        } catch (e) {\n",
       "            console.log(\"No handler for the '\" + msg_type + \"' message type: \", msg);\n",
       "            return;\n",
       "        }\n",
       "\n",
       "        if (callback) {\n",
       "            try {\n",
       "                // console.log(\"Handling '\" + msg_type + \"' message: \", msg);\n",
       "                callback(fig, msg);\n",
       "            } catch (e) {\n",
       "                console.log(\"Exception inside the 'handler_\" + msg_type + \"' callback:\", e, e.stack, msg);\n",
       "            }\n",
       "        }\n",
       "    };\n",
       "}\n",
       "\n",
       "// from http://stackoverflow.com/questions/1114465/getting-mouse-location-in-canvas\n",
       "mpl.findpos = function(e) {\n",
       "    //this section is from http://www.quirksmode.org/js/events_properties.html\n",
       "    var targ;\n",
       "    if (!e)\n",
       "        e = window.event;\n",
       "    if (e.target)\n",
       "        targ = e.target;\n",
       "    else if (e.srcElement)\n",
       "        targ = e.srcElement;\n",
       "    if (targ.nodeType == 3) // defeat Safari bug\n",
       "        targ = targ.parentNode;\n",
       "\n",
       "    // jQuery normalizes the pageX and pageY\n",
       "    // pageX,Y are the mouse positions relative to the document\n",
       "    // offset() returns the position of the element relative to the document\n",
       "    var x = e.pageX - $(targ).offset().left;\n",
       "    var y = e.pageY - $(targ).offset().top;\n",
       "\n",
       "    return {\"x\": x, \"y\": y};\n",
       "};\n",
       "\n",
       "/*\n",
       " * return a copy of an object with only non-object keys\n",
       " * we need this to avoid circular references\n",
       " * http://stackoverflow.com/a/24161582/3208463\n",
       " */\n",
       "function simpleKeys (original) {\n",
       "  return Object.keys(original).reduce(function (obj, key) {\n",
       "    if (typeof original[key] !== 'object')\n",
       "        obj[key] = original[key]\n",
       "    return obj;\n",
       "  }, {});\n",
       "}\n",
       "\n",
       "mpl.figure.prototype.mouse_event = function(event, name) {\n",
       "    var canvas_pos = mpl.findpos(event)\n",
       "\n",
       "    if (name === 'button_press')\n",
       "    {\n",
       "        this.canvas.focus();\n",
       "        this.canvas_div.focus();\n",
       "    }\n",
       "\n",
       "    var x = canvas_pos.x * mpl.ratio;\n",
       "    var y = canvas_pos.y * mpl.ratio;\n",
       "\n",
       "    this.send_message(name, {x: x, y: y, button: event.button,\n",
       "                             step: event.step,\n",
       "                             guiEvent: simpleKeys(event)});\n",
       "\n",
       "    /* This prevents the web browser from automatically changing to\n",
       "     * the text insertion cursor when the button is pressed.  We want\n",
       "     * to control all of the cursor setting manually through the\n",
       "     * 'cursor' event from matplotlib */\n",
       "    event.preventDefault();\n",
       "    return false;\n",
       "}\n",
       "\n",
       "mpl.figure.prototype._key_event_extra = function(event, name) {\n",
       "    // Handle any extra behaviour associated with a key event\n",
       "}\n",
       "\n",
       "mpl.figure.prototype.key_event = function(event, name) {\n",
       "\n",
       "    // Prevent repeat events\n",
       "    if (name == 'key_press')\n",
       "    {\n",
       "        if (event.which === this._key)\n",
       "            return;\n",
       "        else\n",
       "            this._key = event.which;\n",
       "    }\n",
       "    if (name == 'key_release')\n",
       "        this._key = null;\n",
       "\n",
       "    var value = '';\n",
       "    if (event.ctrlKey && event.which != 17)\n",
       "        value += \"ctrl+\";\n",
       "    if (event.altKey && event.which != 18)\n",
       "        value += \"alt+\";\n",
       "    if (event.shiftKey && event.which != 16)\n",
       "        value += \"shift+\";\n",
       "\n",
       "    value += 'k';\n",
       "    value += event.which.toString();\n",
       "\n",
       "    this._key_event_extra(event, name);\n",
       "\n",
       "    this.send_message(name, {key: value,\n",
       "                             guiEvent: simpleKeys(event)});\n",
       "    return false;\n",
       "}\n",
       "\n",
       "mpl.figure.prototype.toolbar_button_onclick = function(name) {\n",
       "    if (name == 'download') {\n",
       "        this.handle_save(this, null);\n",
       "    } else {\n",
       "        this.send_message(\"toolbar_button\", {name: name});\n",
       "    }\n",
       "};\n",
       "\n",
       "mpl.figure.prototype.toolbar_button_onmouseover = function(tooltip) {\n",
       "    this.message.textContent = tooltip;\n",
       "};\n",
       "mpl.toolbar_items = [[\"Home\", \"Reset original view\", \"fa fa-home icon-home\", \"home\"], [\"Back\", \"Back to previous view\", \"fa fa-arrow-left icon-arrow-left\", \"back\"], [\"Forward\", \"Forward to next view\", \"fa fa-arrow-right icon-arrow-right\", \"forward\"], [\"\", \"\", \"\", \"\"], [\"Pan\", \"Pan axes with left mouse, zoom with right\", \"fa fa-arrows icon-move\", \"pan\"], [\"Zoom\", \"Zoom to rectangle\", \"fa fa-square-o icon-check-empty\", \"zoom\"], [\"\", \"\", \"\", \"\"], [\"Download\", \"Download plot\", \"fa fa-floppy-o icon-save\", \"download\"]];\n",
       "\n",
       "mpl.extensions = [\"eps\", \"jpeg\", \"pdf\", \"png\", \"ps\", \"raw\", \"svg\", \"tif\"];\n",
       "\n",
       "mpl.default_extension = \"png\";var comm_websocket_adapter = function(comm) {\n",
       "    // Create a \"websocket\"-like object which calls the given IPython comm\n",
       "    // object with the appropriate methods. Currently this is a non binary\n",
       "    // socket, so there is still some room for performance tuning.\n",
       "    var ws = {};\n",
       "\n",
       "    ws.close = function() {\n",
       "        comm.close()\n",
       "    };\n",
       "    ws.send = function(m) {\n",
       "        //console.log('sending', m);\n",
       "        comm.send(m);\n",
       "    };\n",
       "    // Register the callback with on_msg.\n",
       "    comm.on_msg(function(msg) {\n",
       "        //console.log('receiving', msg['content']['data'], msg);\n",
       "        // Pass the mpl event to the overridden (by mpl) onmessage function.\n",
       "        ws.onmessage(msg['content']['data'])\n",
       "    });\n",
       "    return ws;\n",
       "}\n",
       "\n",
       "mpl.mpl_figure_comm = function(comm, msg) {\n",
       "    // This is the function which gets called when the mpl process\n",
       "    // starts-up an IPython Comm through the \"matplotlib\" channel.\n",
       "\n",
       "    var id = msg.content.data.id;\n",
       "    // Get hold of the div created by the display call when the Comm\n",
       "    // socket was opened in Python.\n",
       "    var element = $(\"#\" + id);\n",
       "    var ws_proxy = comm_websocket_adapter(comm)\n",
       "\n",
       "    function ondownload(figure, format) {\n",
       "        window.open(figure.imageObj.src);\n",
       "    }\n",
       "\n",
       "    var fig = new mpl.figure(id, ws_proxy,\n",
       "                           ondownload,\n",
       "                           element.get(0));\n",
       "\n",
       "    // Call onopen now - mpl needs it, as it is assuming we've passed it a real\n",
       "    // web socket which is closed, not our websocket->open comm proxy.\n",
       "    ws_proxy.onopen();\n",
       "\n",
       "    fig.parent_element = element.get(0);\n",
       "    fig.cell_info = mpl.find_output_cell(\"<div id='\" + id + \"'></div>\");\n",
       "    if (!fig.cell_info) {\n",
       "        console.error(\"Failed to find cell for figure\", id, fig);\n",
       "        return;\n",
       "    }\n",
       "\n",
       "    var output_index = fig.cell_info[2]\n",
       "    var cell = fig.cell_info[0];\n",
       "\n",
       "};\n",
       "\n",
       "mpl.figure.prototype.handle_close = function(fig, msg) {\n",
       "    var width = fig.canvas.width/mpl.ratio\n",
       "    fig.root.unbind('remove')\n",
       "\n",
       "    // Update the output cell to use the data from the current canvas.\n",
       "    fig.push_to_output();\n",
       "    var dataURL = fig.canvas.toDataURL();\n",
       "    // Re-enable the keyboard manager in IPython - without this line, in FF,\n",
       "    // the notebook keyboard shortcuts fail.\n",
       "    IPython.keyboard_manager.enable()\n",
       "    $(fig.parent_element).html('<img src=\"' + dataURL + '\" width=\"' + width + '\">');\n",
       "    fig.close_ws(fig, msg);\n",
       "}\n",
       "\n",
       "mpl.figure.prototype.close_ws = function(fig, msg){\n",
       "    fig.send_message('closing', msg);\n",
       "    // fig.ws.close()\n",
       "}\n",
       "\n",
       "mpl.figure.prototype.push_to_output = function(remove_interactive) {\n",
       "    // Turn the data on the canvas into data in the output cell.\n",
       "    var width = this.canvas.width/mpl.ratio\n",
       "    var dataURL = this.canvas.toDataURL();\n",
       "    this.cell_info[1]['text/html'] = '<img src=\"' + dataURL + '\" width=\"' + width + '\">';\n",
       "}\n",
       "\n",
       "mpl.figure.prototype.updated_canvas_event = function() {\n",
       "    // Tell IPython that the notebook contents must change.\n",
       "    IPython.notebook.set_dirty(true);\n",
       "    this.send_message(\"ack\", {});\n",
       "    var fig = this;\n",
       "    // Wait a second, then push the new image to the DOM so\n",
       "    // that it is saved nicely (might be nice to debounce this).\n",
       "    setTimeout(function () { fig.push_to_output() }, 1000);\n",
       "}\n",
       "\n",
       "mpl.figure.prototype._init_toolbar = function() {\n",
       "    var fig = this;\n",
       "\n",
       "    var nav_element = $('<div/>');\n",
       "    nav_element.attr('style', 'width: 100%');\n",
       "    this.root.append(nav_element);\n",
       "\n",
       "    // Define a callback function for later on.\n",
       "    function toolbar_event(event) {\n",
       "        return fig.toolbar_button_onclick(event['data']);\n",
       "    }\n",
       "    function toolbar_mouse_event(event) {\n",
       "        return fig.toolbar_button_onmouseover(event['data']);\n",
       "    }\n",
       "\n",
       "    for(var toolbar_ind in mpl.toolbar_items){\n",
       "        var name = mpl.toolbar_items[toolbar_ind][0];\n",
       "        var tooltip = mpl.toolbar_items[toolbar_ind][1];\n",
       "        var image = mpl.toolbar_items[toolbar_ind][2];\n",
       "        var method_name = mpl.toolbar_items[toolbar_ind][3];\n",
       "\n",
       "        if (!name) { continue; };\n",
       "\n",
       "        var button = $('<button class=\"btn btn-default\" href=\"#\" title=\"' + name + '\"><i class=\"fa ' + image + ' fa-lg\"></i></button>');\n",
       "        button.click(method_name, toolbar_event);\n",
       "        button.mouseover(tooltip, toolbar_mouse_event);\n",
       "        nav_element.append(button);\n",
       "    }\n",
       "\n",
       "    // Add the status bar.\n",
       "    var status_bar = $('<span class=\"mpl-message\" style=\"text-align:right; float: right;\"/>');\n",
       "    nav_element.append(status_bar);\n",
       "    this.message = status_bar[0];\n",
       "\n",
       "    // Add the close button to the window.\n",
       "    var buttongrp = $('<div class=\"btn-group inline pull-right\"></div>');\n",
       "    var button = $('<button class=\"btn btn-mini btn-primary\" href=\"#\" title=\"Stop Interaction\"><i class=\"fa fa-power-off icon-remove icon-large\"></i></button>');\n",
       "    button.click(function (evt) { fig.handle_close(fig, {}); } );\n",
       "    button.mouseover('Stop Interaction', toolbar_mouse_event);\n",
       "    buttongrp.append(button);\n",
       "    var titlebar = this.root.find($('.ui-dialog-titlebar'));\n",
       "    titlebar.prepend(buttongrp);\n",
       "}\n",
       "\n",
       "mpl.figure.prototype._root_extra_style = function(el){\n",
       "    var fig = this\n",
       "    el.on(\"remove\", function(){\n",
       "\tfig.close_ws(fig, {});\n",
       "    });\n",
       "}\n",
       "\n",
       "mpl.figure.prototype._canvas_extra_style = function(el){\n",
       "    // this is important to make the div 'focusable\n",
       "    el.attr('tabindex', 0)\n",
       "    // reach out to IPython and tell the keyboard manager to turn it's self\n",
       "    // off when our div gets focus\n",
       "\n",
       "    // location in version 3\n",
       "    if (IPython.notebook.keyboard_manager) {\n",
       "        IPython.notebook.keyboard_manager.register_events(el);\n",
       "    }\n",
       "    else {\n",
       "        // location in version 2\n",
       "        IPython.keyboard_manager.register_events(el);\n",
       "    }\n",
       "\n",
       "}\n",
       "\n",
       "mpl.figure.prototype._key_event_extra = function(event, name) {\n",
       "    var manager = IPython.notebook.keyboard_manager;\n",
       "    if (!manager)\n",
       "        manager = IPython.keyboard_manager;\n",
       "\n",
       "    // Check for shift+enter\n",
       "    if (event.shiftKey && event.which == 13) {\n",
       "        this.canvas_div.blur();\n",
       "        // select the cell after this one\n",
       "        var index = IPython.notebook.find_cell_index(this.cell_info[0]);\n",
       "        IPython.notebook.select(index + 1);\n",
       "    }\n",
       "}\n",
       "\n",
       "mpl.figure.prototype.handle_save = function(fig, msg) {\n",
       "    fig.ondownload(fig, null);\n",
       "}\n",
       "\n",
       "\n",
       "mpl.find_output_cell = function(html_output) {\n",
       "    // Return the cell and output element which can be found *uniquely* in the notebook.\n",
       "    // Note - this is a bit hacky, but it is done because the \"notebook_saving.Notebook\"\n",
       "    // IPython event is triggered only after the cells have been serialised, which for\n",
       "    // our purposes (turning an active figure into a static one), is too late.\n",
       "    var cells = IPython.notebook.get_cells();\n",
       "    var ncells = cells.length;\n",
       "    for (var i=0; i<ncells; i++) {\n",
       "        var cell = cells[i];\n",
       "        if (cell.cell_type === 'code'){\n",
       "            for (var j=0; j<cell.output_area.outputs.length; j++) {\n",
       "                var data = cell.output_area.outputs[j];\n",
       "                if (data.data) {\n",
       "                    // IPython >= 3 moved mimebundle to data attribute of output\n",
       "                    data = data.data;\n",
       "                }\n",
       "                if (data['text/html'] == html_output) {\n",
       "                    return [cell, data, j];\n",
       "                }\n",
       "            }\n",
       "        }\n",
       "    }\n",
       "}\n",
       "\n",
       "// Register the function which deals with the matplotlib target/channel.\n",
       "// The kernel may be null if the page has been refreshed.\n",
       "if (IPython.notebook.kernel != null) {\n",
       "    IPython.notebook.kernel.comm_manager.register_target('matplotlib', mpl.mpl_figure_comm);\n",
       "}\n"
      ],
      "text/plain": [
       "<IPython.core.display.Javascript object>"
      ]
     },
     "metadata": {},
     "output_type": "display_data"
    },
    {
     "data": {
      "text/html": [
       "<img src=\"data:image/png;base64,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\" width=\"640\">"
      ],
      "text/plain": [
       "<IPython.core.display.HTML object>"
      ]
     },
     "metadata": {},
     "output_type": "display_data"
    },
    {
     "name": "stdout",
     "output_type": "stream",
     "text": [
      "[0, 6, 12, 18, 24, 30]\n",
      "['0', '6', '12', '18', '24', '30']\n"
     ]
    },
    {
     "data": {
      "text/plain": [
       "<function matplotlib.pyplot.show(*args, **kw)>"
      ]
     },
     "execution_count": 201,
     "metadata": {},
     "output_type": "execute_result"
    }
   ],
   "source": [
    "# create an equally spaced array of numbers starting from 0\n",
    "x = np.arange(32)\n",
    "\n",
    "# evaluate a function at each point in x and create a corresponding array\n",
    "y = two2xMod21(x)\n",
    "\n",
    "plt.figure()\n",
    "#plt.scatter(x,y, label=r'$2^{x} mod(21)$')\n",
    "#plt.plot(x,y, color='green', linestyle='dashed', marker='o',markerfacecolor='blue', markersize=12, label=r'$2^{x} mod(21)$')\n",
    "plt.plot(x,y, color='green', linestyle='dashed', marker='o',markerfacecolor='blue', markersize=8)\n",
    "plt.grid()\n",
    "plt.xlabel(r'$x$')\n",
    "plt.ylabel(r'$2^{x} \\; mod\\, (21)$')\n",
    "#plt.legend(loc='upper right')\n",
    "\n",
    "ax = plt.gca()\n",
    "xtick_marks=[0,6,12,18,24,30]\n",
    "xtick_labels=[\"0\",\"6\",\"12\",\"18\",\"24\",\"30\"]\n",
    "\n",
    "print(xtick_marks)\n",
    "print(xtick_labels)\n",
    "\n",
    "ax.set_xticks(xtick_marks)\n",
    "ax.set_xticklabels(xtick_labels)\n",
    "\n",
    "plt.show"
   ]
  },
  {
   "cell_type": "code",
   "execution_count": 202,
   "metadata": {
    "id": "7bCm0UF3Zddg",
    "outputId": "06bf839b-b07b-462c-ae8d-fa2495b29d9e"
   },
   "outputs": [
    {
     "data": {
      "text/plain": [
       "array([  0.,   1.,   2.,   3.,   4.,   5.,   6.,   7.,   8.,   9.,  10.,\n",
       "        11.,  12.,  13.,  14.,  15.,  16.,  17.,  18.,  19.,  20.,  21.,\n",
       "        22.,  23.,  24.,  25.,  26.,  27.,  28.,  29.,  30.,  31.,  32.,\n",
       "        33.,  34.,  35.,  36.,  37.,  38.,  39.,  40.,  41.,  42.,  43.,\n",
       "        44.,  45.,  46.,  47.,  48.,  49.,  50.,  51.,  52.,  53.,  54.,\n",
       "        55.,  56.,  57.,  58.,  59.,  60.,  61.,  62.,  63.,  64.,  65.,\n",
       "        66.,  67.,  68.,  69.,  70.,  71.,  72.,  73.,  74.,  75.,  76.,\n",
       "        77.,  78.,  79.,  80.,  81.,  82.,  83.,  84.,  85.,  86.,  87.,\n",
       "        88.,  89.,  90.,  91.,  92.,  93.,  94.,  95.,  96.,  97.,  98.,\n",
       "        99., 100., 101., 102., 103., 104., 105., 106., 107., 108., 109.,\n",
       "       110., 111., 112., 113., 114., 115., 116., 117., 118., 119., 120.,\n",
       "       121., 122., 123., 124., 125., 126., 127.])"
      ]
     },
     "execution_count": 202,
     "metadata": {},
     "output_type": "execute_result"
    }
   ],
   "source": [
    "k = np.arange(128)\n",
    "y = np.linspace(0, 127, 128)\n",
    "y\n",
    "#y.dtype\n",
    "#Pk = Probability(85)\n",
    "#y[85]=Pk\n",
    "#y"
   ]
  },
  {
   "cell_type": "code",
   "execution_count": 203,
   "metadata": {
    "id": "gqy_F4VJZddh",
    "outputId": "db3c651a-e41d-4be8-afe9-d7821221a6b7"
   },
   "outputs": [
    {
     "data": {
      "application/javascript": [
       "/* Put everything inside the global mpl namespace */\n",
       "window.mpl = {};\n",
       "\n",
       "\n",
       "mpl.get_websocket_type = function() {\n",
       "    if (typeof(WebSocket) !== 'undefined') {\n",
       "        return WebSocket;\n",
       "    } else if (typeof(MozWebSocket) !== 'undefined') {\n",
       "        return MozWebSocket;\n",
       "    } else {\n",
       "        alert('Your browser does not have WebSocket support. ' +\n",
       "              'Please try Chrome, Safari or Firefox ≥ 6. ' +\n",
       "              'Firefox 4 and 5 are also supported but you ' +\n",
       "              'have to enable WebSockets in about:config.');\n",
       "    };\n",
       "}\n",
       "\n",
       "mpl.figure = function(figure_id, websocket, ondownload, parent_element) {\n",
       "    this.id = figure_id;\n",
       "\n",
       "    this.ws = websocket;\n",
       "\n",
       "    this.supports_binary = (this.ws.binaryType != undefined);\n",
       "\n",
       "    if (!this.supports_binary) {\n",
       "        var warnings = document.getElementById(\"mpl-warnings\");\n",
       "        if (warnings) {\n",
       "            warnings.style.display = 'block';\n",
       "            warnings.textContent = (\n",
       "                \"This browser does not support binary websocket messages. \" +\n",
       "                    \"Performance may be slow.\");\n",
       "        }\n",
       "    }\n",
       "\n",
       "    this.imageObj = new Image();\n",
       "\n",
       "    this.context = undefined;\n",
       "    this.message = undefined;\n",
       "    this.canvas = undefined;\n",
       "    this.rubberband_canvas = undefined;\n",
       "    this.rubberband_context = undefined;\n",
       "    this.format_dropdown = undefined;\n",
       "\n",
       "    this.image_mode = 'full';\n",
       "\n",
       "    this.root = $('<div/>');\n",
       "    this._root_extra_style(this.root)\n",
       "    this.root.attr('style', 'display: inline-block');\n",
       "\n",
       "    $(parent_element).append(this.root);\n",
       "\n",
       "    this._init_header(this);\n",
       "    this._init_canvas(this);\n",
       "    this._init_toolbar(this);\n",
       "\n",
       "    var fig = this;\n",
       "\n",
       "    this.waiting = false;\n",
       "\n",
       "    this.ws.onopen =  function () {\n",
       "            fig.send_message(\"supports_binary\", {value: fig.supports_binary});\n",
       "            fig.send_message(\"send_image_mode\", {});\n",
       "            if (mpl.ratio != 1) {\n",
       "                fig.send_message(\"set_dpi_ratio\", {'dpi_ratio': mpl.ratio});\n",
       "            }\n",
       "            fig.send_message(\"refresh\", {});\n",
       "        }\n",
       "\n",
       "    this.imageObj.onload = function() {\n",
       "            if (fig.image_mode == 'full') {\n",
       "                // Full images could contain transparency (where diff images\n",
       "                // almost always do), so we need to clear the canvas so that\n",
       "                // there is no ghosting.\n",
       "                fig.context.clearRect(0, 0, fig.canvas.width, fig.canvas.height);\n",
       "            }\n",
       "            fig.context.drawImage(fig.imageObj, 0, 0);\n",
       "        };\n",
       "\n",
       "    this.imageObj.onunload = function() {\n",
       "        fig.ws.close();\n",
       "    }\n",
       "\n",
       "    this.ws.onmessage = this._make_on_message_function(this);\n",
       "\n",
       "    this.ondownload = ondownload;\n",
       "}\n",
       "\n",
       "mpl.figure.prototype._init_header = function() {\n",
       "    var titlebar = $(\n",
       "        '<div class=\"ui-dialog-titlebar ui-widget-header ui-corner-all ' +\n",
       "        'ui-helper-clearfix\"/>');\n",
       "    var titletext = $(\n",
       "        '<div class=\"ui-dialog-title\" style=\"width: 100%; ' +\n",
       "        'text-align: center; padding: 3px;\"/>');\n",
       "    titlebar.append(titletext)\n",
       "    this.root.append(titlebar);\n",
       "    this.header = titletext[0];\n",
       "}\n",
       "\n",
       "\n",
       "\n",
       "mpl.figure.prototype._canvas_extra_style = function(canvas_div) {\n",
       "\n",
       "}\n",
       "\n",
       "\n",
       "mpl.figure.prototype._root_extra_style = function(canvas_div) {\n",
       "\n",
       "}\n",
       "\n",
       "mpl.figure.prototype._init_canvas = function() {\n",
       "    var fig = this;\n",
       "\n",
       "    var canvas_div = $('<div/>');\n",
       "\n",
       "    canvas_div.attr('style', 'position: relative; clear: both; outline: 0');\n",
       "\n",
       "    function canvas_keyboard_event(event) {\n",
       "        return fig.key_event(event, event['data']);\n",
       "    }\n",
       "\n",
       "    canvas_div.keydown('key_press', canvas_keyboard_event);\n",
       "    canvas_div.keyup('key_release', canvas_keyboard_event);\n",
       "    this.canvas_div = canvas_div\n",
       "    this._canvas_extra_style(canvas_div)\n",
       "    this.root.append(canvas_div);\n",
       "\n",
       "    var canvas = $('<canvas/>');\n",
       "    canvas.addClass('mpl-canvas');\n",
       "    canvas.attr('style', \"left: 0; top: 0; z-index: 0; outline: 0\")\n",
       "\n",
       "    this.canvas = canvas[0];\n",
       "    this.context = canvas[0].getContext(\"2d\");\n",
       "\n",
       "    var backingStore = this.context.backingStorePixelRatio ||\n",
       "\tthis.context.webkitBackingStorePixelRatio ||\n",
       "\tthis.context.mozBackingStorePixelRatio ||\n",
       "\tthis.context.msBackingStorePixelRatio ||\n",
       "\tthis.context.oBackingStorePixelRatio ||\n",
       "\tthis.context.backingStorePixelRatio || 1;\n",
       "\n",
       "    mpl.ratio = (window.devicePixelRatio || 1) / backingStore;\n",
       "\n",
       "    var rubberband = $('<canvas/>');\n",
       "    rubberband.attr('style', \"position: absolute; left: 0; top: 0; z-index: 1;\")\n",
       "\n",
       "    var pass_mouse_events = true;\n",
       "\n",
       "    canvas_div.resizable({\n",
       "        start: function(event, ui) {\n",
       "            pass_mouse_events = false;\n",
       "        },\n",
       "        resize: function(event, ui) {\n",
       "            fig.request_resize(ui.size.width, ui.size.height);\n",
       "        },\n",
       "        stop: function(event, ui) {\n",
       "            pass_mouse_events = true;\n",
       "            fig.request_resize(ui.size.width, ui.size.height);\n",
       "        },\n",
       "    });\n",
       "\n",
       "    function mouse_event_fn(event) {\n",
       "        if (pass_mouse_events)\n",
       "            return fig.mouse_event(event, event['data']);\n",
       "    }\n",
       "\n",
       "    rubberband.mousedown('button_press', mouse_event_fn);\n",
       "    rubberband.mouseup('button_release', mouse_event_fn);\n",
       "    // Throttle sequential mouse events to 1 every 20ms.\n",
       "    rubberband.mousemove('motion_notify', mouse_event_fn);\n",
       "\n",
       "    rubberband.mouseenter('figure_enter', mouse_event_fn);\n",
       "    rubberband.mouseleave('figure_leave', mouse_event_fn);\n",
       "\n",
       "    canvas_div.on(\"wheel\", function (event) {\n",
       "        event = event.originalEvent;\n",
       "        event['data'] = 'scroll'\n",
       "        if (event.deltaY < 0) {\n",
       "            event.step = 1;\n",
       "        } else {\n",
       "            event.step = -1;\n",
       "        }\n",
       "        mouse_event_fn(event);\n",
       "    });\n",
       "\n",
       "    canvas_div.append(canvas);\n",
       "    canvas_div.append(rubberband);\n",
       "\n",
       "    this.rubberband = rubberband;\n",
       "    this.rubberband_canvas = rubberband[0];\n",
       "    this.rubberband_context = rubberband[0].getContext(\"2d\");\n",
       "    this.rubberband_context.strokeStyle = \"#000000\";\n",
       "\n",
       "    this._resize_canvas = function(width, height) {\n",
       "        // Keep the size of the canvas, canvas container, and rubber band\n",
       "        // canvas in synch.\n",
       "        canvas_div.css('width', width)\n",
       "        canvas_div.css('height', height)\n",
       "\n",
       "        canvas.attr('width', width * mpl.ratio);\n",
       "        canvas.attr('height', height * mpl.ratio);\n",
       "        canvas.attr('style', 'width: ' + width + 'px; height: ' + height + 'px;');\n",
       "\n",
       "        rubberband.attr('width', width);\n",
       "        rubberband.attr('height', height);\n",
       "    }\n",
       "\n",
       "    // Set the figure to an initial 600x600px, this will subsequently be updated\n",
       "    // upon first draw.\n",
       "    this._resize_canvas(600, 600);\n",
       "\n",
       "    // Disable right mouse context menu.\n",
       "    $(this.rubberband_canvas).bind(\"contextmenu\",function(e){\n",
       "        return false;\n",
       "    });\n",
       "\n",
       "    function set_focus () {\n",
       "        canvas.focus();\n",
       "        canvas_div.focus();\n",
       "    }\n",
       "\n",
       "    window.setTimeout(set_focus, 100);\n",
       "}\n",
       "\n",
       "mpl.figure.prototype._init_toolbar = function() {\n",
       "    var fig = this;\n",
       "\n",
       "    var nav_element = $('<div/>');\n",
       "    nav_element.attr('style', 'width: 100%');\n",
       "    this.root.append(nav_element);\n",
       "\n",
       "    // Define a callback function for later on.\n",
       "    function toolbar_event(event) {\n",
       "        return fig.toolbar_button_onclick(event['data']);\n",
       "    }\n",
       "    function toolbar_mouse_event(event) {\n",
       "        return fig.toolbar_button_onmouseover(event['data']);\n",
       "    }\n",
       "\n",
       "    for(var toolbar_ind in mpl.toolbar_items) {\n",
       "        var name = mpl.toolbar_items[toolbar_ind][0];\n",
       "        var tooltip = mpl.toolbar_items[toolbar_ind][1];\n",
       "        var image = mpl.toolbar_items[toolbar_ind][2];\n",
       "        var method_name = mpl.toolbar_items[toolbar_ind][3];\n",
       "\n",
       "        if (!name) {\n",
       "            // put a spacer in here.\n",
       "            continue;\n",
       "        }\n",
       "        var button = $('<button/>');\n",
       "        button.addClass('ui-button ui-widget ui-state-default ui-corner-all ' +\n",
       "                        'ui-button-icon-only');\n",
       "        button.attr('role', 'button');\n",
       "        button.attr('aria-disabled', 'false');\n",
       "        button.click(method_name, toolbar_event);\n",
       "        button.mouseover(tooltip, toolbar_mouse_event);\n",
       "\n",
       "        var icon_img = $('<span/>');\n",
       "        icon_img.addClass('ui-button-icon-primary ui-icon');\n",
       "        icon_img.addClass(image);\n",
       "        icon_img.addClass('ui-corner-all');\n",
       "\n",
       "        var tooltip_span = $('<span/>');\n",
       "        tooltip_span.addClass('ui-button-text');\n",
       "        tooltip_span.html(tooltip);\n",
       "\n",
       "        button.append(icon_img);\n",
       "        button.append(tooltip_span);\n",
       "\n",
       "        nav_element.append(button);\n",
       "    }\n",
       "\n",
       "    var fmt_picker_span = $('<span/>');\n",
       "\n",
       "    var fmt_picker = $('<select/>');\n",
       "    fmt_picker.addClass('mpl-toolbar-option ui-widget ui-widget-content');\n",
       "    fmt_picker_span.append(fmt_picker);\n",
       "    nav_element.append(fmt_picker_span);\n",
       "    this.format_dropdown = fmt_picker[0];\n",
       "\n",
       "    for (var ind in mpl.extensions) {\n",
       "        var fmt = mpl.extensions[ind];\n",
       "        var option = $(\n",
       "            '<option/>', {selected: fmt === mpl.default_extension}).html(fmt);\n",
       "        fmt_picker.append(option);\n",
       "    }\n",
       "\n",
       "    // Add hover states to the ui-buttons\n",
       "    $( \".ui-button\" ).hover(\n",
       "        function() { $(this).addClass(\"ui-state-hover\");},\n",
       "        function() { $(this).removeClass(\"ui-state-hover\");}\n",
       "    );\n",
       "\n",
       "    var status_bar = $('<span class=\"mpl-message\"/>');\n",
       "    nav_element.append(status_bar);\n",
       "    this.message = status_bar[0];\n",
       "}\n",
       "\n",
       "mpl.figure.prototype.request_resize = function(x_pixels, y_pixels) {\n",
       "    // Request matplotlib to resize the figure. Matplotlib will then trigger a resize in the client,\n",
       "    // which will in turn request a refresh of the image.\n",
       "    this.send_message('resize', {'width': x_pixels, 'height': y_pixels});\n",
       "}\n",
       "\n",
       "mpl.figure.prototype.send_message = function(type, properties) {\n",
       "    properties['type'] = type;\n",
       "    properties['figure_id'] = this.id;\n",
       "    this.ws.send(JSON.stringify(properties));\n",
       "}\n",
       "\n",
       "mpl.figure.prototype.send_draw_message = function() {\n",
       "    if (!this.waiting) {\n",
       "        this.waiting = true;\n",
       "        this.ws.send(JSON.stringify({type: \"draw\", figure_id: this.id}));\n",
       "    }\n",
       "}\n",
       "\n",
       "\n",
       "mpl.figure.prototype.handle_save = function(fig, msg) {\n",
       "    var format_dropdown = fig.format_dropdown;\n",
       "    var format = format_dropdown.options[format_dropdown.selectedIndex].value;\n",
       "    fig.ondownload(fig, format);\n",
       "}\n",
       "\n",
       "\n",
       "mpl.figure.prototype.handle_resize = function(fig, msg) {\n",
       "    var size = msg['size'];\n",
       "    if (size[0] != fig.canvas.width || size[1] != fig.canvas.height) {\n",
       "        fig._resize_canvas(size[0], size[1]);\n",
       "        fig.send_message(\"refresh\", {});\n",
       "    };\n",
       "}\n",
       "\n",
       "mpl.figure.prototype.handle_rubberband = function(fig, msg) {\n",
       "    var x0 = msg['x0'] / mpl.ratio;\n",
       "    var y0 = (fig.canvas.height - msg['y0']) / mpl.ratio;\n",
       "    var x1 = msg['x1'] / mpl.ratio;\n",
       "    var y1 = (fig.canvas.height - msg['y1']) / mpl.ratio;\n",
       "    x0 = Math.floor(x0) + 0.5;\n",
       "    y0 = Math.floor(y0) + 0.5;\n",
       "    x1 = Math.floor(x1) + 0.5;\n",
       "    y1 = Math.floor(y1) + 0.5;\n",
       "    var min_x = Math.min(x0, x1);\n",
       "    var min_y = Math.min(y0, y1);\n",
       "    var width = Math.abs(x1 - x0);\n",
       "    var height = Math.abs(y1 - y0);\n",
       "\n",
       "    fig.rubberband_context.clearRect(\n",
       "        0, 0, fig.canvas.width / mpl.ratio, fig.canvas.height / mpl.ratio);\n",
       "\n",
       "    fig.rubberband_context.strokeRect(min_x, min_y, width, height);\n",
       "}\n",
       "\n",
       "mpl.figure.prototype.handle_figure_label = function(fig, msg) {\n",
       "    // Updates the figure title.\n",
       "    fig.header.textContent = msg['label'];\n",
       "}\n",
       "\n",
       "mpl.figure.prototype.handle_cursor = function(fig, msg) {\n",
       "    var cursor = msg['cursor'];\n",
       "    switch(cursor)\n",
       "    {\n",
       "    case 0:\n",
       "        cursor = 'pointer';\n",
       "        break;\n",
       "    case 1:\n",
       "        cursor = 'default';\n",
       "        break;\n",
       "    case 2:\n",
       "        cursor = 'crosshair';\n",
       "        break;\n",
       "    case 3:\n",
       "        cursor = 'move';\n",
       "        break;\n",
       "    }\n",
       "    fig.rubberband_canvas.style.cursor = cursor;\n",
       "}\n",
       "\n",
       "mpl.figure.prototype.handle_message = function(fig, msg) {\n",
       "    fig.message.textContent = msg['message'];\n",
       "}\n",
       "\n",
       "mpl.figure.prototype.handle_draw = function(fig, msg) {\n",
       "    // Request the server to send over a new figure.\n",
       "    fig.send_draw_message();\n",
       "}\n",
       "\n",
       "mpl.figure.prototype.handle_image_mode = function(fig, msg) {\n",
       "    fig.image_mode = msg['mode'];\n",
       "}\n",
       "\n",
       "mpl.figure.prototype.updated_canvas_event = function() {\n",
       "    // Called whenever the canvas gets updated.\n",
       "    this.send_message(\"ack\", {});\n",
       "}\n",
       "\n",
       "// A function to construct a web socket function for onmessage handling.\n",
       "// Called in the figure constructor.\n",
       "mpl.figure.prototype._make_on_message_function = function(fig) {\n",
       "    return function socket_on_message(evt) {\n",
       "        if (evt.data instanceof Blob) {\n",
       "            /* FIXME: We get \"Resource interpreted as Image but\n",
       "             * transferred with MIME type text/plain:\" errors on\n",
       "             * Chrome.  But how to set the MIME type?  It doesn't seem\n",
       "             * to be part of the websocket stream */\n",
       "            evt.data.type = \"image/png\";\n",
       "\n",
       "            /* Free the memory for the previous frames */\n",
       "            if (fig.imageObj.src) {\n",
       "                (window.URL || window.webkitURL).revokeObjectURL(\n",
       "                    fig.imageObj.src);\n",
       "            }\n",
       "\n",
       "            fig.imageObj.src = (window.URL || window.webkitURL).createObjectURL(\n",
       "                evt.data);\n",
       "            fig.updated_canvas_event();\n",
       "            fig.waiting = false;\n",
       "            return;\n",
       "        }\n",
       "        else if (typeof evt.data === 'string' && evt.data.slice(0, 21) == \"data:image/png;base64\") {\n",
       "            fig.imageObj.src = evt.data;\n",
       "            fig.updated_canvas_event();\n",
       "            fig.waiting = false;\n",
       "            return;\n",
       "        }\n",
       "\n",
       "        var msg = JSON.parse(evt.data);\n",
       "        var msg_type = msg['type'];\n",
       "\n",
       "        // Call the  \"handle_{type}\" callback, which takes\n",
       "        // the figure and JSON message as its only arguments.\n",
       "        try {\n",
       "            var callback = fig[\"handle_\" + msg_type];\n",
       "        } catch (e) {\n",
       "            console.log(\"No handler for the '\" + msg_type + \"' message type: \", msg);\n",
       "            return;\n",
       "        }\n",
       "\n",
       "        if (callback) {\n",
       "            try {\n",
       "                // console.log(\"Handling '\" + msg_type + \"' message: \", msg);\n",
       "                callback(fig, msg);\n",
       "            } catch (e) {\n",
       "                console.log(\"Exception inside the 'handler_\" + msg_type + \"' callback:\", e, e.stack, msg);\n",
       "            }\n",
       "        }\n",
       "    };\n",
       "}\n",
       "\n",
       "// from http://stackoverflow.com/questions/1114465/getting-mouse-location-in-canvas\n",
       "mpl.findpos = function(e) {\n",
       "    //this section is from http://www.quirksmode.org/js/events_properties.html\n",
       "    var targ;\n",
       "    if (!e)\n",
       "        e = window.event;\n",
       "    if (e.target)\n",
       "        targ = e.target;\n",
       "    else if (e.srcElement)\n",
       "        targ = e.srcElement;\n",
       "    if (targ.nodeType == 3) // defeat Safari bug\n",
       "        targ = targ.parentNode;\n",
       "\n",
       "    // jQuery normalizes the pageX and pageY\n",
       "    // pageX,Y are the mouse positions relative to the document\n",
       "    // offset() returns the position of the element relative to the document\n",
       "    var x = e.pageX - $(targ).offset().left;\n",
       "    var y = e.pageY - $(targ).offset().top;\n",
       "\n",
       "    return {\"x\": x, \"y\": y};\n",
       "};\n",
       "\n",
       "/*\n",
       " * return a copy of an object with only non-object keys\n",
       " * we need this to avoid circular references\n",
       " * http://stackoverflow.com/a/24161582/3208463\n",
       " */\n",
       "function simpleKeys (original) {\n",
       "  return Object.keys(original).reduce(function (obj, key) {\n",
       "    if (typeof original[key] !== 'object')\n",
       "        obj[key] = original[key]\n",
       "    return obj;\n",
       "  }, {});\n",
       "}\n",
       "\n",
       "mpl.figure.prototype.mouse_event = function(event, name) {\n",
       "    var canvas_pos = mpl.findpos(event)\n",
       "\n",
       "    if (name === 'button_press')\n",
       "    {\n",
       "        this.canvas.focus();\n",
       "        this.canvas_div.focus();\n",
       "    }\n",
       "\n",
       "    var x = canvas_pos.x * mpl.ratio;\n",
       "    var y = canvas_pos.y * mpl.ratio;\n",
       "\n",
       "    this.send_message(name, {x: x, y: y, button: event.button,\n",
       "                             step: event.step,\n",
       "                             guiEvent: simpleKeys(event)});\n",
       "\n",
       "    /* This prevents the web browser from automatically changing to\n",
       "     * the text insertion cursor when the button is pressed.  We want\n",
       "     * to control all of the cursor setting manually through the\n",
       "     * 'cursor' event from matplotlib */\n",
       "    event.preventDefault();\n",
       "    return false;\n",
       "}\n",
       "\n",
       "mpl.figure.prototype._key_event_extra = function(event, name) {\n",
       "    // Handle any extra behaviour associated with a key event\n",
       "}\n",
       "\n",
       "mpl.figure.prototype.key_event = function(event, name) {\n",
       "\n",
       "    // Prevent repeat events\n",
       "    if (name == 'key_press')\n",
       "    {\n",
       "        if (event.which === this._key)\n",
       "            return;\n",
       "        else\n",
       "            this._key = event.which;\n",
       "    }\n",
       "    if (name == 'key_release')\n",
       "        this._key = null;\n",
       "\n",
       "    var value = '';\n",
       "    if (event.ctrlKey && event.which != 17)\n",
       "        value += \"ctrl+\";\n",
       "    if (event.altKey && event.which != 18)\n",
       "        value += \"alt+\";\n",
       "    if (event.shiftKey && event.which != 16)\n",
       "        value += \"shift+\";\n",
       "\n",
       "    value += 'k';\n",
       "    value += event.which.toString();\n",
       "\n",
       "    this._key_event_extra(event, name);\n",
       "\n",
       "    this.send_message(name, {key: value,\n",
       "                             guiEvent: simpleKeys(event)});\n",
       "    return false;\n",
       "}\n",
       "\n",
       "mpl.figure.prototype.toolbar_button_onclick = function(name) {\n",
       "    if (name == 'download') {\n",
       "        this.handle_save(this, null);\n",
       "    } else {\n",
       "        this.send_message(\"toolbar_button\", {name: name});\n",
       "    }\n",
       "};\n",
       "\n",
       "mpl.figure.prototype.toolbar_button_onmouseover = function(tooltip) {\n",
       "    this.message.textContent = tooltip;\n",
       "};\n",
       "mpl.toolbar_items = [[\"Home\", \"Reset original view\", \"fa fa-home icon-home\", \"home\"], [\"Back\", \"Back to previous view\", \"fa fa-arrow-left icon-arrow-left\", \"back\"], [\"Forward\", \"Forward to next view\", \"fa fa-arrow-right icon-arrow-right\", \"forward\"], [\"\", \"\", \"\", \"\"], [\"Pan\", \"Pan axes with left mouse, zoom with right\", \"fa fa-arrows icon-move\", \"pan\"], [\"Zoom\", \"Zoom to rectangle\", \"fa fa-square-o icon-check-empty\", \"zoom\"], [\"\", \"\", \"\", \"\"], [\"Download\", \"Download plot\", \"fa fa-floppy-o icon-save\", \"download\"]];\n",
       "\n",
       "mpl.extensions = [\"eps\", \"jpeg\", \"pdf\", \"png\", \"ps\", \"raw\", \"svg\", \"tif\"];\n",
       "\n",
       "mpl.default_extension = \"png\";var comm_websocket_adapter = function(comm) {\n",
       "    // Create a \"websocket\"-like object which calls the given IPython comm\n",
       "    // object with the appropriate methods. Currently this is a non binary\n",
       "    // socket, so there is still some room for performance tuning.\n",
       "    var ws = {};\n",
       "\n",
       "    ws.close = function() {\n",
       "        comm.close()\n",
       "    };\n",
       "    ws.send = function(m) {\n",
       "        //console.log('sending', m);\n",
       "        comm.send(m);\n",
       "    };\n",
       "    // Register the callback with on_msg.\n",
       "    comm.on_msg(function(msg) {\n",
       "        //console.log('receiving', msg['content']['data'], msg);\n",
       "        // Pass the mpl event to the overridden (by mpl) onmessage function.\n",
       "        ws.onmessage(msg['content']['data'])\n",
       "    });\n",
       "    return ws;\n",
       "}\n",
       "\n",
       "mpl.mpl_figure_comm = function(comm, msg) {\n",
       "    // This is the function which gets called when the mpl process\n",
       "    // starts-up an IPython Comm through the \"matplotlib\" channel.\n",
       "\n",
       "    var id = msg.content.data.id;\n",
       "    // Get hold of the div created by the display call when the Comm\n",
       "    // socket was opened in Python.\n",
       "    var element = $(\"#\" + id);\n",
       "    var ws_proxy = comm_websocket_adapter(comm)\n",
       "\n",
       "    function ondownload(figure, format) {\n",
       "        window.open(figure.imageObj.src);\n",
       "    }\n",
       "\n",
       "    var fig = new mpl.figure(id, ws_proxy,\n",
       "                           ondownload,\n",
       "                           element.get(0));\n",
       "\n",
       "    // Call onopen now - mpl needs it, as it is assuming we've passed it a real\n",
       "    // web socket which is closed, not our websocket->open comm proxy.\n",
       "    ws_proxy.onopen();\n",
       "\n",
       "    fig.parent_element = element.get(0);\n",
       "    fig.cell_info = mpl.find_output_cell(\"<div id='\" + id + \"'></div>\");\n",
       "    if (!fig.cell_info) {\n",
       "        console.error(\"Failed to find cell for figure\", id, fig);\n",
       "        return;\n",
       "    }\n",
       "\n",
       "    var output_index = fig.cell_info[2]\n",
       "    var cell = fig.cell_info[0];\n",
       "\n",
       "};\n",
       "\n",
       "mpl.figure.prototype.handle_close = function(fig, msg) {\n",
       "    var width = fig.canvas.width/mpl.ratio\n",
       "    fig.root.unbind('remove')\n",
       "\n",
       "    // Update the output cell to use the data from the current canvas.\n",
       "    fig.push_to_output();\n",
       "    var dataURL = fig.canvas.toDataURL();\n",
       "    // Re-enable the keyboard manager in IPython - without this line, in FF,\n",
       "    // the notebook keyboard shortcuts fail.\n",
       "    IPython.keyboard_manager.enable()\n",
       "    $(fig.parent_element).html('<img src=\"' + dataURL + '\" width=\"' + width + '\">');\n",
       "    fig.close_ws(fig, msg);\n",
       "}\n",
       "\n",
       "mpl.figure.prototype.close_ws = function(fig, msg){\n",
       "    fig.send_message('closing', msg);\n",
       "    // fig.ws.close()\n",
       "}\n",
       "\n",
       "mpl.figure.prototype.push_to_output = function(remove_interactive) {\n",
       "    // Turn the data on the canvas into data in the output cell.\n",
       "    var width = this.canvas.width/mpl.ratio\n",
       "    var dataURL = this.canvas.toDataURL();\n",
       "    this.cell_info[1]['text/html'] = '<img src=\"' + dataURL + '\" width=\"' + width + '\">';\n",
       "}\n",
       "\n",
       "mpl.figure.prototype.updated_canvas_event = function() {\n",
       "    // Tell IPython that the notebook contents must change.\n",
       "    IPython.notebook.set_dirty(true);\n",
       "    this.send_message(\"ack\", {});\n",
       "    var fig = this;\n",
       "    // Wait a second, then push the new image to the DOM so\n",
       "    // that it is saved nicely (might be nice to debounce this).\n",
       "    setTimeout(function () { fig.push_to_output() }, 1000);\n",
       "}\n",
       "\n",
       "mpl.figure.prototype._init_toolbar = function() {\n",
       "    var fig = this;\n",
       "\n",
       "    var nav_element = $('<div/>');\n",
       "    nav_element.attr('style', 'width: 100%');\n",
       "    this.root.append(nav_element);\n",
       "\n",
       "    // Define a callback function for later on.\n",
       "    function toolbar_event(event) {\n",
       "        return fig.toolbar_button_onclick(event['data']);\n",
       "    }\n",
       "    function toolbar_mouse_event(event) {\n",
       "        return fig.toolbar_button_onmouseover(event['data']);\n",
       "    }\n",
       "\n",
       "    for(var toolbar_ind in mpl.toolbar_items){\n",
       "        var name = mpl.toolbar_items[toolbar_ind][0];\n",
       "        var tooltip = mpl.toolbar_items[toolbar_ind][1];\n",
       "        var image = mpl.toolbar_items[toolbar_ind][2];\n",
       "        var method_name = mpl.toolbar_items[toolbar_ind][3];\n",
       "\n",
       "        if (!name) { continue; };\n",
       "\n",
       "        var button = $('<button class=\"btn btn-default\" href=\"#\" title=\"' + name + '\"><i class=\"fa ' + image + ' fa-lg\"></i></button>');\n",
       "        button.click(method_name, toolbar_event);\n",
       "        button.mouseover(tooltip, toolbar_mouse_event);\n",
       "        nav_element.append(button);\n",
       "    }\n",
       "\n",
       "    // Add the status bar.\n",
       "    var status_bar = $('<span class=\"mpl-message\" style=\"text-align:right; float: right;\"/>');\n",
       "    nav_element.append(status_bar);\n",
       "    this.message = status_bar[0];\n",
       "\n",
       "    // Add the close button to the window.\n",
       "    var buttongrp = $('<div class=\"btn-group inline pull-right\"></div>');\n",
       "    var button = $('<button class=\"btn btn-mini btn-primary\" href=\"#\" title=\"Stop Interaction\"><i class=\"fa fa-power-off icon-remove icon-large\"></i></button>');\n",
       "    button.click(function (evt) { fig.handle_close(fig, {}); } );\n",
       "    button.mouseover('Stop Interaction', toolbar_mouse_event);\n",
       "    buttongrp.append(button);\n",
       "    var titlebar = this.root.find($('.ui-dialog-titlebar'));\n",
       "    titlebar.prepend(buttongrp);\n",
       "}\n",
       "\n",
       "mpl.figure.prototype._root_extra_style = function(el){\n",
       "    var fig = this\n",
       "    el.on(\"remove\", function(){\n",
       "\tfig.close_ws(fig, {});\n",
       "    });\n",
       "}\n",
       "\n",
       "mpl.figure.prototype._canvas_extra_style = function(el){\n",
       "    // this is important to make the div 'focusable\n",
       "    el.attr('tabindex', 0)\n",
       "    // reach out to IPython and tell the keyboard manager to turn it's self\n",
       "    // off when our div gets focus\n",
       "\n",
       "    // location in version 3\n",
       "    if (IPython.notebook.keyboard_manager) {\n",
       "        IPython.notebook.keyboard_manager.register_events(el);\n",
       "    }\n",
       "    else {\n",
       "        // location in version 2\n",
       "        IPython.keyboard_manager.register_events(el);\n",
       "    }\n",
       "\n",
       "}\n",
       "\n",
       "mpl.figure.prototype._key_event_extra = function(event, name) {\n",
       "    var manager = IPython.notebook.keyboard_manager;\n",
       "    if (!manager)\n",
       "        manager = IPython.keyboard_manager;\n",
       "\n",
       "    // Check for shift+enter\n",
       "    if (event.shiftKey && event.which == 13) {\n",
       "        this.canvas_div.blur();\n",
       "        // select the cell after this one\n",
       "        var index = IPython.notebook.find_cell_index(this.cell_info[0]);\n",
       "        IPython.notebook.select(index + 1);\n",
       "    }\n",
       "}\n",
       "\n",
       "mpl.figure.prototype.handle_save = function(fig, msg) {\n",
       "    fig.ondownload(fig, null);\n",
       "}\n",
       "\n",
       "\n",
       "mpl.find_output_cell = function(html_output) {\n",
       "    // Return the cell and output element which can be found *uniquely* in the notebook.\n",
       "    // Note - this is a bit hacky, but it is done because the \"notebook_saving.Notebook\"\n",
       "    // IPython event is triggered only after the cells have been serialised, which for\n",
       "    // our purposes (turning an active figure into a static one), is too late.\n",
       "    var cells = IPython.notebook.get_cells();\n",
       "    var ncells = cells.length;\n",
       "    for (var i=0; i<ncells; i++) {\n",
       "        var cell = cells[i];\n",
       "        if (cell.cell_type === 'code'){\n",
       "            for (var j=0; j<cell.output_area.outputs.length; j++) {\n",
       "                var data = cell.output_area.outputs[j];\n",
       "                if (data.data) {\n",
       "                    // IPython >= 3 moved mimebundle to data attribute of output\n",
       "                    data = data.data;\n",
       "                }\n",
       "                if (data['text/html'] == html_output) {\n",
       "                    return [cell, data, j];\n",
       "                }\n",
       "            }\n",
       "        }\n",
       "    }\n",
       "}\n",
       "\n",
       "// Register the function which deals with the matplotlib target/channel.\n",
       "// The kernel may be null if the page has been refreshed.\n",
       "if (IPython.notebook.kernel != null) {\n",
       "    IPython.notebook.kernel.comm_manager.register_target('matplotlib', mpl.mpl_figure_comm);\n",
       "}\n"
      ],
      "text/plain": [
       "<IPython.core.display.Javascript object>"
      ]
     },
     "metadata": {},
     "output_type": "display_data"
    },
    {
     "data": {
      "text/html": [
       "<img src=\"data:image/png;base64,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\" width=\"640\">"
      ],
      "text/plain": [
       "<IPython.core.display.HTML object>"
      ]
     },
     "metadata": {},
     "output_type": "display_data"
    },
    {
     "name": "stdout",
     "output_type": "stream",
     "text": [
      "[0, 85, 171, 256, 341, 427, 512]\n",
      "['0', '85', '171', '256', '341', '427', '512']\n"
     ]
    },
    {
     "data": {
      "text/plain": [
       "<function matplotlib.pyplot.show(*args, **kw)>"
      ]
     },
     "execution_count": 203,
     "metadata": {},
     "output_type": "execute_result"
    }
   ],
   "source": [
    "# create an equally spaced array of numbers starting from 0\n",
    "k = np.arange(512)\n",
    "y = np.linspace(0, 511, 512)\n",
    "\n",
    "for i in k:\n",
    "    Pk = Probability(i)\n",
    "    y[i] = Pk\n",
    "#    print(i,y[i])\n",
    "    \n",
    "# evaluate a function at each point in x and create a corresponding array\n",
    "#Pk = Probability(k)\n",
    "\n",
    "plt.figure()\n",
    "#plt.plot(x,y, color='green', linestyle='dashed', marker='o',markerfacecolor='blue', markersize=12, label=r'$2^{x} mod(21)$')\n",
    "plt.plot(k,y, color='green', linestyle='dashed', marker='o',markerfacecolor='blue', markersize=4)\n",
    "plt.grid()\n",
    "plt.xlabel(r'$k$')\n",
    "plt.ylabel(r'$\\mathrm{P}\\,(k)$')\n",
    "#plt.legend(loc='upper right')\n",
    "\n",
    "ax = plt.gca()\n",
    "xtick_marks=[0,85,171,256,341,427,512]\n",
    "xtick_labels=[\"0\",\"85\",\"171\",\"256\",\"341\",\"427\",\"512\"]\n",
    "\n",
    "print(xtick_marks)\n",
    "print(xtick_labels)\n",
    "\n",
    "ax.set_xticks(xtick_marks)\n",
    "ax.set_xticklabels(xtick_labels)\n",
    "\n",
    "plt.show"
   ]
  },
  {
   "cell_type": "markdown",
   "metadata": {
    "id": "B5qwjO1sZddh"
   },
   "source": [
    "# This is the end of our first jupyter notebook : finally!#"
   ]
  },
  {
   "cell_type": "code",
   "execution_count": 204,
   "metadata": {
    "id": "EAEuGuihZddh",
    "outputId": "9ab183e4-b6ea-496b-e65a-595b9bfc5adf"
   },
   "outputs": [
    {
     "data": {
      "text/plain": [
       "[78,\n",
       " 101,\n",
       " 108,\n",
       " 32,\n",
       " 109,\n",
       " 101,\n",
       " 122,\n",
       " 122,\n",
       " 111,\n",
       " 32,\n",
       " 100,\n",
       " 101,\n",
       " 108,\n",
       " 32,\n",
       " 99,\n",
       " 97,\n",
       " 109,\n",
       " 109,\n",
       " 105,\n",
       " 110,\n",
       " 32,\n",
       " 100,\n",
       " 105,\n",
       " 32,\n",
       " 110,\n",
       " 111,\n",
       " 115,\n",
       " 116,\n",
       " 114,\n",
       " 97,\n",
       " 32,\n",
       " 118,\n",
       " 105,\n",
       " 116,\n",
       " 97]"
      ]
     },
     "execution_count": 204,
     "metadata": {},
     "output_type": "execute_result"
    }
   ],
   "source": [
    "s = 'Nel mezzo del cammin di nostra vita'\n",
    "asciiarray = [ord(c) for c in s]\n",
    "asciiarray"
   ]
  },
  {
   "cell_type": "code",
   "execution_count": 205,
   "metadata": {
    "id": "ciHAmUbfZddh",
    "outputId": "12ce6eaf-72ba-46b6-c200-b81ba9b83eba"
   },
   "outputs": [
    {
     "data": {
      "text/plain": [
       "'7810110832109101122122111321001011083299971091091051103210010532110111115116114973211810511697'"
      ]
     },
     "execution_count": 205,
     "metadata": {},
     "output_type": "execute_result"
    }
   ],
   "source": [
    "import functools\n",
    "functools.reduce(lambda x, y: str(x)+str(y), map(ord,s))"
   ]
  },
  {
   "cell_type": "code",
   "execution_count": 206,
   "metadata": {
    "id": "cUjDnDrQZddi"
   },
   "outputs": [],
   "source": [
    "get_bin = lambda x, n: format(x, 'b').zfill(n)"
   ]
  },
  {
   "cell_type": "code",
   "execution_count": 207,
   "metadata": {
    "id": "Q5HuveunZddi",
    "outputId": "9cb75d31-e839-4009-eebb-b046718d0931"
   },
   "outputs": [
    {
     "data": {
      "text/plain": [
       "'01100101'"
      ]
     },
     "execution_count": 207,
     "metadata": {},
     "output_type": "execute_result"
    }
   ],
   "source": [
    "get_bin8 = lambda x: format(x, 'b').zfill(8)\n",
    "c=asciiarray[1]\n",
    "c\n",
    "get_bin8(c)"
   ]
  },
  {
   "cell_type": "code",
   "execution_count": 208,
   "metadata": {
    "id": "qnKQAv5PZddi"
   },
   "outputs": [],
   "source": [
    "binaryarray = [get_bin(c,8) for c in asciiarray]"
   ]
  },
  {
   "cell_type": "code",
   "execution_count": 209,
   "metadata": {
    "id": "O_j7wFlZZddi"
   },
   "outputs": [],
   "source": [
    "binaryarray8 = [get_bin8(c) for c in asciiarray]"
   ]
  },
  {
   "cell_type": "code",
   "execution_count": 210,
   "metadata": {
    "id": "nlKrS9dBZddi",
    "outputId": "f77655cc-354b-4b6f-b924-a75a40d24d2b"
   },
   "outputs": [
    {
     "data": {
      "text/plain": [
       "['01001110',\n",
       " '01100101',\n",
       " '01101100',\n",
       " '00100000',\n",
       " '01101101',\n",
       " '01100101',\n",
       " '01111010',\n",
       " '01111010',\n",
       " '01101111',\n",
       " '00100000',\n",
       " '01100100',\n",
       " '01100101',\n",
       " '01101100',\n",
       " '00100000',\n",
       " '01100011',\n",
       " '01100001',\n",
       " '01101101',\n",
       " '01101101',\n",
       " '01101001',\n",
       " '01101110',\n",
       " '00100000',\n",
       " '01100100',\n",
       " '01101001',\n",
       " '00100000',\n",
       " '01101110',\n",
       " '01101111',\n",
       " '01110011',\n",
       " '01110100',\n",
       " '01110010',\n",
       " '01100001',\n",
       " '00100000',\n",
       " '01110110',\n",
       " '01101001',\n",
       " '01110100',\n",
       " '01100001']"
      ]
     },
     "execution_count": 210,
     "metadata": {},
     "output_type": "execute_result"
    }
   ],
   "source": [
    "binaryarray8"
   ]
  },
  {
   "cell_type": "code",
   "execution_count": null,
   "metadata": {
    "id": "IyUkwwf6Zddj"
   },
   "outputs": [],
   "source": []
  }
 ],
 "metadata": {
  "colab": {
   "name": "IntroPython-1_GES.ipynb",
   "provenance": []
  },
  "kernelspec": {
   "display_name": "Python 3 (ipykernel)",
   "language": "python",
   "name": "python3"
  },
  "language_info": {
   "codemirror_mode": {
    "name": "ipython",
    "version": 3
   },
   "file_extension": ".py",
   "mimetype": "text/x-python",
   "name": "python",
   "nbconvert_exporter": "python",
   "pygments_lexer": "ipython3",
   "version": "3.10.8"
  }
 },
 "nbformat": 4,
 "nbformat_minor": 1
}
